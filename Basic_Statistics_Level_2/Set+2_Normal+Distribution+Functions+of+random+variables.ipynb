{
 "cells": [
  {
   "cell_type": "code",
   "execution_count": 37,
   "id": "905ab90c",
   "metadata": {},
   "outputs": [],
   "source": [
    "import pandas as pd\n",
    "import numpy as np\n",
    "from scipy import stats"
   ]
  },
  {
   "cell_type": "markdown",
   "id": "7822d8d9",
   "metadata": {},
   "source": [
    "## Oue 1"
   ]
  },
  {
   "cell_type": "code",
   "execution_count": 2,
   "id": "5dc3459f",
   "metadata": {},
   "outputs": [
    {
     "data": {
      "text/plain": [
       "0.26598552904870054"
      ]
     },
     "execution_count": 2,
     "metadata": {},
     "output_type": "execute_result"
    }
   ],
   "source": [
    "# Pr(X<50)\n",
    "1-stats.norm.cdf(50,loc = 45,scale = 8)"
   ]
  },
  {
   "cell_type": "markdown",
   "id": "bcdc7ed1",
   "metadata": {},
   "source": [
    "## Oue 2"
   ]
  },
  {
   "cell_type": "code",
   "execution_count": 3,
   "id": "39b86bb3",
   "metadata": {},
   "outputs": [
    {
     "name": "stdout",
     "output_type": "stream",
     "text": [
      "0.8413447460685429 0.3413447460685429\n"
     ]
    }
   ],
   "source": [
    "# Pr(X<38) and Pr(X<44)\n",
    "pr_38 = stats.norm.cdf(38,loc = 38,scale = 6)\n",
    "pr_44 = stats.norm.cdf(44,loc= 38,scale = 6)\n",
    "#Pr(38<X<44)\n",
    "print(pr_44,pr_44-pr_38)"
   ]
  },
  {
   "cell_type": "code",
   "execution_count": 4,
   "id": "80feae01",
   "metadata": {},
   "outputs": [
    {
     "data": {
      "text/plain": [
       "0.15865525393145707"
      ]
     },
     "execution_count": 4,
     "metadata": {},
     "output_type": "execute_result"
    }
   ],
   "source": [
    "# Pr(x>44)\n",
    "1-pr_44"
   ]
  },
  {
   "cell_type": "code",
   "execution_count": 5,
   "id": "f8b8a013",
   "metadata": {},
   "outputs": [
    {
     "data": {
      "text/plain": [
       "0.09121121972586788"
      ]
     },
     "execution_count": 5,
     "metadata": {},
     "output_type": "execute_result"
    }
   ],
   "source": [
    "pr_30 = stats.norm.cdf(30,loc = 38,scale = 6)\n",
    "pr_30"
   ]
  },
  {
   "cell_type": "code",
   "execution_count": 6,
   "id": "7819a96f",
   "metadata": {},
   "outputs": [
    {
     "data": {
      "text/plain": [
       "36.48"
      ]
     },
     "execution_count": 6,
     "metadata": {},
     "output_type": "execute_result"
    }
   ],
   "source": [
    "(400*9.12)/100"
   ]
  },
  {
   "cell_type": "markdown",
   "id": "49e4b2de",
   "metadata": {},
   "source": [
    "## Que 4"
   ]
  },
  {
   "cell_type": "code",
   "execution_count": 7,
   "id": "d5406dc3",
   "metadata": {},
   "outputs": [
    {
     "data": {
      "text/plain": [
       "(48.48341392902199, 151.516586070978)"
      ]
     },
     "execution_count": 7,
     "metadata": {},
     "output_type": "execute_result"
    }
   ],
   "source": [
    "# Confidence interval for 99% confidence level\n",
    "stats.norm.interval(0.99,loc= 100,scale= 20)"
   ]
  },
  {
   "cell_type": "markdown",
   "id": "da4e5d43",
   "metadata": {},
   "source": [
    "## Que 5"
   ]
  },
  {
   "cell_type": "code",
   "execution_count": 16,
   "id": "df5e5538",
   "metadata": {},
   "outputs": [
    {
     "data": {
      "text/plain": [
       "(2.2001800772997306, 21.79981992270027)"
      ]
     },
     "execution_count": 16,
     "metadata": {},
     "output_type": "execute_result"
    }
   ],
   "source": [
    "# Confidence interval for total profit\n",
    "ci = stats.norm.interval(0.95,12,5)\n",
    "ci"
   ]
  },
  {
   "cell_type": "code",
   "execution_count": 30,
   "id": "c8e081ac",
   "metadata": {},
   "outputs": [],
   "source": [
    "ci_in_rupee =(2.2001800772997306*45,21.79981992270027*45)"
   ]
  },
  {
   "cell_type": "code",
   "execution_count": 43,
   "id": "6df3499d",
   "metadata": {},
   "outputs": [
    {
     "name": "stdout",
     "output_type": "stream",
     "text": [
      "[ 99.0081 980.9919]\n"
     ]
    }
   ],
   "source": [
    "print(np.round(ci_in_rupee,4))"
   ]
  },
  {
   "cell_type": "markdown",
   "id": "73a3a507",
   "metadata": {},
   "source": [
    "#### A. Range of the annual profit in Million Rupees is (99.0081, 980.9919)"
   ]
  },
  {
   "cell_type": "code",
   "execution_count": 59,
   "id": "0bc4b2d1",
   "metadata": {},
   "outputs": [
    {
     "data": {
      "text/plain": [
       "3.7757318652426353"
      ]
     },
     "execution_count": 59,
     "metadata": {},
     "output_type": "execute_result"
    }
   ],
   "source": [
    "stats.norm.ppf(.05,12,5)"
   ]
  },
  {
   "cell_type": "code",
   "execution_count": 62,
   "id": "b7924377",
   "metadata": {},
   "outputs": [
    {
     "data": {
      "text/plain": [
       "169.90793393591858"
      ]
     },
     "execution_count": 62,
     "metadata": {},
     "output_type": "execute_result"
    }
   ],
   "source": [
    "3.7757318652426353*45"
   ]
  },
  {
   "cell_type": "markdown",
   "id": "8a058908",
   "metadata": {},
   "source": [
    "#### B.The 5th percentile of profit is 169.908 Million Rupees"
   ]
  },
  {
   "cell_type": "code",
   "execution_count": 40,
   "id": "fa37f7a9",
   "metadata": {},
   "outputs": [
    {
     "data": {
      "text/plain": [
       "0.0477903522728147"
      ]
     },
     "execution_count": 40,
     "metadata": {},
     "output_type": "execute_result"
    }
   ],
   "source": [
    "# Probability that the first division makes a loss is p1.\n",
    "p1 = stats.norm.cdf(0,5,3)\n",
    "p1"
   ]
  },
  {
   "cell_type": "code",
   "execution_count": 41,
   "id": "f9b8294d",
   "metadata": {},
   "outputs": [
    {
     "data": {
      "text/plain": [
       "0.040059156863817086"
      ]
     },
     "execution_count": 41,
     "metadata": {},
     "output_type": "execute_result"
    }
   ],
   "source": [
    "# Probability that the second division makes a loss is p2.\n",
    "p2 = stats.norm.cdf(0,7,4)\n",
    "p2"
   ]
  },
  {
   "cell_type": "markdown",
   "id": "08b541a5",
   "metadata": {},
   "source": [
    "#### C. From p1 and p2, it is clear that first division has larger probability of making a loss."
   ]
  },
  {
   "cell_type": "code",
   "execution_count": null,
   "id": "403ce819",
   "metadata": {},
   "outputs": [],
   "source": []
  }
 ],
 "metadata": {
  "kernelspec": {
   "display_name": "Python 3 (ipykernel)",
   "language": "python",
   "name": "python3"
  },
  "language_info": {
   "codemirror_mode": {
    "name": "ipython",
    "version": 3
   },
   "file_extension": ".py",
   "mimetype": "text/x-python",
   "name": "python",
   "nbconvert_exporter": "python",
   "pygments_lexer": "ipython3",
   "version": "3.9.7"
  }
 },
 "nbformat": 4,
 "nbformat_minor": 5
}
