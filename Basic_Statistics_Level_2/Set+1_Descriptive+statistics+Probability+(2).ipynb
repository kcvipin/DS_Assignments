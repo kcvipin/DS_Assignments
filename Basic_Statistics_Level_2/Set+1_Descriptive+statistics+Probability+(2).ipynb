{
 "cells": [
  {
   "cell_type": "code",
   "execution_count": null,
   "id": "6686a40f",
   "metadata": {},
   "outputs": [],
   "source": [
    "import pandas as pd\n",
    "import numpy as np\n",
    "import seaborn as sns\n",
    "import matplotlib.pyplot as plt"
   ]
  },
  {
   "cell_type": "markdown",
   "id": "f7e2975f",
   "metadata": {},
   "source": [
    "## Que 1"
   ]
  },
  {
   "cell_type": "code",
   "execution_count": null,
   "id": "f6a099a1",
   "metadata": {},
   "outputs": [],
   "source": [
    "data = pd.DataFrame()"
   ]
  },
  {
   "cell_type": "code",
   "execution_count": null,
   "id": "dc11b85a",
   "metadata": {},
   "outputs": [],
   "source": [
    "data['Name of Company'] = ['Allied Signal','Bankers Trust','General Mills','ITT Industries',\n",
    "                          'J.P.Morgan & Co.','Lehman Brothers','Marriott','MCI','Merrill Lynch',\n",
    "                          'Microsoft','Morgan Stanley','Sun Microsystems','Travelers','US Airways'\n",
    "                          ,'Warner-Lambert']"
   ]
  },
  {
   "cell_type": "code",
   "execution_count": null,
   "id": "58c2033f",
   "metadata": {},
   "outputs": [],
   "source": [
    "data['Measure X(in percentage)'] = [24.23,25.53,25.41,24.14,29.62,28.25,25.81,24.39,40.26,32.95,91.36,25.99,39.42,26.71,35.00]\n"
   ]
  },
  {
   "cell_type": "code",
   "execution_count": null,
   "id": "cb9de43e",
   "metadata": {},
   "outputs": [],
   "source": [
    "data.set_index('Name of Company')"
   ]
  },
  {
   "cell_type": "code",
   "execution_count": null,
   "id": "c59b45cc",
   "metadata": {},
   "outputs": [],
   "source": [
    "plt.boxplot(data['Measure X'])\n",
    "plt.title('Boxplot for Measure X')"
   ]
  },
  {
   "cell_type": "code",
   "execution_count": null,
   "id": "f5d509ea",
   "metadata": {},
   "outputs": [],
   "source": [
    "data.describe()"
   ]
  },
  {
   "cell_type": "code",
   "execution_count": null,
   "id": "1e7b1857",
   "metadata": {},
   "outputs": [],
   "source": [
    "round(data['Measure X'].var(),2)"
   ]
  },
  {
   "cell_type": "markdown",
   "id": "d9e788ca",
   "metadata": {},
   "source": [
    "#### 91.36% is the outlier.\n",
    "#### mean = 33.27\n",
    "#### standard deviation = 16.94\n",
    "#### Variance = 287.15"
   ]
  },
  {
   "cell_type": "markdown",
   "id": "af3b9208",
   "metadata": {},
   "source": [
    "## Que 4"
   ]
  },
  {
   "cell_type": "code",
   "execution_count": null,
   "id": "d784305f",
   "metadata": {},
   "outputs": [],
   "source": [
    "from scipy import stats\n"
   ]
  },
  {
   "cell_type": "code",
   "execution_count": null,
   "id": "94d8bc53",
   "metadata": {},
   "outputs": [],
   "source": [
    "n = 5\n",
    "x = 1\n",
    "p = 1/200"
   ]
  },
  {
   "cell_type": "code",
   "execution_count": null,
   "id": "efd20617",
   "metadata": {},
   "outputs": [],
   "source": [
    "# Calculating the probability \n",
    "\n",
    "prob = round(stats.binom.pmf(x,n,p),4)\n",
    "\n",
    "prob"
   ]
  },
  {
   "cell_type": "code",
   "execution_count": null,
   "id": "afa7fdf8",
   "metadata": {},
   "outputs": [],
   "source": []
  }
 ],
 "metadata": {
  "kernelspec": {
   "display_name": "Python 3 (ipykernel)",
   "language": "python",
   "name": "python3"
  },
  "language_info": {
   "codemirror_mode": {
    "name": "ipython",
    "version": 3
   },
   "file_extension": ".py",
   "mimetype": "text/x-python",
   "name": "python",
   "nbconvert_exporter": "python",
   "pygments_lexer": "ipython3",
   "version": "3.9.7"
  }
 },
 "nbformat": 4,
 "nbformat_minor": 5
}
