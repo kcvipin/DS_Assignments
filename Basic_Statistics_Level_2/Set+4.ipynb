{
 "cells": [
  {
   "cell_type": "markdown",
   "id": "1763b489",
   "metadata": {},
   "source": [
    "## Que 3"
   ]
  },
  {
   "cell_type": "code",
   "execution_count": 19,
   "id": "290b254b",
   "metadata": {},
   "outputs": [],
   "source": [
    "from scipy import stats\n",
    "import numpy as np"
   ]
  },
  {
   "cell_type": "code",
   "execution_count": 15,
   "id": "2f3738e6",
   "metadata": {},
   "outputs": [],
   "source": [
    "p_45 = stats.norm.cdf(45,loc = 50, scale = 4)\n",
    "p_55 = stats.norm.cdf(55,loc = 50,scale= 4)\n",
    "# Probability of there won't be an investigation\n",
    "p = p_55-p_45"
   ]
  },
  {
   "cell_type": "code",
   "execution_count": 20,
   "id": "18067f2f",
   "metadata": {},
   "outputs": [
    {
     "data": {
      "text/plain": [
       "0.7887"
      ]
     },
     "execution_count": 20,
     "metadata": {},
     "output_type": "execute_result"
    }
   ],
   "source": [
    "np.round(p,4)"
   ]
  },
  {
   "cell_type": "code",
   "execution_count": 22,
   "id": "52b42d51",
   "metadata": {},
   "outputs": [
    {
     "data": {
      "text/plain": [
       "0.2113"
      ]
     },
     "execution_count": 22,
     "metadata": {},
     "output_type": "execute_result"
    }
   ],
   "source": [
    "# Probability of there will be an investigation\n",
    "np.round(1-p, 4)"
   ]
  },
  {
   "cell_type": "code",
   "execution_count": null,
   "id": "adc83287",
   "metadata": {},
   "outputs": [],
   "source": []
  }
 ],
 "metadata": {
  "kernelspec": {
   "display_name": "Python 3 (ipykernel)",
   "language": "python",
   "name": "python3"
  },
  "language_info": {
   "codemirror_mode": {
    "name": "ipython",
    "version": 3
   },
   "file_extension": ".py",
   "mimetype": "text/x-python",
   "name": "python",
   "nbconvert_exporter": "python",
   "pygments_lexer": "ipython3",
   "version": "3.9.7"
  }
 },
 "nbformat": 4,
 "nbformat_minor": 5
}
