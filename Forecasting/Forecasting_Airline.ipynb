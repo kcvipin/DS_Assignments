{
 "cells": [
  {
   "cell_type": "code",
   "execution_count": 1,
   "id": "b95f53c5",
   "metadata": {},
   "outputs": [],
   "source": [
    "import pandas as pd\n",
    "import numpy as np\n",
    "import matplotlib.pyplot as plt\n",
    "import seaborn as sns\n",
    "from sklearn.metrics import mean_squared_error\n",
    "from statsmodels.tsa.stattools import adfuller\n",
    "from statsmodels.tsa.holtwinters import ExponentialSmoothing\n",
    "import statsmodels.graphics.tsaplots as sgt\n",
    "from statsmodels.tsa.arima_model import ARMA\n",
    "from statsmodels.tsa.arima_model import ARIMA\n",
    "from statsmodels.tsa.statespace.tools import diff\n",
    "from scipy.stats.distributions import chi2"
   ]
  },
  {
   "cell_type": "code",
   "execution_count": 2,
   "id": "734bd844",
   "metadata": {},
   "outputs": [],
   "source": [
    "import warnings\n",
    "warnings.filterwarnings ('ignore')"
   ]
  },
  {
   "cell_type": "code",
   "execution_count": 3,
   "id": "dd9ba3cd",
   "metadata": {},
   "outputs": [
    {
     "data": {
      "text/html": [
       "<div>\n",
       "<style scoped>\n",
       "    .dataframe tbody tr th:only-of-type {\n",
       "        vertical-align: middle;\n",
       "    }\n",
       "\n",
       "    .dataframe tbody tr th {\n",
       "        vertical-align: top;\n",
       "    }\n",
       "\n",
       "    .dataframe thead th {\n",
       "        text-align: right;\n",
       "    }\n",
       "</style>\n",
       "<table border=\"1\" class=\"dataframe\">\n",
       "  <thead>\n",
       "    <tr style=\"text-align: right;\">\n",
       "      <th></th>\n",
       "      <th>Passengers</th>\n",
       "    </tr>\n",
       "    <tr>\n",
       "      <th>Month</th>\n",
       "      <th></th>\n",
       "    </tr>\n",
       "  </thead>\n",
       "  <tbody>\n",
       "    <tr>\n",
       "      <th>1995-01-01</th>\n",
       "      <td>112</td>\n",
       "    </tr>\n",
       "    <tr>\n",
       "      <th>1995-02-01</th>\n",
       "      <td>118</td>\n",
       "    </tr>\n",
       "    <tr>\n",
       "      <th>1995-03-01</th>\n",
       "      <td>132</td>\n",
       "    </tr>\n",
       "    <tr>\n",
       "      <th>1995-04-01</th>\n",
       "      <td>129</td>\n",
       "    </tr>\n",
       "    <tr>\n",
       "      <th>1995-05-01</th>\n",
       "      <td>121</td>\n",
       "    </tr>\n",
       "  </tbody>\n",
       "</table>\n",
       "</div>"
      ],
      "text/plain": [
       "            Passengers\n",
       "Month                 \n",
       "1995-01-01         112\n",
       "1995-02-01         118\n",
       "1995-03-01         132\n",
       "1995-04-01         129\n",
       "1995-05-01         121"
      ]
     },
     "execution_count": 3,
     "metadata": {},
     "output_type": "execute_result"
    }
   ],
   "source": [
    "data = pd.read_excel('Airlines+Data.xlsx',index_col='Month',parse_dates=True)\n",
    "data.head()"
   ]
  },
  {
   "cell_type": "code",
   "execution_count": 4,
   "id": "c1f73371",
   "metadata": {},
   "outputs": [
    {
     "data": {
      "text/plain": [
       "(96, 1)"
      ]
     },
     "execution_count": 4,
     "metadata": {},
     "output_type": "execute_result"
    }
   ],
   "source": [
    "data.shape"
   ]
  },
  {
   "cell_type": "code",
   "execution_count": 5,
   "id": "79a7ccfa",
   "metadata": {},
   "outputs": [],
   "source": [
    "data.index.freq= 'MS'"
   ]
  },
  {
   "cell_type": "code",
   "execution_count": 6,
   "id": "730aaede",
   "metadata": {},
   "outputs": [
    {
     "name": "stdout",
     "output_type": "stream",
     "text": [
      "<class 'pandas.core.frame.DataFrame'>\n",
      "DatetimeIndex: 96 entries, 1995-01-01 to 2002-12-01\n",
      "Freq: MS\n",
      "Data columns (total 1 columns):\n",
      " #   Column      Non-Null Count  Dtype\n",
      "---  ------      --------------  -----\n",
      " 0   Passengers  96 non-null     int64\n",
      "dtypes: int64(1)\n",
      "memory usage: 1.5 KB\n"
     ]
    }
   ],
   "source": [
    "data.info()"
   ]
  },
  {
   "cell_type": "code",
   "execution_count": 7,
   "id": "3ccc7563",
   "metadata": {},
   "outputs": [
    {
     "data": {
      "text/html": [
       "<div>\n",
       "<style scoped>\n",
       "    .dataframe tbody tr th:only-of-type {\n",
       "        vertical-align: middle;\n",
       "    }\n",
       "\n",
       "    .dataframe tbody tr th {\n",
       "        vertical-align: top;\n",
       "    }\n",
       "\n",
       "    .dataframe thead th {\n",
       "        text-align: right;\n",
       "    }\n",
       "</style>\n",
       "<table border=\"1\" class=\"dataframe\">\n",
       "  <thead>\n",
       "    <tr style=\"text-align: right;\">\n",
       "      <th></th>\n",
       "      <th>Passengers</th>\n",
       "    </tr>\n",
       "  </thead>\n",
       "  <tbody>\n",
       "    <tr>\n",
       "      <th>count</th>\n",
       "      <td>96.000000</td>\n",
       "    </tr>\n",
       "    <tr>\n",
       "      <th>mean</th>\n",
       "      <td>213.708333</td>\n",
       "    </tr>\n",
       "    <tr>\n",
       "      <th>std</th>\n",
       "      <td>71.918216</td>\n",
       "    </tr>\n",
       "    <tr>\n",
       "      <th>min</th>\n",
       "      <td>104.000000</td>\n",
       "    </tr>\n",
       "    <tr>\n",
       "      <th>25%</th>\n",
       "      <td>156.000000</td>\n",
       "    </tr>\n",
       "    <tr>\n",
       "      <th>50%</th>\n",
       "      <td>200.000000</td>\n",
       "    </tr>\n",
       "    <tr>\n",
       "      <th>75%</th>\n",
       "      <td>264.750000</td>\n",
       "    </tr>\n",
       "    <tr>\n",
       "      <th>max</th>\n",
       "      <td>413.000000</td>\n",
       "    </tr>\n",
       "  </tbody>\n",
       "</table>\n",
       "</div>"
      ],
      "text/plain": [
       "       Passengers\n",
       "count   96.000000\n",
       "mean   213.708333\n",
       "std     71.918216\n",
       "min    104.000000\n",
       "25%    156.000000\n",
       "50%    200.000000\n",
       "75%    264.750000\n",
       "max    413.000000"
      ]
     },
     "execution_count": 7,
     "metadata": {},
     "output_type": "execute_result"
    }
   ],
   "source": [
    "data.describe()"
   ]
  },
  {
   "cell_type": "code",
   "execution_count": 8,
   "id": "3c7b6865",
   "metadata": {},
   "outputs": [
    {
     "data": {
      "image/png": "[encoded data removed]",
      "text/plain": [
       "<Figure size 432x288 with 1 Axes>"
      ]
     },
     "metadata": {
      "needs_background": "light"
     },
     "output_type": "display_data"
    }
   ],
   "source": [
    "data['Passengers'].plot()\n",
    "plt.ylabel('Passengers')\n",
    "plt.show()"
   ]
  },
  {
   "cell_type": "code",
   "execution_count": 9,
   "id": "8226ac81",
   "metadata": {},
   "outputs": [
    {
     "data": {
      "text/plain": [
       "(1.3402479596467018,\n",
       " 0.9968250481137263,\n",
       " 12,\n",
       " 83,\n",
       " {'1%': -3.5117123057187376,\n",
       "  '5%': -2.8970475206326833,\n",
       "  '10%': -2.5857126912469153},\n",
       " 626.0084713813505)"
      ]
     },
     "execution_count": 9,
     "metadata": {},
     "output_type": "execute_result"
    }
   ],
   "source": [
    "adfuller(data.Passengers)"
   ]
  },
  {
   "cell_type": "markdown",
   "id": "a3683708",
   "metadata": {},
   "source": [
    "Data is not stationary"
   ]
  },
  {
   "cell_type": "markdown",
   "id": "2b729514",
   "metadata": {},
   "source": [
    "Data includes trend and seasonality"
   ]
  },
  {
   "cell_type": "markdown",
   "id": "fd9244c9",
   "metadata": {},
   "source": [
    "### Triple Exponential Smoothing"
   ]
  },
  {
   "cell_type": "code",
   "execution_count": 10,
   "id": "da90fb3c",
   "metadata": {},
   "outputs": [
    {
     "data": {
      "text/html": [
       "<div>\n",
       "<style scoped>\n",
       "    .dataframe tbody tr th:only-of-type {\n",
       "        vertical-align: middle;\n",
       "    }\n",
       "\n",
       "    .dataframe tbody tr th {\n",
       "        vertical-align: top;\n",
       "    }\n",
       "\n",
       "    .dataframe thead th {\n",
       "        text-align: right;\n",
       "    }\n",
       "</style>\n",
       "<table border=\"1\" class=\"dataframe\">\n",
       "  <thead>\n",
       "    <tr style=\"text-align: right;\">\n",
       "      <th></th>\n",
       "      <th>Passengers</th>\n",
       "      <th>Mul_Mul</th>\n",
       "    </tr>\n",
       "    <tr>\n",
       "      <th>Month</th>\n",
       "      <th></th>\n",
       "      <th></th>\n",
       "    </tr>\n",
       "  </thead>\n",
       "  <tbody>\n",
       "    <tr>\n",
       "      <th>1995-01-01</th>\n",
       "      <td>112</td>\n",
       "      <td>113.645946</td>\n",
       "    </tr>\n",
       "    <tr>\n",
       "      <th>1995-02-01</th>\n",
       "      <td>118</td>\n",
       "      <td>111.327516</td>\n",
       "    </tr>\n",
       "    <tr>\n",
       "      <th>1995-03-01</th>\n",
       "      <td>132</td>\n",
       "      <td>134.355786</td>\n",
       "    </tr>\n",
       "    <tr>\n",
       "      <th>1995-04-01</th>\n",
       "      <td>129</td>\n",
       "      <td>129.668603</td>\n",
       "    </tr>\n",
       "    <tr>\n",
       "      <th>1995-05-01</th>\n",
       "      <td>121</td>\n",
       "      <td>129.739658</td>\n",
       "    </tr>\n",
       "  </tbody>\n",
       "</table>\n",
       "</div>"
      ],
      "text/plain": [
       "            Passengers     Mul_Mul\n",
       "Month                             \n",
       "1995-01-01         112  113.645946\n",
       "1995-02-01         118  111.327516\n",
       "1995-03-01         132  134.355786\n",
       "1995-04-01         129  129.668603\n",
       "1995-05-01         121  129.739658"
      ]
     },
     "execution_count": 10,
     "metadata": {},
     "output_type": "execute_result"
    }
   ],
   "source": [
    "data['Mul_Mul'] = ExponentialSmoothing(data['Passengers'],trend='mul',seasonal='mul',seasonal_periods=12).fit().fittedvalues\n",
    "data.head()"
   ]
  },
  {
   "cell_type": "code",
   "execution_count": 11,
   "id": "0bf2b4bd",
   "metadata": {},
   "outputs": [],
   "source": [
    "data['Add_Mul'] = ExponentialSmoothing(data['Passengers'],trend='add',seasonal='mul',seasonal_periods=12).fit().fittedvalues"
   ]
  },
  {
   "cell_type": "code",
   "execution_count": 12,
   "id": "bb91d575",
   "metadata": {},
   "outputs": [],
   "source": [
    "data['Mul_Add'] = ExponentialSmoothing(data['Passengers'],trend='mul',seasonal='add',seasonal_periods=12).fit().fittedvalues"
   ]
  },
  {
   "cell_type": "code",
   "execution_count": 13,
   "id": "4fc28cd1",
   "metadata": {},
   "outputs": [],
   "source": [
    "data['Add_Add'] = ExponentialSmoothing(data['Passengers'],trend='add',seasonal='add',seasonal_periods=12).fit().fittedvalues"
   ]
  },
  {
   "cell_type": "code",
   "execution_count": 14,
   "id": "fa86138d",
   "metadata": {},
   "outputs": [],
   "source": [
    "mse_1 = mean_squared_error(data['Passengers'],data['Mul_Mul'])\n",
    "\n",
    "mse_2 = mean_squared_error(data['Passengers'],data['Add_Mul'])\n",
    "\n",
    "mse_3 = mean_squared_error(data['Passengers'],data['Mul_Add'])\n",
    "\n",
    "mse_4 = mean_squared_error(data['Passengers'],data['Add_Add'])"
   ]
  },
  {
   "cell_type": "code",
   "execution_count": 15,
   "id": "8f8791cd",
   "metadata": {},
   "outputs": [
    {
     "name": "stdout",
     "output_type": "stream",
     "text": [
      "45.34082058247527\n",
      "46.06959136931823\n",
      "98.14907260172448\n",
      "101.74217064862955\n"
     ]
    }
   ],
   "source": [
    "print(mse_1)\n",
    "print(mse_2)\n",
    "print(mse_3)\n",
    "print(mse_4)"
   ]
  },
  {
   "cell_type": "markdown",
   "id": "626ab6d4",
   "metadata": {},
   "source": [
    "Model with both multiplicative trend and multiplicative seasonality is showing the best result."
   ]
  },
  {
   "cell_type": "code",
   "execution_count": 16,
   "id": "6f16dee4",
   "metadata": {},
   "outputs": [
    {
     "name": "stdout",
     "output_type": "stream",
     "text": [
      "RMSE =  6.733559280386211\n"
     ]
    }
   ],
   "source": [
    "print('RMSE = ',np.sqrt(mse_1))"
   ]
  },
  {
   "cell_type": "code",
   "execution_count": 17,
   "id": "7ca65073",
   "metadata": {},
   "outputs": [
    {
     "data": {
      "image/png": "[encoded data removed]",
      "text/plain": [
       "<Figure size 864x432 with 1 Axes>"
      ]
     },
     "metadata": {
      "needs_background": "light"
     },
     "output_type": "display_data"
    }
   ],
   "source": [
    "data[['Passengers','Mul_Mul']].plot(figsize=(12,6)).autoscale(axis='x',tight=True);"
   ]
  },
  {
   "cell_type": "code",
   "execution_count": 18,
   "id": "6ebe8ba2",
   "metadata": {},
   "outputs": [
    {
     "data": {
      "image/png": "[encoded data removed]",
      "text/plain": [
       "<Figure size 864x432 with 1 Axes>"
      ]
     },
     "metadata": {
      "needs_background": "light"
     },
     "output_type": "display_data"
    }
   ],
   "source": [
    "data[['Passengers','Mul_Mul']].iloc[:24].plot(figsize=(12,6)).autoscale(axis='x',tight=True);"
   ]
  },
  {
   "cell_type": "code",
   "execution_count": 19,
   "id": "0b356336",
   "metadata": {},
   "outputs": [
    {
     "data": {
      "text/html": [
       "<div>\n",
       "<style scoped>\n",
       "    .dataframe tbody tr th:only-of-type {\n",
       "        vertical-align: middle;\n",
       "    }\n",
       "\n",
       "    .dataframe tbody tr th {\n",
       "        vertical-align: top;\n",
       "    }\n",
       "\n",
       "    .dataframe thead th {\n",
       "        text-align: right;\n",
       "    }\n",
       "</style>\n",
       "<table border=\"1\" class=\"dataframe\">\n",
       "  <thead>\n",
       "    <tr style=\"text-align: right;\">\n",
       "      <th></th>\n",
       "      <th>Passengers</th>\n",
       "      <th>Mul_Mul</th>\n",
       "      <th>Add_Mul</th>\n",
       "      <th>Mul_Add</th>\n",
       "      <th>Add_Add</th>\n",
       "    </tr>\n",
       "    <tr>\n",
       "      <th>Month</th>\n",
       "      <th></th>\n",
       "      <th></th>\n",
       "      <th></th>\n",
       "      <th></th>\n",
       "      <th></th>\n",
       "    </tr>\n",
       "  </thead>\n",
       "  <tbody>\n",
       "    <tr>\n",
       "      <th>1995-01-01</th>\n",
       "      <td>112</td>\n",
       "      <td>113.645946</td>\n",
       "      <td>113.176214</td>\n",
       "      <td>111.982827</td>\n",
       "      <td>111.998411</td>\n",
       "    </tr>\n",
       "    <tr>\n",
       "      <th>1995-02-01</th>\n",
       "      <td>118</td>\n",
       "      <td>111.327516</td>\n",
       "      <td>111.886650</td>\n",
       "      <td>119.244937</td>\n",
       "      <td>119.931315</td>\n",
       "    </tr>\n",
       "    <tr>\n",
       "      <th>1995-03-01</th>\n",
       "      <td>132</td>\n",
       "      <td>134.355786</td>\n",
       "      <td>135.733331</td>\n",
       "      <td>133.245386</td>\n",
       "      <td>134.246702</td>\n",
       "    </tr>\n",
       "    <tr>\n",
       "      <th>1995-04-01</th>\n",
       "      <td>129</td>\n",
       "      <td>129.668603</td>\n",
       "      <td>130.698636</td>\n",
       "      <td>129.698538</td>\n",
       "      <td>130.734164</td>\n",
       "    </tr>\n",
       "    <tr>\n",
       "      <th>1995-05-01</th>\n",
       "      <td>121</td>\n",
       "      <td>129.739658</td>\n",
       "      <td>130.786004</td>\n",
       "      <td>122.651435</td>\n",
       "      <td>123.860175</td>\n",
       "    </tr>\n",
       "    <tr>\n",
       "      <th>...</th>\n",
       "      <td>...</td>\n",
       "      <td>...</td>\n",
       "      <td>...</td>\n",
       "      <td>...</td>\n",
       "      <td>...</td>\n",
       "    </tr>\n",
       "    <tr>\n",
       "      <th>2002-08-01</th>\n",
       "      <td>405</td>\n",
       "      <td>408.197444</td>\n",
       "      <td>406.594911</td>\n",
       "      <td>388.996433</td>\n",
       "      <td>384.892471</td>\n",
       "    </tr>\n",
       "    <tr>\n",
       "      <th>2002-09-01</th>\n",
       "      <td>355</td>\n",
       "      <td>360.419217</td>\n",
       "      <td>358.684868</td>\n",
       "      <td>355.597098</td>\n",
       "      <td>351.786486</td>\n",
       "    </tr>\n",
       "    <tr>\n",
       "      <th>2002-10-01</th>\n",
       "      <td>306</td>\n",
       "      <td>313.038780</td>\n",
       "      <td>311.278322</td>\n",
       "      <td>317.996936</td>\n",
       "      <td>314.401161</td>\n",
       "    </tr>\n",
       "    <tr>\n",
       "      <th>2002-11-01</th>\n",
       "      <td>271</td>\n",
       "      <td>270.666700</td>\n",
       "      <td>268.937976</td>\n",
       "      <td>281.449725</td>\n",
       "      <td>278.044181</td>\n",
       "    </tr>\n",
       "    <tr>\n",
       "      <th>2002-12-01</th>\n",
       "      <td>306</td>\n",
       "      <td>309.310857</td>\n",
       "      <td>307.798722</td>\n",
       "      <td>319.268045</td>\n",
       "      <td>315.553506</td>\n",
       "    </tr>\n",
       "  </tbody>\n",
       "</table>\n",
       "<p>96 rows × 5 columns</p>\n",
       "</div>"
      ],
      "text/plain": [
       "            Passengers     Mul_Mul     Add_Mul     Mul_Add     Add_Add\n",
       "Month                                                                 \n",
       "1995-01-01         112  113.645946  113.176214  111.982827  111.998411\n",
       "1995-02-01         118  111.327516  111.886650  119.244937  119.931315\n",
       "1995-03-01         132  134.355786  135.733331  133.245386  134.246702\n",
       "1995-04-01         129  129.668603  130.698636  129.698538  130.734164\n",
       "1995-05-01         121  129.739658  130.786004  122.651435  123.860175\n",
       "...                ...         ...         ...         ...         ...\n",
       "2002-08-01         405  408.197444  406.594911  388.996433  384.892471\n",
       "2002-09-01         355  360.419217  358.684868  355.597098  351.786486\n",
       "2002-10-01         306  313.038780  311.278322  317.996936  314.401161\n",
       "2002-11-01         271  270.666700  268.937976  281.449725  278.044181\n",
       "2002-12-01         306  309.310857  307.798722  319.268045  315.553506\n",
       "\n",
       "[96 rows x 5 columns]"
      ]
     },
     "execution_count": 19,
     "metadata": {},
     "output_type": "execute_result"
    }
   ],
   "source": [
    "data"
   ]
  },
  {
   "cell_type": "code",
   "execution_count": 20,
   "id": "d618fbf0",
   "metadata": {},
   "outputs": [],
   "source": [
    "del data['Mul_Mul']\n",
    "del data['Mul_Add']\n",
    "del data['Add_Add']\n",
    "del data['Add_Mul']"
   ]
  },
  {
   "cell_type": "code",
   "execution_count": 21,
   "id": "781494a4",
   "metadata": {},
   "outputs": [
    {
     "data": {
      "text/html": [
       "<div>\n",
       "<style scoped>\n",
       "    .dataframe tbody tr th:only-of-type {\n",
       "        vertical-align: middle;\n",
       "    }\n",
       "\n",
       "    .dataframe tbody tr th {\n",
       "        vertical-align: top;\n",
       "    }\n",
       "\n",
       "    .dataframe thead th {\n",
       "        text-align: right;\n",
       "    }\n",
       "</style>\n",
       "<table border=\"1\" class=\"dataframe\">\n",
       "  <thead>\n",
       "    <tr style=\"text-align: right;\">\n",
       "      <th></th>\n",
       "      <th>Passengers</th>\n",
       "    </tr>\n",
       "    <tr>\n",
       "      <th>Month</th>\n",
       "      <th></th>\n",
       "    </tr>\n",
       "  </thead>\n",
       "  <tbody>\n",
       "    <tr>\n",
       "      <th>1995-01-01</th>\n",
       "      <td>112</td>\n",
       "    </tr>\n",
       "    <tr>\n",
       "      <th>1995-02-01</th>\n",
       "      <td>118</td>\n",
       "    </tr>\n",
       "    <tr>\n",
       "      <th>1995-03-01</th>\n",
       "      <td>132</td>\n",
       "    </tr>\n",
       "    <tr>\n",
       "      <th>1995-04-01</th>\n",
       "      <td>129</td>\n",
       "    </tr>\n",
       "    <tr>\n",
       "      <th>1995-05-01</th>\n",
       "      <td>121</td>\n",
       "    </tr>\n",
       "    <tr>\n",
       "      <th>...</th>\n",
       "      <td>...</td>\n",
       "    </tr>\n",
       "    <tr>\n",
       "      <th>2002-08-01</th>\n",
       "      <td>405</td>\n",
       "    </tr>\n",
       "    <tr>\n",
       "      <th>2002-09-01</th>\n",
       "      <td>355</td>\n",
       "    </tr>\n",
       "    <tr>\n",
       "      <th>2002-10-01</th>\n",
       "      <td>306</td>\n",
       "    </tr>\n",
       "    <tr>\n",
       "      <th>2002-11-01</th>\n",
       "      <td>271</td>\n",
       "    </tr>\n",
       "    <tr>\n",
       "      <th>2002-12-01</th>\n",
       "      <td>306</td>\n",
       "    </tr>\n",
       "  </tbody>\n",
       "</table>\n",
       "<p>96 rows × 1 columns</p>\n",
       "</div>"
      ],
      "text/plain": [
       "            Passengers\n",
       "Month                 \n",
       "1995-01-01         112\n",
       "1995-02-01         118\n",
       "1995-03-01         132\n",
       "1995-04-01         129\n",
       "1995-05-01         121\n",
       "...                ...\n",
       "2002-08-01         405\n",
       "2002-09-01         355\n",
       "2002-10-01         306\n",
       "2002-11-01         271\n",
       "2002-12-01         306\n",
       "\n",
       "[96 rows x 1 columns]"
      ]
     },
     "execution_count": 21,
     "metadata": {},
     "output_type": "execute_result"
    }
   ],
   "source": [
    "data"
   ]
  },
  {
   "cell_type": "code",
   "execution_count": 22,
   "id": "3de1096d",
   "metadata": {},
   "outputs": [],
   "source": [
    "train_data  = data.iloc[:76]\n",
    "test_data = data.iloc[76:]"
   ]
  },
  {
   "cell_type": "code",
   "execution_count": 23,
   "id": "8649224c",
   "metadata": {},
   "outputs": [
    {
     "data": {
      "image/png": "[encoded data removed]",
      "text/plain": [
       "<Figure size 864x576 with 1 Axes>"
      ]
     },
     "metadata": {
      "needs_background": "light"
     },
     "output_type": "display_data"
    }
   ],
   "source": [
    "train_data['Passengers'].plot(legend=True,label='TRAIN')\n",
    "test_data['Passengers'].plot(legend=True,label='TEST',figsize=(12,8));"
   ]
  },
  {
   "cell_type": "code",
   "execution_count": 24,
   "id": "d99c968e",
   "metadata": {},
   "outputs": [],
   "source": [
    "TES = ExponentialSmoothing(train_data['Passengers'],trend='mul',seasonal='mul',seasonal_periods=12)\n",
    "TES_fitted = TES.fit()"
   ]
  },
  {
   "cell_type": "code",
   "execution_count": 25,
   "id": "80487ff4",
   "metadata": {},
   "outputs": [
    {
     "data": {
      "text/plain": [
       "2001-05-01    265.069319\n",
       "2001-06-01    294.729925\n",
       "2001-07-01    326.264573\n",
       "2001-08-01    328.788864\n",
       "2001-09-01    292.359431\n",
       "2001-10-01    258.908898\n",
       "2001-11-01    227.766218\n",
       "2001-12-01    258.783901\n",
       "2002-01-01    265.546532\n",
       "2002-02-01    264.187119\n",
       "2002-03-01    307.621328\n",
       "2002-04-01    299.433200\n",
       "2002-05-01    298.001678\n",
       "2002-06-01    331.347333\n",
       "2002-07-01    366.799864\n",
       "2002-08-01    369.637774\n",
       "2002-09-01    328.682328\n",
       "2002-10-01    291.075882\n",
       "2002-11-01    256.064019\n",
       "2002-12-01    290.935355\n",
       "Freq: MS, dtype: float64"
      ]
     },
     "execution_count": 25,
     "metadata": {},
     "output_type": "execute_result"
    }
   ],
   "source": [
    "test_pred = TES_fitted.forecast(20)\n",
    "test_pred"
   ]
  },
  {
   "cell_type": "code",
   "execution_count": 26,
   "id": "f04231e9",
   "metadata": {},
   "outputs": [
    {
     "data": {
      "image/png": "[encoded data removed]",
      "text/plain": [
       "<Figure size 720x432 with 1 Axes>"
      ]
     },
     "metadata": {
      "needs_background": "light"
     },
     "output_type": "display_data"
    }
   ],
   "source": [
    "train_data['Passengers'].plot(legend=True,label='TRAIN')\n",
    "test_data['Passengers'].plot(legend=True,label='TEST')\n",
    "test_pred.plot(legend=True,label='PREDICTION',figsize=(10,6));"
   ]
  },
  {
   "cell_type": "code",
   "execution_count": 27,
   "id": "6ba10359",
   "metadata": {},
   "outputs": [
    {
     "data": {
      "image/png": "[encoded data removed]",
      "text/plain": [
       "<Figure size 648x360 with 1 Axes>"
      ]
     },
     "metadata": {
      "needs_background": "light"
     },
     "output_type": "display_data"
    }
   ],
   "source": [
    "test_data['Passengers'].plot(legend=True,label='TEST',figsize=(9,5))\n",
    "test_pred.plot(legend=True,label='PREDICTION',xlim=['2001-05-01','2002-12-01']);\n"
   ]
  },
  {
   "cell_type": "markdown",
   "id": "876b6316",
   "metadata": {},
   "source": [
    "### Forecsating to Future"
   ]
  },
  {
   "cell_type": "code",
   "execution_count": 28,
   "id": "5abd3004",
   "metadata": {},
   "outputs": [],
   "source": [
    "TES_final = ExponentialSmoothing(data['Passengers'],trend='mul',seasonal='mul',seasonal_periods=12).fit()\n",
    "TES_forecast = TES_final.forecast(20)"
   ]
  },
  {
   "cell_type": "code",
   "execution_count": 29,
   "id": "b52d48de",
   "metadata": {},
   "outputs": [
    {
     "data": {
      "image/png": "[encoded data removed]",
      "text/plain": [
       "<Figure size 864x576 with 1 Axes>"
      ]
     },
     "metadata": {
      "needs_background": "light"
     },
     "output_type": "display_data"
    }
   ],
   "source": [
    "data['Passengers'].plot(figsize=(12,8))\n",
    "TES_forecast.plot();"
   ]
  },
  {
   "cell_type": "markdown",
   "id": "957818a8",
   "metadata": {},
   "source": [
    "### RMSE "
   ]
  },
  {
   "cell_type": "code",
   "execution_count": 30,
   "id": "cf402077",
   "metadata": {},
   "outputs": [
    {
     "data": {
      "text/plain": [
       "550.2513310286943"
      ]
     },
     "execution_count": 30,
     "metadata": {},
     "output_type": "execute_result"
    }
   ],
   "source": [
    "TES_mse = mean_squared_error(test_data['Passengers'],test_pred)\n",
    "TES_mse"
   ]
  },
  {
   "cell_type": "code",
   "execution_count": 31,
   "id": "553028f1",
   "metadata": {},
   "outputs": [
    {
     "name": "stdout",
     "output_type": "stream",
     "text": [
      "TES_rmse =  23.45743658264249\n"
     ]
    }
   ],
   "source": [
    "print('TES_rmse = ',np.sqrt(TES_mse))"
   ]
  },
  {
   "cell_type": "code",
   "execution_count": 32,
   "id": "fc2b67db",
   "metadata": {},
   "outputs": [
    {
     "data": {
      "image/png": "[encoded data removed]",
      "text/plain": [
       "<Figure size 432x288 with 1 Axes>"
      ]
     },
     "metadata": {
      "needs_background": "light"
     },
     "output_type": "display_data"
    }
   ],
   "source": [
    "sgt.plot_acf(data.Passengers,lags=40,zero=False)\n",
    "plt.title(\"ACF\", size=24)\n",
    "plt.show()"
   ]
  },
  {
   "cell_type": "code",
   "execution_count": 33,
   "id": "9a886e76",
   "metadata": {},
   "outputs": [
    {
     "data": {
      "image/png": "[encoded data removed]",
      "text/plain": [
       "<Figure size 432x288 with 1 Axes>"
      ]
     },
     "metadata": {
      "needs_background": "light"
     },
     "output_type": "display_data"
    }
   ],
   "source": [
    "sgt.plot_pacf(data.Passengers,lags=30,zero=False)\n",
    "plt.title(\"PACF\", size=24)\n",
    "plt.show()"
   ]
  },
  {
   "cell_type": "markdown",
   "id": "0f9a72e5",
   "metadata": {},
   "source": [
    "### LLR Test"
   ]
  },
  {
   "cell_type": "code",
   "execution_count": 34,
   "id": "bebbac42",
   "metadata": {},
   "outputs": [],
   "source": [
    "def LLR_test(mod_1, mod_2, DF=1):\n",
    "    L1 = mod_1.fit().llf\n",
    "    L2 = mod_2.fit().llf\n",
    "    LR = (2*(L2-L1))\n",
    "    p = chi2.sf(LR, DF).round(3)\n",
    "    return p"
   ]
  },
  {
   "cell_type": "markdown",
   "id": "3bed432d",
   "metadata": {},
   "source": [
    "### AR model"
   ]
  },
  {
   "cell_type": "code",
   "execution_count": 35,
   "id": "5ef12d93",
   "metadata": {},
   "outputs": [],
   "source": [
    "ar_1 = ARMA(data['Passengers'],order=(1,0))\n",
    "results_ar1 = ar_1.fit()"
   ]
  },
  {
   "cell_type": "code",
   "execution_count": 36,
   "id": "1b3c9daf",
   "metadata": {},
   "outputs": [
    {
     "data": {
      "text/html": [
       "<table class=\"simpletable\">\n",
       "<caption>ARMA Model Results</caption>\n",
       "<tr>\n",
       "  <th>Dep. Variable:</th>    <td>Passengers</td>    <th>  No. Observations:  </th>    <td>96</td>   \n",
       "</tr>\n",
       "<tr>\n",
       "  <th>Model:</th>            <td>ARMA(1, 0)</td>    <th>  Log Likelihood     </th> <td>-438.831</td>\n",
       "</tr>\n",
       "<tr>\n",
       "  <th>Method:</th>             <td>css-mle</td>     <th>  S.D. of innovations</th>  <td>23.098</td> \n",
       "</tr>\n",
       "<tr>\n",
       "  <th>Date:</th>          <td>Tue, 16 Aug 2022</td> <th>  AIC                </th>  <td>883.661</td>\n",
       "</tr>\n",
       "<tr>\n",
       "  <th>Time:</th>              <td>11:55:51</td>     <th>  BIC                </th>  <td>891.354</td>\n",
       "</tr>\n",
       "<tr>\n",
       "  <th>Sample:</th>           <td>01-01-1995</td>    <th>  HQIC               </th>  <td>886.771</td>\n",
       "</tr>\n",
       "<tr>\n",
       "  <th></th>                 <td>- 12-01-2002</td>   <th>                     </th>     <td> </td>   \n",
       "</tr>\n",
       "</table>\n",
       "<table class=\"simpletable\">\n",
       "<tr>\n",
       "          <td></td>            <th>coef</th>     <th>std err</th>      <th>z</th>      <th>P>|z|</th>  <th>[0.025</th>    <th>0.975]</th>  \n",
       "</tr>\n",
       "<tr>\n",
       "  <th>const</th>            <td>  212.3020</td> <td>   42.366</td> <td>    5.011</td> <td> 0.000</td> <td>  129.266</td> <td>  295.339</td>\n",
       "</tr>\n",
       "<tr>\n",
       "  <th>ar.L1.Passengers</th> <td>    0.9534</td> <td>    0.030</td> <td>   31.820</td> <td> 0.000</td> <td>    0.895</td> <td>    1.012</td>\n",
       "</tr>\n",
       "</table>\n",
       "<table class=\"simpletable\">\n",
       "<caption>Roots</caption>\n",
       "<tr>\n",
       "    <td></td>   <th>            Real</th>  <th>         Imaginary</th> <th>         Modulus</th>  <th>        Frequency</th>\n",
       "</tr>\n",
       "<tr>\n",
       "  <th>AR.1</th> <td>           1.0489</td> <td>          +0.0000j</td> <td>           1.0489</td> <td>           0.0000</td>\n",
       "</tr>\n",
       "</table>"
      ],
      "text/plain": [
       "<class 'statsmodels.iolib.summary.Summary'>\n",
       "\"\"\"\n",
       "                              ARMA Model Results                              \n",
       "==============================================================================\n",
       "Dep. Variable:             Passengers   No. Observations:                   96\n",
       "Model:                     ARMA(1, 0)   Log Likelihood                -438.831\n",
       "Method:                       css-mle   S.D. of innovations             23.098\n",
       "Date:                Tue, 16 Aug 2022   AIC                            883.661\n",
       "Time:                        11:55:51   BIC                            891.354\n",
       "Sample:                    01-01-1995   HQIC                           886.771\n",
       "                         - 12-01-2002                                         \n",
       "====================================================================================\n",
       "                       coef    std err          z      P>|z|      [0.025      0.975]\n",
       "------------------------------------------------------------------------------------\n",
       "const              212.3020     42.366      5.011      0.000     129.266     295.339\n",
       "ar.L1.Passengers     0.9534      0.030     31.820      0.000       0.895       1.012\n",
       "                                    Roots                                    \n",
       "=============================================================================\n",
       "                  Real          Imaginary           Modulus         Frequency\n",
       "-----------------------------------------------------------------------------\n",
       "AR.1            1.0489           +0.0000j            1.0489            0.0000\n",
       "-----------------------------------------------------------------------------\n",
       "\"\"\""
      ]
     },
     "execution_count": 36,
     "metadata": {},
     "output_type": "execute_result"
    }
   ],
   "source": [
    " results_ar1.summary()"
   ]
  },
  {
   "cell_type": "code",
   "execution_count": 37,
   "id": "7fc59e17",
   "metadata": {},
   "outputs": [],
   "source": [
    "ar_2 = ARMA(data.Passengers,order=(2,0))\n",
    "results_ar2 = ar_2.fit()"
   ]
  },
  {
   "cell_type": "code",
   "execution_count": 38,
   "id": "723a67fe",
   "metadata": {},
   "outputs": [
    {
     "data": {
      "text/html": [
       "<table class=\"simpletable\">\n",
       "<caption>ARMA Model Results</caption>\n",
       "<tr>\n",
       "  <th>Dep. Variable:</th>    <td>Passengers</td>    <th>  No. Observations:  </th>    <td>96</td>   \n",
       "</tr>\n",
       "<tr>\n",
       "  <th>Model:</th>            <td>ARMA(2, 0)</td>    <th>  Log Likelihood     </th> <td>-434.852</td>\n",
       "</tr>\n",
       "<tr>\n",
       "  <th>Method:</th>             <td>css-mle</td>     <th>  S.D. of innovations</th>  <td>22.144</td> \n",
       "</tr>\n",
       "<tr>\n",
       "  <th>Date:</th>          <td>Tue, 16 Aug 2022</td> <th>  AIC                </th>  <td>877.704</td>\n",
       "</tr>\n",
       "<tr>\n",
       "  <th>Time:</th>              <td>11:55:52</td>     <th>  BIC                </th>  <td>887.961</td>\n",
       "</tr>\n",
       "<tr>\n",
       "  <th>Sample:</th>           <td>01-01-1995</td>    <th>  HQIC               </th>  <td>881.850</td>\n",
       "</tr>\n",
       "<tr>\n",
       "  <th></th>                 <td>- 12-01-2002</td>   <th>                     </th>     <td> </td>   \n",
       "</tr>\n",
       "</table>\n",
       "<table class=\"simpletable\">\n",
       "<tr>\n",
       "          <td></td>            <th>coef</th>     <th>std err</th>      <th>z</th>      <th>P>|z|</th>  <th>[0.025</th>    <th>0.975]</th>  \n",
       "</tr>\n",
       "<tr>\n",
       "  <th>const</th>            <td>  214.0091</td> <td>   33.016</td> <td>    6.482</td> <td> 0.000</td> <td>  149.299</td> <td>  278.719</td>\n",
       "</tr>\n",
       "<tr>\n",
       "  <th>ar.L1.Passengers</th> <td>    1.2246</td> <td>    0.098</td> <td>   12.463</td> <td> 0.000</td> <td>    1.032</td> <td>    1.417</td>\n",
       "</tr>\n",
       "<tr>\n",
       "  <th>ar.L2.Passengers</th> <td>   -0.2866</td> <td>    0.099</td> <td>   -2.886</td> <td> 0.004</td> <td>   -0.481</td> <td>   -0.092</td>\n",
       "</tr>\n",
       "</table>\n",
       "<table class=\"simpletable\">\n",
       "<caption>Roots</caption>\n",
       "<tr>\n",
       "    <td></td>   <th>            Real</th>  <th>         Imaginary</th> <th>         Modulus</th>  <th>        Frequency</th>\n",
       "</tr>\n",
       "<tr>\n",
       "  <th>AR.1</th> <td>           1.0996</td> <td>          +0.0000j</td> <td>           1.0996</td> <td>           0.0000</td>\n",
       "</tr>\n",
       "<tr>\n",
       "  <th>AR.2</th> <td>           3.1730</td> <td>          +0.0000j</td> <td>           3.1730</td> <td>           0.0000</td>\n",
       "</tr>\n",
       "</table>"
      ],
      "text/plain": [
       "<class 'statsmodels.iolib.summary.Summary'>\n",
       "\"\"\"\n",
       "                              ARMA Model Results                              \n",
       "==============================================================================\n",
       "Dep. Variable:             Passengers   No. Observations:                   96\n",
       "Model:                     ARMA(2, 0)   Log Likelihood                -434.852\n",
       "Method:                       css-mle   S.D. of innovations             22.144\n",
       "Date:                Tue, 16 Aug 2022   AIC                            877.704\n",
       "Time:                        11:55:52   BIC                            887.961\n",
       "Sample:                    01-01-1995   HQIC                           881.850\n",
       "                         - 12-01-2002                                         \n",
       "====================================================================================\n",
       "                       coef    std err          z      P>|z|      [0.025      0.975]\n",
       "------------------------------------------------------------------------------------\n",
       "const              214.0091     33.016      6.482      0.000     149.299     278.719\n",
       "ar.L1.Passengers     1.2246      0.098     12.463      0.000       1.032       1.417\n",
       "ar.L2.Passengers    -0.2866      0.099     -2.886      0.004      -0.481      -0.092\n",
       "                                    Roots                                    \n",
       "=============================================================================\n",
       "                  Real          Imaginary           Modulus         Frequency\n",
       "-----------------------------------------------------------------------------\n",
       "AR.1            1.0996           +0.0000j            1.0996            0.0000\n",
       "AR.2            3.1730           +0.0000j            3.1730            0.0000\n",
       "-----------------------------------------------------------------------------\n",
       "\"\"\""
      ]
     },
     "execution_count": 38,
     "metadata": {},
     "output_type": "execute_result"
    }
   ],
   "source": [
    "results_ar2.summary()"
   ]
  },
  {
   "cell_type": "code",
   "execution_count": 39,
   "id": "b2f3df3a",
   "metadata": {},
   "outputs": [
    {
     "data": {
      "text/plain": [
       "0.005"
      ]
     },
     "execution_count": 39,
     "metadata": {},
     "output_type": "execute_result"
    }
   ],
   "source": [
    "LLR_test(ar_1,ar_2)"
   ]
  },
  {
   "cell_type": "markdown",
   "id": "1e6e9166",
   "metadata": {},
   "source": [
    "Reject null hypothesis. Therefore ar_2 is a better model than ar_1"
   ]
  },
  {
   "cell_type": "code",
   "execution_count": 40,
   "id": "c92f9f05",
   "metadata": {},
   "outputs": [],
   "source": [
    "ar_3 = ARMA(data.Passengers,order=(3,0))\n",
    "results_ar3 = ar_3.fit()"
   ]
  },
  {
   "cell_type": "code",
   "execution_count": 41,
   "id": "4d2a7ff1",
   "metadata": {},
   "outputs": [
    {
     "data": {
      "text/html": [
       "<table class=\"simpletable\">\n",
       "<caption>ARMA Model Results</caption>\n",
       "<tr>\n",
       "  <th>Dep. Variable:</th>    <td>Passengers</td>    <th>  No. Observations:  </th>    <td>96</td>   \n",
       "</tr>\n",
       "<tr>\n",
       "  <th>Model:</th>            <td>ARMA(3, 0)</td>    <th>  Log Likelihood     </th> <td>-432.832</td>\n",
       "</tr>\n",
       "<tr>\n",
       "  <th>Method:</th>             <td>css-mle</td>     <th>  S.D. of innovations</th>  <td>21.662</td> \n",
       "</tr>\n",
       "<tr>\n",
       "  <th>Date:</th>          <td>Tue, 16 Aug 2022</td> <th>  AIC                </th>  <td>875.665</td>\n",
       "</tr>\n",
       "<tr>\n",
       "  <th>Time:</th>              <td>11:55:52</td>     <th>  BIC                </th>  <td>888.486</td>\n",
       "</tr>\n",
       "<tr>\n",
       "  <th>Sample:</th>           <td>01-01-1995</td>    <th>  HQIC               </th>  <td>880.847</td>\n",
       "</tr>\n",
       "<tr>\n",
       "  <th></th>                 <td>- 12-01-2002</td>   <th>                     </th>     <td> </td>   \n",
       "</tr>\n",
       "</table>\n",
       "<table class=\"simpletable\">\n",
       "<tr>\n",
       "          <td></td>            <th>coef</th>     <th>std err</th>      <th>z</th>      <th>P>|z|</th>  <th>[0.025</th>    <th>0.975]</th>  \n",
       "</tr>\n",
       "<tr>\n",
       "  <th>const</th>            <td>  214.7317</td> <td>   40.411</td> <td>    5.314</td> <td> 0.000</td> <td>  135.528</td> <td>  293.936</td>\n",
       "</tr>\n",
       "<tr>\n",
       "  <th>ar.L1.Passengers</th> <td>    1.2914</td> <td>    0.102</td> <td>   12.699</td> <td> 0.000</td> <td>    1.092</td> <td>    1.491</td>\n",
       "</tr>\n",
       "<tr>\n",
       "  <th>ar.L2.Passengers</th> <td>   -0.5490</td> <td>    0.161</td> <td>   -3.400</td> <td> 0.001</td> <td>   -0.866</td> <td>   -0.233</td>\n",
       "</tr>\n",
       "<tr>\n",
       "  <th>ar.L3.Passengers</th> <td>    0.2108</td> <td>    0.104</td> <td>    2.036</td> <td> 0.042</td> <td>    0.008</td> <td>    0.414</td>\n",
       "</tr>\n",
       "</table>\n",
       "<table class=\"simpletable\">\n",
       "<caption>Roots</caption>\n",
       "<tr>\n",
       "    <td></td>   <th>            Real</th>  <th>         Imaginary</th> <th>         Modulus</th>  <th>        Frequency</th>\n",
       "</tr>\n",
       "<tr>\n",
       "  <th>AR.1</th> <td>           1.0563</td> <td>          -0.0000j</td> <td>           1.0563</td> <td>          -0.0000</td>\n",
       "</tr>\n",
       "<tr>\n",
       "  <th>AR.2</th> <td>           0.7741</td> <td>          -1.9727j</td> <td>           2.1192</td> <td>          -0.1905</td>\n",
       "</tr>\n",
       "<tr>\n",
       "  <th>AR.3</th> <td>           0.7741</td> <td>          +1.9727j</td> <td>           2.1192</td> <td>           0.1905</td>\n",
       "</tr>\n",
       "</table>"
      ],
      "text/plain": [
       "<class 'statsmodels.iolib.summary.Summary'>\n",
       "\"\"\"\n",
       "                              ARMA Model Results                              \n",
       "==============================================================================\n",
       "Dep. Variable:             Passengers   No. Observations:                   96\n",
       "Model:                     ARMA(3, 0)   Log Likelihood                -432.832\n",
       "Method:                       css-mle   S.D. of innovations             21.662\n",
       "Date:                Tue, 16 Aug 2022   AIC                            875.665\n",
       "Time:                        11:55:52   BIC                            888.486\n",
       "Sample:                    01-01-1995   HQIC                           880.847\n",
       "                         - 12-01-2002                                         \n",
       "====================================================================================\n",
       "                       coef    std err          z      P>|z|      [0.025      0.975]\n",
       "------------------------------------------------------------------------------------\n",
       "const              214.7317     40.411      5.314      0.000     135.528     293.936\n",
       "ar.L1.Passengers     1.2914      0.102     12.699      0.000       1.092       1.491\n",
       "ar.L2.Passengers    -0.5490      0.161     -3.400      0.001      -0.866      -0.233\n",
       "ar.L3.Passengers     0.2108      0.104      2.036      0.042       0.008       0.414\n",
       "                                    Roots                                    \n",
       "=============================================================================\n",
       "                  Real          Imaginary           Modulus         Frequency\n",
       "-----------------------------------------------------------------------------\n",
       "AR.1            1.0563           -0.0000j            1.0563           -0.0000\n",
       "AR.2            0.7741           -1.9727j            2.1192           -0.1905\n",
       "AR.3            0.7741           +1.9727j            2.1192            0.1905\n",
       "-----------------------------------------------------------------------------\n",
       "\"\"\""
      ]
     },
     "execution_count": 41,
     "metadata": {},
     "output_type": "execute_result"
    }
   ],
   "source": [
    "results_ar3.summary()"
   ]
  },
  {
   "cell_type": "code",
   "execution_count": 42,
   "id": "9d014642",
   "metadata": {},
   "outputs": [
    {
     "data": {
      "text/plain": [
       "0.044"
      ]
     },
     "execution_count": 42,
     "metadata": {},
     "output_type": "execute_result"
    }
   ],
   "source": [
    "LLR_test(ar_2,ar_3)"
   ]
  },
  {
   "cell_type": "markdown",
   "id": "a4604826",
   "metadata": {},
   "source": [
    "Reject null hypothesis. Therefore ar_3 is a better model than ar_2."
   ]
  },
  {
   "cell_type": "code",
   "execution_count": 43,
   "id": "311b0dc6",
   "metadata": {},
   "outputs": [
    {
     "data": {
      "text/html": [
       "<table class=\"simpletable\">\n",
       "<caption>ARMA Model Results</caption>\n",
       "<tr>\n",
       "  <th>Dep. Variable:</th>    <td>Passengers</td>    <th>  No. Observations:  </th>    <td>96</td>   \n",
       "</tr>\n",
       "<tr>\n",
       "  <th>Model:</th>            <td>ARMA(4, 0)</td>    <th>  Log Likelihood     </th> <td>-432.603</td>\n",
       "</tr>\n",
       "<tr>\n",
       "  <th>Method:</th>             <td>css-mle</td>     <th>  S.D. of innovations</th>  <td>21.604</td> \n",
       "</tr>\n",
       "<tr>\n",
       "  <th>Date:</th>          <td>Tue, 16 Aug 2022</td> <th>  AIC                </th>  <td>877.206</td>\n",
       "</tr>\n",
       "<tr>\n",
       "  <th>Time:</th>              <td>11:55:53</td>     <th>  BIC                </th>  <td>892.592</td>\n",
       "</tr>\n",
       "<tr>\n",
       "  <th>Sample:</th>           <td>01-01-1995</td>    <th>  HQIC               </th>  <td>883.425</td>\n",
       "</tr>\n",
       "<tr>\n",
       "  <th></th>                 <td>- 12-01-2002</td>   <th>                     </th>     <td> </td>   \n",
       "</tr>\n",
       "</table>\n",
       "<table class=\"simpletable\">\n",
       "<tr>\n",
       "          <td></td>            <th>coef</th>     <th>std err</th>      <th>z</th>      <th>P>|z|</th>  <th>[0.025</th>    <th>0.975]</th>  \n",
       "</tr>\n",
       "<tr>\n",
       "  <th>const</th>            <td>  215.3259</td> <td>   43.710</td> <td>    4.926</td> <td> 0.000</td> <td>  129.657</td> <td>  300.995</td>\n",
       "</tr>\n",
       "<tr>\n",
       "  <th>ar.L1.Passengers</th> <td>    1.2794</td> <td>    0.103</td> <td>   12.434</td> <td> 0.000</td> <td>    1.078</td> <td>    1.481</td>\n",
       "</tr>\n",
       "<tr>\n",
       "  <th>ar.L2.Passengers</th> <td>   -0.5129</td> <td>    0.170</td> <td>   -3.025</td> <td> 0.002</td> <td>   -0.845</td> <td>   -0.181</td>\n",
       "</tr>\n",
       "<tr>\n",
       "  <th>ar.L3.Passengers</th> <td>    0.1189</td> <td>    0.170</td> <td>    0.698</td> <td> 0.485</td> <td>   -0.215</td> <td>    0.453</td>\n",
       "</tr>\n",
       "<tr>\n",
       "  <th>ar.L4.Passengers</th> <td>    0.0725</td> <td>    0.107</td> <td>    0.679</td> <td> 0.497</td> <td>   -0.137</td> <td>    0.282</td>\n",
       "</tr>\n",
       "</table>\n",
       "<table class=\"simpletable\">\n",
       "<caption>Roots</caption>\n",
       "<tr>\n",
       "    <td></td>   <th>            Real</th>  <th>         Imaginary</th> <th>         Modulus</th>  <th>        Frequency</th>\n",
       "</tr>\n",
       "<tr>\n",
       "  <th>AR.1</th> <td>           1.0459</td> <td>          -0.0000j</td> <td>           1.0459</td> <td>          -0.0000</td>\n",
       "</tr>\n",
       "<tr>\n",
       "  <th>AR.2</th> <td>           0.8361</td> <td>          -1.5251j</td> <td>           1.7393</td> <td>          -0.1702</td>\n",
       "</tr>\n",
       "<tr>\n",
       "  <th>AR.3</th> <td>           0.8361</td> <td>          +1.5251j</td> <td>           1.7393</td> <td>           0.1702</td>\n",
       "</tr>\n",
       "<tr>\n",
       "  <th>AR.4</th> <td>          -4.3581</td> <td>          -0.0000j</td> <td>           4.3581</td> <td>          -0.5000</td>\n",
       "</tr>\n",
       "</table>"
      ],
      "text/plain": [
       "<class 'statsmodels.iolib.summary.Summary'>\n",
       "\"\"\"\n",
       "                              ARMA Model Results                              \n",
       "==============================================================================\n",
       "Dep. Variable:             Passengers   No. Observations:                   96\n",
       "Model:                     ARMA(4, 0)   Log Likelihood                -432.603\n",
       "Method:                       css-mle   S.D. of innovations             21.604\n",
       "Date:                Tue, 16 Aug 2022   AIC                            877.206\n",
       "Time:                        11:55:53   BIC                            892.592\n",
       "Sample:                    01-01-1995   HQIC                           883.425\n",
       "                         - 12-01-2002                                         \n",
       "====================================================================================\n",
       "                       coef    std err          z      P>|z|      [0.025      0.975]\n",
       "------------------------------------------------------------------------------------\n",
       "const              215.3259     43.710      4.926      0.000     129.657     300.995\n",
       "ar.L1.Passengers     1.2794      0.103     12.434      0.000       1.078       1.481\n",
       "ar.L2.Passengers    -0.5129      0.170     -3.025      0.002      -0.845      -0.181\n",
       "ar.L3.Passengers     0.1189      0.170      0.698      0.485      -0.215       0.453\n",
       "ar.L4.Passengers     0.0725      0.107      0.679      0.497      -0.137       0.282\n",
       "                                    Roots                                    \n",
       "=============================================================================\n",
       "                  Real          Imaginary           Modulus         Frequency\n",
       "-----------------------------------------------------------------------------\n",
       "AR.1            1.0459           -0.0000j            1.0459           -0.0000\n",
       "AR.2            0.8361           -1.5251j            1.7393           -0.1702\n",
       "AR.3            0.8361           +1.5251j            1.7393            0.1702\n",
       "AR.4           -4.3581           -0.0000j            4.3581           -0.5000\n",
       "-----------------------------------------------------------------------------\n",
       "\"\"\""
      ]
     },
     "execution_count": 43,
     "metadata": {},
     "output_type": "execute_result"
    }
   ],
   "source": [
    "ar_4 = ARMA(data.Passengers,order = (4,0))\n",
    "results_ar4 = ar_4.fit()\n",
    "results_ar4.summary()"
   ]
  },
  {
   "cell_type": "code",
   "execution_count": 44,
   "id": "d2d29316",
   "metadata": {},
   "outputs": [
    {
     "data": {
      "text/plain": [
       "0.498"
      ]
     },
     "execution_count": 44,
     "metadata": {},
     "output_type": "execute_result"
    }
   ],
   "source": [
    "LLR_test(ar_3,ar_4)"
   ]
  },
  {
   "cell_type": "markdown",
   "id": "5d7268a8",
   "metadata": {},
   "source": [
    "Fail to reject the null hypothesis.\n",
    " There is no improvement from ar_3 to ar_4"
   ]
  },
  {
   "cell_type": "markdown",
   "id": "e9fffdf1",
   "metadata": {},
   "source": [
    "#### AR(3) Model"
   ]
  },
  {
   "cell_type": "code",
   "execution_count": 45,
   "id": "bec05342",
   "metadata": {},
   "outputs": [],
   "source": [
    "model_ar3 = ARMA(train_data.Passengers,order=(3,0))\n",
    "model_ar3_fitted = model_ar3.fit()"
   ]
  },
  {
   "cell_type": "code",
   "execution_count": 46,
   "id": "7d8a2ba3",
   "metadata": {},
   "outputs": [
    {
     "data": {
      "text/plain": [
       "((76, 1), (20, 1))"
      ]
     },
     "execution_count": 46,
     "metadata": {},
     "output_type": "execute_result"
    }
   ],
   "source": [
    "(train_data.shape,\n",
    "test_data.shape)"
   ]
  },
  {
   "cell_type": "code",
   "execution_count": 47,
   "id": "3fca176f",
   "metadata": {},
   "outputs": [
    {
     "data": {
      "text/plain": [
       "2001-05-01    259.393320\n",
       "2001-06-01    251.977083\n",
       "2001-07-01    247.069285\n",
       "2001-08-01    242.782113\n",
       "2001-09-01    238.606080\n",
       "2001-10-01    234.663096\n",
       "2001-11-01    231.030508\n",
       "2001-12-01    227.688529\n",
       "2002-01-01    224.602623\n",
       "2002-02-01    221.749883\n",
       "2002-03-01    219.113520\n",
       "2002-04-01    216.677775\n",
       "2002-05-01    214.427416\n",
       "2002-06-01    212.348251\n",
       "2002-07-01    210.427232\n",
       "2002-08-01    208.652337\n",
       "2002-09-01    207.012454\n",
       "2002-10-01    205.497315\n",
       "2002-11-01    204.097428\n",
       "2002-12-01    202.804028\n",
       "Freq: MS, dtype: float64"
      ]
     },
     "execution_count": 47,
     "metadata": {},
     "output_type": "execute_result"
    }
   ],
   "source": [
    "ar3_test_pred = model_ar3_fitted.predict(76,95)\n",
    "ar3_test_pred"
   ]
  },
  {
   "cell_type": "code",
   "execution_count": 48,
   "id": "37c11f75",
   "metadata": {},
   "outputs": [
    {
     "data": {
      "text/html": [
       "<div>\n",
       "<style scoped>\n",
       "    .dataframe tbody tr th:only-of-type {\n",
       "        vertical-align: middle;\n",
       "    }\n",
       "\n",
       "    .dataframe tbody tr th {\n",
       "        vertical-align: top;\n",
       "    }\n",
       "\n",
       "    .dataframe thead th {\n",
       "        text-align: right;\n",
       "    }\n",
       "</style>\n",
       "<table border=\"1\" class=\"dataframe\">\n",
       "  <thead>\n",
       "    <tr style=\"text-align: right;\">\n",
       "      <th></th>\n",
       "      <th>Passengers</th>\n",
       "    </tr>\n",
       "  </thead>\n",
       "  <tbody>\n",
       "    <tr>\n",
       "      <th>2001-05-01</th>\n",
       "      <td>259.393320</td>\n",
       "    </tr>\n",
       "    <tr>\n",
       "      <th>2001-06-01</th>\n",
       "      <td>251.977083</td>\n",
       "    </tr>\n",
       "    <tr>\n",
       "      <th>2001-07-01</th>\n",
       "      <td>247.069285</td>\n",
       "    </tr>\n",
       "    <tr>\n",
       "      <th>2001-08-01</th>\n",
       "      <td>242.782113</td>\n",
       "    </tr>\n",
       "    <tr>\n",
       "      <th>2001-09-01</th>\n",
       "      <td>238.606080</td>\n",
       "    </tr>\n",
       "    <tr>\n",
       "      <th>2001-10-01</th>\n",
       "      <td>234.663096</td>\n",
       "    </tr>\n",
       "    <tr>\n",
       "      <th>2001-11-01</th>\n",
       "      <td>231.030508</td>\n",
       "    </tr>\n",
       "    <tr>\n",
       "      <th>2001-12-01</th>\n",
       "      <td>227.688529</td>\n",
       "    </tr>\n",
       "    <tr>\n",
       "      <th>2002-01-01</th>\n",
       "      <td>224.602623</td>\n",
       "    </tr>\n",
       "    <tr>\n",
       "      <th>2002-02-01</th>\n",
       "      <td>221.749883</td>\n",
       "    </tr>\n",
       "    <tr>\n",
       "      <th>2002-03-01</th>\n",
       "      <td>219.113520</td>\n",
       "    </tr>\n",
       "    <tr>\n",
       "      <th>2002-04-01</th>\n",
       "      <td>216.677775</td>\n",
       "    </tr>\n",
       "    <tr>\n",
       "      <th>2002-05-01</th>\n",
       "      <td>214.427416</td>\n",
       "    </tr>\n",
       "    <tr>\n",
       "      <th>2002-06-01</th>\n",
       "      <td>212.348251</td>\n",
       "    </tr>\n",
       "    <tr>\n",
       "      <th>2002-07-01</th>\n",
       "      <td>210.427232</td>\n",
       "    </tr>\n",
       "    <tr>\n",
       "      <th>2002-08-01</th>\n",
       "      <td>208.652337</td>\n",
       "    </tr>\n",
       "    <tr>\n",
       "      <th>2002-09-01</th>\n",
       "      <td>207.012454</td>\n",
       "    </tr>\n",
       "    <tr>\n",
       "      <th>2002-10-01</th>\n",
       "      <td>205.497315</td>\n",
       "    </tr>\n",
       "    <tr>\n",
       "      <th>2002-11-01</th>\n",
       "      <td>204.097428</td>\n",
       "    </tr>\n",
       "    <tr>\n",
       "      <th>2002-12-01</th>\n",
       "      <td>202.804028</td>\n",
       "    </tr>\n",
       "  </tbody>\n",
       "</table>\n",
       "</div>"
      ],
      "text/plain": [
       "            Passengers\n",
       "2001-05-01  259.393320\n",
       "2001-06-01  251.977083\n",
       "2001-07-01  247.069285\n",
       "2001-08-01  242.782113\n",
       "2001-09-01  238.606080\n",
       "2001-10-01  234.663096\n",
       "2001-11-01  231.030508\n",
       "2001-12-01  227.688529\n",
       "2002-01-01  224.602623\n",
       "2002-02-01  221.749883\n",
       "2002-03-01  219.113520\n",
       "2002-04-01  216.677775\n",
       "2002-05-01  214.427416\n",
       "2002-06-01  212.348251\n",
       "2002-07-01  210.427232\n",
       "2002-08-01  208.652337\n",
       "2002-09-01  207.012454\n",
       "2002-10-01  205.497315\n",
       "2002-11-01  204.097428\n",
       "2002-12-01  202.804028"
      ]
     },
     "execution_count": 48,
     "metadata": {},
     "output_type": "execute_result"
    }
   ],
   "source": [
    "ar3_pred_df = pd.DataFrame(ar3_test_pred,columns=test_data.columns)\n",
    "ar3_pred_df"
   ]
  },
  {
   "cell_type": "code",
   "execution_count": 49,
   "id": "9d0c1155",
   "metadata": {},
   "outputs": [
    {
     "data": {
      "text/plain": [
       "11356.65056071769"
      ]
     },
     "execution_count": 49,
     "metadata": {},
     "output_type": "execute_result"
    }
   ],
   "source": [
    "mse_ar3 = mean_squared_error(test_data.Passengers,ar3_pred_df.Passengers)\n",
    "mse_ar3"
   ]
  },
  {
   "cell_type": "code",
   "execution_count": 50,
   "id": "b320808a",
   "metadata": {},
   "outputs": [
    {
     "name": "stdout",
     "output_type": "stream",
     "text": [
      "RMSE =  106.57\n"
     ]
    }
   ],
   "source": [
    "print(\"RMSE = \",np.round(np.sqrt(mse_ar3),2))"
   ]
  },
  {
   "cell_type": "code",
   "execution_count": 51,
   "id": "a7dca667",
   "metadata": {},
   "outputs": [
    {
     "data": {
      "image/png": "[encoded data removed]",
      "text/plain": [
       "<Figure size 432x288 with 1 Axes>"
      ]
     },
     "metadata": {
      "needs_background": "light"
     },
     "output_type": "display_data"
    }
   ],
   "source": [
    "test_data['Passengers'].plot(legend=True,label='Test')\n",
    "ar3_pred_df['Passengers'].plot(legend = True,label = 'Predicted');"
   ]
  },
  {
   "cell_type": "markdown",
   "id": "cf6dcbdd",
   "metadata": {},
   "source": [
    "### MA Model"
   ]
  },
  {
   "cell_type": "code",
   "execution_count": 52,
   "id": "741aa53a",
   "metadata": {},
   "outputs": [
    {
     "data": {
      "text/html": [
       "<table class=\"simpletable\">\n",
       "<caption>ARMA Model Results</caption>\n",
       "<tr>\n",
       "  <th>Dep. Variable:</th>    <td>Passengers</td>    <th>  No. Observations:  </th>    <td>95</td>   \n",
       "</tr>\n",
       "<tr>\n",
       "  <th>Model:</th>            <td>ARMA(0, 1)</td>    <th>  Log Likelihood     </th> <td>-485.034</td>\n",
       "</tr>\n",
       "<tr>\n",
       "  <th>Method:</th>             <td>css-mle</td>     <th>  S.D. of innovations</th>  <td>39.314</td> \n",
       "</tr>\n",
       "<tr>\n",
       "  <th>Date:</th>          <td>Tue, 16 Aug 2022</td> <th>  AIC                </th>  <td>976.068</td>\n",
       "</tr>\n",
       "<tr>\n",
       "  <th>Time:</th>              <td>11:55:54</td>     <th>  BIC                </th>  <td>983.730</td>\n",
       "</tr>\n",
       "<tr>\n",
       "  <th>Sample:</th>           <td>02-01-1995</td>    <th>  HQIC               </th>  <td>979.164</td>\n",
       "</tr>\n",
       "<tr>\n",
       "  <th></th>                 <td>- 12-01-2002</td>   <th>                     </th>     <td> </td>   \n",
       "</tr>\n",
       "</table>\n",
       "<table class=\"simpletable\">\n",
       "<tr>\n",
       "          <td></td>            <th>coef</th>     <th>std err</th>      <th>z</th>      <th>P>|z|</th>  <th>[0.025</th>    <th>0.975]</th>  \n",
       "</tr>\n",
       "<tr>\n",
       "  <th>const</th>            <td>  215.1088</td> <td>    7.911</td> <td>   27.190</td> <td> 0.000</td> <td>  199.603</td> <td>  230.615</td>\n",
       "</tr>\n",
       "<tr>\n",
       "  <th>ma.L1.Passengers</th> <td>    0.9714</td> <td>    0.035</td> <td>   27.471</td> <td> 0.000</td> <td>    0.902</td> <td>    1.041</td>\n",
       "</tr>\n",
       "</table>\n",
       "<table class=\"simpletable\">\n",
       "<caption>Roots</caption>\n",
       "<tr>\n",
       "    <td></td>   <th>            Real</th>  <th>         Imaginary</th> <th>         Modulus</th>  <th>        Frequency</th>\n",
       "</tr>\n",
       "<tr>\n",
       "  <th>MA.1</th> <td>          -1.0295</td> <td>          +0.0000j</td> <td>           1.0295</td> <td>           0.5000</td>\n",
       "</tr>\n",
       "</table>"
      ],
      "text/plain": [
       "<class 'statsmodels.iolib.summary.Summary'>\n",
       "\"\"\"\n",
       "                              ARMA Model Results                              \n",
       "==============================================================================\n",
       "Dep. Variable:             Passengers   No. Observations:                   95\n",
       "Model:                     ARMA(0, 1)   Log Likelihood                -485.034\n",
       "Method:                       css-mle   S.D. of innovations             39.314\n",
       "Date:                Tue, 16 Aug 2022   AIC                            976.068\n",
       "Time:                        11:55:54   BIC                            983.730\n",
       "Sample:                    02-01-1995   HQIC                           979.164\n",
       "                         - 12-01-2002                                         \n",
       "====================================================================================\n",
       "                       coef    std err          z      P>|z|      [0.025      0.975]\n",
       "------------------------------------------------------------------------------------\n",
       "const              215.1088      7.911     27.190      0.000     199.603     230.615\n",
       "ma.L1.Passengers     0.9714      0.035     27.471      0.000       0.902       1.041\n",
       "                                    Roots                                    \n",
       "=============================================================================\n",
       "                  Real          Imaginary           Modulus         Frequency\n",
       "-----------------------------------------------------------------------------\n",
       "MA.1           -1.0295           +0.0000j            1.0295            0.5000\n",
       "-----------------------------------------------------------------------------\n",
       "\"\"\""
      ]
     },
     "execution_count": 52,
     "metadata": {},
     "output_type": "execute_result"
    }
   ],
   "source": [
    "ma_1 = ARMA(data.Passengers[1:],order=(0,1))\n",
    "results_ma1 = ma_1.fit()\n",
    "results_ma1.summary()"
   ]
  },
  {
   "cell_type": "code",
   "execution_count": 53,
   "id": "c7df291e",
   "metadata": {},
   "outputs": [
    {
     "data": {
      "text/html": [
       "<table class=\"simpletable\">\n",
       "<caption>ARMA Model Results</caption>\n",
       "<tr>\n",
       "  <th>Dep. Variable:</th>    <td>Passengers</td>    <th>  No. Observations:  </th>    <td>95</td>   \n",
       "</tr>\n",
       "<tr>\n",
       "  <th>Model:</th>            <td>ARMA(0, 4)</td>    <th>  Log Likelihood     </th> <td>-437.106</td>\n",
       "</tr>\n",
       "<tr>\n",
       "  <th>Method:</th>             <td>css-mle</td>     <th>  S.D. of innovations</th>  <td>23.419</td> \n",
       "</tr>\n",
       "<tr>\n",
       "  <th>Date:</th>          <td>Tue, 16 Aug 2022</td> <th>  AIC                </th>  <td>886.212</td>\n",
       "</tr>\n",
       "<tr>\n",
       "  <th>Time:</th>              <td>11:55:55</td>     <th>  BIC                </th>  <td>901.535</td>\n",
       "</tr>\n",
       "<tr>\n",
       "  <th>Sample:</th>           <td>02-01-1995</td>    <th>  HQIC               </th>  <td>892.404</td>\n",
       "</tr>\n",
       "<tr>\n",
       "  <th></th>                 <td>- 12-01-2002</td>   <th>                     </th>     <td> </td>   \n",
       "</tr>\n",
       "</table>\n",
       "<table class=\"simpletable\">\n",
       "<tr>\n",
       "          <td></td>            <th>coef</th>     <th>std err</th>      <th>z</th>      <th>P>|z|</th>  <th>[0.025</th>    <th>0.975]</th>  \n",
       "</tr>\n",
       "<tr>\n",
       "  <th>const</th>            <td>  214.8703</td> <td>   13.448</td> <td>   15.977</td> <td> 0.000</td> <td>  188.512</td> <td>  241.229</td>\n",
       "</tr>\n",
       "<tr>\n",
       "  <th>ma.L1.Passengers</th> <td>    1.5781</td> <td>    0.109</td> <td>   14.427</td> <td> 0.000</td> <td>    1.364</td> <td>    1.793</td>\n",
       "</tr>\n",
       "<tr>\n",
       "  <th>ma.L2.Passengers</th> <td>    1.6431</td> <td>    0.177</td> <td>    9.279</td> <td> 0.000</td> <td>    1.296</td> <td>    1.990</td>\n",
       "</tr>\n",
       "<tr>\n",
       "  <th>ma.L3.Passengers</th> <td>    1.2133</td> <td>    0.178</td> <td>    6.817</td> <td> 0.000</td> <td>    0.864</td> <td>    1.562</td>\n",
       "</tr>\n",
       "<tr>\n",
       "  <th>ma.L4.Passengers</th> <td>    0.2593</td> <td>    0.128</td> <td>    2.034</td> <td> 0.042</td> <td>    0.009</td> <td>    0.509</td>\n",
       "</tr>\n",
       "</table>\n",
       "<table class=\"simpletable\">\n",
       "<caption>Roots</caption>\n",
       "<tr>\n",
       "    <td></td>   <th>            Real</th>  <th>         Imaginary</th> <th>         Modulus</th>  <th>        Frequency</th>\n",
       "</tr>\n",
       "<tr>\n",
       "  <th>MA.1</th> <td>          -0.2002</td> <td>          -1.0256j</td> <td>           1.0450</td> <td>          -0.2807</td>\n",
       "</tr>\n",
       "<tr>\n",
       "  <th>MA.2</th> <td>          -0.2002</td> <td>          +1.0256j</td> <td>           1.0450</td> <td>           0.2807</td>\n",
       "</tr>\n",
       "<tr>\n",
       "  <th>MA.3</th> <td>          -1.1171</td> <td>          -0.0000j</td> <td>           1.1171</td> <td>          -0.5000</td>\n",
       "</tr>\n",
       "<tr>\n",
       "  <th>MA.4</th> <td>          -3.1608</td> <td>          -0.0000j</td> <td>           3.1608</td> <td>          -0.5000</td>\n",
       "</tr>\n",
       "</table>"
      ],
      "text/plain": [
       "<class 'statsmodels.iolib.summary.Summary'>\n",
       "\"\"\"\n",
       "                              ARMA Model Results                              \n",
       "==============================================================================\n",
       "Dep. Variable:             Passengers   No. Observations:                   95\n",
       "Model:                     ARMA(0, 4)   Log Likelihood                -437.106\n",
       "Method:                       css-mle   S.D. of innovations             23.419\n",
       "Date:                Tue, 16 Aug 2022   AIC                            886.212\n",
       "Time:                        11:55:55   BIC                            901.535\n",
       "Sample:                    02-01-1995   HQIC                           892.404\n",
       "                         - 12-01-2002                                         \n",
       "====================================================================================\n",
       "                       coef    std err          z      P>|z|      [0.025      0.975]\n",
       "------------------------------------------------------------------------------------\n",
       "const              214.8703     13.448     15.977      0.000     188.512     241.229\n",
       "ma.L1.Passengers     1.5781      0.109     14.427      0.000       1.364       1.793\n",
       "ma.L2.Passengers     1.6431      0.177      9.279      0.000       1.296       1.990\n",
       "ma.L3.Passengers     1.2133      0.178      6.817      0.000       0.864       1.562\n",
       "ma.L4.Passengers     0.2593      0.128      2.034      0.042       0.009       0.509\n",
       "                                    Roots                                    \n",
       "=============================================================================\n",
       "                  Real          Imaginary           Modulus         Frequency\n",
       "-----------------------------------------------------------------------------\n",
       "MA.1           -0.2002           -1.0256j            1.0450           -0.2807\n",
       "MA.2           -0.2002           +1.0256j            1.0450            0.2807\n",
       "MA.3           -1.1171           -0.0000j            1.1171           -0.5000\n",
       "MA.4           -3.1608           -0.0000j            3.1608           -0.5000\n",
       "-----------------------------------------------------------------------------\n",
       "\"\"\""
      ]
     },
     "execution_count": 53,
     "metadata": {},
     "output_type": "execute_result"
    }
   ],
   "source": [
    "ma_4 =ARMA(data.Passengers[1:],order=[0,4])\n",
    "results_ma4 = ma_4.fit()\n",
    "results_ma4.summary()"
   ]
  },
  {
   "cell_type": "markdown",
   "id": "daf08e55",
   "metadata": {},
   "source": [
    "#### MA(7) Model"
   ]
  },
  {
   "cell_type": "code",
   "execution_count": 54,
   "id": "8a67a2ce",
   "metadata": {},
   "outputs": [],
   "source": [
    "model_ma7 = ARMA(train_data.Passengers,order=(0,7))\n",
    "model_ma7_fitted = model_ma7.fit()"
   ]
  },
  {
   "cell_type": "code",
   "execution_count": 55,
   "id": "5bcdd5bb",
   "metadata": {},
   "outputs": [],
   "source": [
    "ma7_test_pred = model_ma7_fitted.predict(76,95)"
   ]
  },
  {
   "cell_type": "code",
   "execution_count": 56,
   "id": "8a95f161",
   "metadata": {},
   "outputs": [
    {
     "data": {
      "text/html": [
       "<div>\n",
       "<style scoped>\n",
       "    .dataframe tbody tr th:only-of-type {\n",
       "        vertical-align: middle;\n",
       "    }\n",
       "\n",
       "    .dataframe tbody tr th {\n",
       "        vertical-align: top;\n",
       "    }\n",
       "\n",
       "    .dataframe thead th {\n",
       "        text-align: right;\n",
       "    }\n",
       "</style>\n",
       "<table border=\"1\" class=\"dataframe\">\n",
       "  <thead>\n",
       "    <tr style=\"text-align: right;\">\n",
       "      <th></th>\n",
       "      <th>Passengers</th>\n",
       "    </tr>\n",
       "  </thead>\n",
       "  <tbody>\n",
       "    <tr>\n",
       "      <th>2001-05-01</th>\n",
       "      <td>269.496181</td>\n",
       "    </tr>\n",
       "    <tr>\n",
       "      <th>2001-06-01</th>\n",
       "      <td>269.092270</td>\n",
       "    </tr>\n",
       "    <tr>\n",
       "      <th>2001-07-01</th>\n",
       "      <td>267.172910</td>\n",
       "    </tr>\n",
       "    <tr>\n",
       "      <th>2001-08-01</th>\n",
       "      <td>237.187018</td>\n",
       "    </tr>\n",
       "    <tr>\n",
       "      <th>2001-09-01</th>\n",
       "      <td>197.687144</td>\n",
       "    </tr>\n",
       "    <tr>\n",
       "      <th>2001-10-01</th>\n",
       "      <td>179.226773</td>\n",
       "    </tr>\n",
       "    <tr>\n",
       "      <th>2001-11-01</th>\n",
       "      <td>173.539920</td>\n",
       "    </tr>\n",
       "    <tr>\n",
       "      <th>2001-12-01</th>\n",
       "      <td>186.720578</td>\n",
       "    </tr>\n",
       "    <tr>\n",
       "      <th>2002-01-01</th>\n",
       "      <td>186.720578</td>\n",
       "    </tr>\n",
       "    <tr>\n",
       "      <th>2002-02-01</th>\n",
       "      <td>186.720578</td>\n",
       "    </tr>\n",
       "    <tr>\n",
       "      <th>2002-03-01</th>\n",
       "      <td>186.720578</td>\n",
       "    </tr>\n",
       "    <tr>\n",
       "      <th>2002-04-01</th>\n",
       "      <td>186.720578</td>\n",
       "    </tr>\n",
       "    <tr>\n",
       "      <th>2002-05-01</th>\n",
       "      <td>186.720578</td>\n",
       "    </tr>\n",
       "    <tr>\n",
       "      <th>2002-06-01</th>\n",
       "      <td>186.720578</td>\n",
       "    </tr>\n",
       "    <tr>\n",
       "      <th>2002-07-01</th>\n",
       "      <td>186.720578</td>\n",
       "    </tr>\n",
       "    <tr>\n",
       "      <th>2002-08-01</th>\n",
       "      <td>186.720578</td>\n",
       "    </tr>\n",
       "    <tr>\n",
       "      <th>2002-09-01</th>\n",
       "      <td>186.720578</td>\n",
       "    </tr>\n",
       "    <tr>\n",
       "      <th>2002-10-01</th>\n",
       "      <td>186.720578</td>\n",
       "    </tr>\n",
       "    <tr>\n",
       "      <th>2002-11-01</th>\n",
       "      <td>186.720578</td>\n",
       "    </tr>\n",
       "    <tr>\n",
       "      <th>2002-12-01</th>\n",
       "      <td>186.720578</td>\n",
       "    </tr>\n",
       "  </tbody>\n",
       "</table>\n",
       "</div>"
      ],
      "text/plain": [
       "            Passengers\n",
       "2001-05-01  269.496181\n",
       "2001-06-01  269.092270\n",
       "2001-07-01  267.172910\n",
       "2001-08-01  237.187018\n",
       "2001-09-01  197.687144\n",
       "2001-10-01  179.226773\n",
       "2001-11-01  173.539920\n",
       "2001-12-01  186.720578\n",
       "2002-01-01  186.720578\n",
       "2002-02-01  186.720578\n",
       "2002-03-01  186.720578\n",
       "2002-04-01  186.720578\n",
       "2002-05-01  186.720578\n",
       "2002-06-01  186.720578\n",
       "2002-07-01  186.720578\n",
       "2002-08-01  186.720578\n",
       "2002-09-01  186.720578\n",
       "2002-10-01  186.720578\n",
       "2002-11-01  186.720578\n",
       "2002-12-01  186.720578"
      ]
     },
     "execution_count": 56,
     "metadata": {},
     "output_type": "execute_result"
    }
   ],
   "source": [
    "ma7_pred_df = pd.DataFrame(ma7_test_pred,columns=test_data.columns)\n",
    "ma7_pred_df"
   ]
  },
  {
   "cell_type": "code",
   "execution_count": 57,
   "id": "59f08013",
   "metadata": {},
   "outputs": [
    {
     "data": {
      "text/plain": [
       "16175.791743462829"
      ]
     },
     "execution_count": 57,
     "metadata": {},
     "output_type": "execute_result"
    }
   ],
   "source": [
    "mse_ma7 = mean_squared_error(test_data.Passengers,ma7_pred_df.Passengers)\n",
    "mse_ma7"
   ]
  },
  {
   "cell_type": "code",
   "execution_count": 58,
   "id": "e92d87af",
   "metadata": {},
   "outputs": [
    {
     "name": "stdout",
     "output_type": "stream",
     "text": [
      "RMSE =  127.18\n"
     ]
    }
   ],
   "source": [
    "print(\"RMSE = \",np.round(np.sqrt(mse_ma7),2))"
   ]
  },
  {
   "cell_type": "code",
   "execution_count": 59,
   "id": "f8669b6d",
   "metadata": {},
   "outputs": [
    {
     "data": {
      "image/png": "[encoded data removed]",
      "text/plain": [
       "<Figure size 432x288 with 1 Axes>"
      ]
     },
     "metadata": {
      "needs_background": "light"
     },
     "output_type": "display_data"
    }
   ],
   "source": [
    "test_data.Passengers.plot(legend = True,label = 'Test')\n",
    "ma7_pred_df.Passengers.plot(legend = True, label= 'Prediction');"
   ]
  },
  {
   "cell_type": "markdown",
   "id": "ccb93fae",
   "metadata": {},
   "source": [
    "### ARIMA Model"
   ]
  },
  {
   "cell_type": "code",
   "execution_count": 60,
   "id": "71e8c432",
   "metadata": {},
   "outputs": [],
   "source": [
    "data['d1'] = diff(data['Passengers'],k_diff=1)"
   ]
  },
  {
   "cell_type": "code",
   "execution_count": 61,
   "id": "0d9b6831",
   "metadata": {},
   "outputs": [
    {
     "data": {
      "text/html": [
       "<div>\n",
       "<style scoped>\n",
       "    .dataframe tbody tr th:only-of-type {\n",
       "        vertical-align: middle;\n",
       "    }\n",
       "\n",
       "    .dataframe tbody tr th {\n",
       "        vertical-align: top;\n",
       "    }\n",
       "\n",
       "    .dataframe thead th {\n",
       "        text-align: right;\n",
       "    }\n",
       "</style>\n",
       "<table border=\"1\" class=\"dataframe\">\n",
       "  <thead>\n",
       "    <tr style=\"text-align: right;\">\n",
       "      <th></th>\n",
       "      <th>Passengers</th>\n",
       "      <th>d1</th>\n",
       "    </tr>\n",
       "    <tr>\n",
       "      <th>Month</th>\n",
       "      <th></th>\n",
       "      <th></th>\n",
       "    </tr>\n",
       "  </thead>\n",
       "  <tbody>\n",
       "    <tr>\n",
       "      <th>1995-01-01</th>\n",
       "      <td>112</td>\n",
       "      <td>NaN</td>\n",
       "    </tr>\n",
       "    <tr>\n",
       "      <th>1995-02-01</th>\n",
       "      <td>118</td>\n",
       "      <td>6.0</td>\n",
       "    </tr>\n",
       "    <tr>\n",
       "      <th>1995-03-01</th>\n",
       "      <td>132</td>\n",
       "      <td>14.0</td>\n",
       "    </tr>\n",
       "    <tr>\n",
       "      <th>1995-04-01</th>\n",
       "      <td>129</td>\n",
       "      <td>-3.0</td>\n",
       "    </tr>\n",
       "    <tr>\n",
       "      <th>1995-05-01</th>\n",
       "      <td>121</td>\n",
       "      <td>-8.0</td>\n",
       "    </tr>\n",
       "    <tr>\n",
       "      <th>...</th>\n",
       "      <td>...</td>\n",
       "      <td>...</td>\n",
       "    </tr>\n",
       "    <tr>\n",
       "      <th>2002-08-01</th>\n",
       "      <td>405</td>\n",
       "      <td>-8.0</td>\n",
       "    </tr>\n",
       "    <tr>\n",
       "      <th>2002-09-01</th>\n",
       "      <td>355</td>\n",
       "      <td>-50.0</td>\n",
       "    </tr>\n",
       "    <tr>\n",
       "      <th>2002-10-01</th>\n",
       "      <td>306</td>\n",
       "      <td>-49.0</td>\n",
       "    </tr>\n",
       "    <tr>\n",
       "      <th>2002-11-01</th>\n",
       "      <td>271</td>\n",
       "      <td>-35.0</td>\n",
       "    </tr>\n",
       "    <tr>\n",
       "      <th>2002-12-01</th>\n",
       "      <td>306</td>\n",
       "      <td>35.0</td>\n",
       "    </tr>\n",
       "  </tbody>\n",
       "</table>\n",
       "<p>96 rows × 2 columns</p>\n",
       "</div>"
      ],
      "text/plain": [
       "            Passengers    d1\n",
       "Month                       \n",
       "1995-01-01         112   NaN\n",
       "1995-02-01         118   6.0\n",
       "1995-03-01         132  14.0\n",
       "1995-04-01         129  -3.0\n",
       "1995-05-01         121  -8.0\n",
       "...                ...   ...\n",
       "2002-08-01         405  -8.0\n",
       "2002-09-01         355 -50.0\n",
       "2002-10-01         306 -49.0\n",
       "2002-11-01         271 -35.0\n",
       "2002-12-01         306  35.0\n",
       "\n",
       "[96 rows x 2 columns]"
      ]
     },
     "execution_count": 61,
     "metadata": {},
     "output_type": "execute_result"
    }
   ],
   "source": [
    "data"
   ]
  },
  {
   "cell_type": "code",
   "execution_count": 62,
   "id": "e638478f",
   "metadata": {},
   "outputs": [
    {
     "data": {
      "text/plain": [
       "(-2.1500017359206556,\n",
       " 0.2248894264751249,\n",
       " 12,\n",
       " 82,\n",
       " {'1%': -3.512738056978279,\n",
       "  '5%': -2.8974898650628984,\n",
       "  '10%': -2.585948732897085},\n",
       " 613.1127223022611)"
      ]
     },
     "execution_count": 62,
     "metadata": {},
     "output_type": "execute_result"
    }
   ],
   "source": [
    "adfuller(data['d1'].iloc[1:])"
   ]
  },
  {
   "cell_type": "markdown",
   "id": "c319e081",
   "metadata": {},
   "source": [
    "Fail to reject null hypothesis"
   ]
  },
  {
   "cell_type": "markdown",
   "id": "0e9dbc5b",
   "metadata": {},
   "source": [
    "Data is still stationary"
   ]
  },
  {
   "cell_type": "code",
   "execution_count": 63,
   "id": "d553964b",
   "metadata": {},
   "outputs": [
    {
     "data": {
      "text/plain": [
       "<AxesSubplot:xlabel='Month'>"
      ]
     },
     "execution_count": 63,
     "metadata": {},
     "output_type": "execute_result"
    },
    {
     "data": {
      "image/png": "[encoded data removed]",
      "text/plain": [
       "<Figure size 432x288 with 1 Axes>"
      ]
     },
     "metadata": {
      "needs_background": "light"
     },
     "output_type": "display_data"
    }
   ],
   "source": [
    "data.d1.plot()"
   ]
  },
  {
   "cell_type": "code",
   "execution_count": 64,
   "id": "7f353bd0",
   "metadata": {},
   "outputs": [
    {
     "data": {
      "text/html": [
       "<div>\n",
       "<style scoped>\n",
       "    .dataframe tbody tr th:only-of-type {\n",
       "        vertical-align: middle;\n",
       "    }\n",
       "\n",
       "    .dataframe tbody tr th {\n",
       "        vertical-align: top;\n",
       "    }\n",
       "\n",
       "    .dataframe thead th {\n",
       "        text-align: right;\n",
       "    }\n",
       "</style>\n",
       "<table border=\"1\" class=\"dataframe\">\n",
       "  <thead>\n",
       "    <tr style=\"text-align: right;\">\n",
       "      <th></th>\n",
       "      <th>Passengers</th>\n",
       "      <th>d1</th>\n",
       "      <th>d2</th>\n",
       "    </tr>\n",
       "    <tr>\n",
       "      <th>Month</th>\n",
       "      <th></th>\n",
       "      <th></th>\n",
       "      <th></th>\n",
       "    </tr>\n",
       "  </thead>\n",
       "  <tbody>\n",
       "    <tr>\n",
       "      <th>1995-01-01</th>\n",
       "      <td>112</td>\n",
       "      <td>NaN</td>\n",
       "      <td>NaN</td>\n",
       "    </tr>\n",
       "    <tr>\n",
       "      <th>1995-02-01</th>\n",
       "      <td>118</td>\n",
       "      <td>6.0</td>\n",
       "      <td>NaN</td>\n",
       "    </tr>\n",
       "    <tr>\n",
       "      <th>1995-03-01</th>\n",
       "      <td>132</td>\n",
       "      <td>14.0</td>\n",
       "      <td>8.0</td>\n",
       "    </tr>\n",
       "    <tr>\n",
       "      <th>1995-04-01</th>\n",
       "      <td>129</td>\n",
       "      <td>-3.0</td>\n",
       "      <td>-17.0</td>\n",
       "    </tr>\n",
       "    <tr>\n",
       "      <th>1995-05-01</th>\n",
       "      <td>121</td>\n",
       "      <td>-8.0</td>\n",
       "      <td>-5.0</td>\n",
       "    </tr>\n",
       "    <tr>\n",
       "      <th>...</th>\n",
       "      <td>...</td>\n",
       "      <td>...</td>\n",
       "      <td>...</td>\n",
       "    </tr>\n",
       "    <tr>\n",
       "      <th>2002-08-01</th>\n",
       "      <td>405</td>\n",
       "      <td>-8.0</td>\n",
       "      <td>-47.0</td>\n",
       "    </tr>\n",
       "    <tr>\n",
       "      <th>2002-09-01</th>\n",
       "      <td>355</td>\n",
       "      <td>-50.0</td>\n",
       "      <td>-42.0</td>\n",
       "    </tr>\n",
       "    <tr>\n",
       "      <th>2002-10-01</th>\n",
       "      <td>306</td>\n",
       "      <td>-49.0</td>\n",
       "      <td>1.0</td>\n",
       "    </tr>\n",
       "    <tr>\n",
       "      <th>2002-11-01</th>\n",
       "      <td>271</td>\n",
       "      <td>-35.0</td>\n",
       "      <td>14.0</td>\n",
       "    </tr>\n",
       "    <tr>\n",
       "      <th>2002-12-01</th>\n",
       "      <td>306</td>\n",
       "      <td>35.0</td>\n",
       "      <td>70.0</td>\n",
       "    </tr>\n",
       "  </tbody>\n",
       "</table>\n",
       "<p>96 rows × 3 columns</p>\n",
       "</div>"
      ],
      "text/plain": [
       "            Passengers    d1    d2\n",
       "Month                             \n",
       "1995-01-01         112   NaN   NaN\n",
       "1995-02-01         118   6.0   NaN\n",
       "1995-03-01         132  14.0   8.0\n",
       "1995-04-01         129  -3.0 -17.0\n",
       "1995-05-01         121  -8.0  -5.0\n",
       "...                ...   ...   ...\n",
       "2002-08-01         405  -8.0 -47.0\n",
       "2002-09-01         355 -50.0 -42.0\n",
       "2002-10-01         306 -49.0   1.0\n",
       "2002-11-01         271 -35.0  14.0\n",
       "2002-12-01         306  35.0  70.0\n",
       "\n",
       "[96 rows x 3 columns]"
      ]
     },
     "execution_count": 64,
     "metadata": {},
     "output_type": "execute_result"
    }
   ],
   "source": [
    "data['d2'] = diff(data['Passengers'],k_diff=2)\n",
    "data"
   ]
  },
  {
   "cell_type": "code",
   "execution_count": 65,
   "id": "d52f302a",
   "metadata": {},
   "outputs": [
    {
     "data": {
      "text/plain": [
       "(-11.547980944840818,\n",
       " 3.503180236321031e-21,\n",
       " 11,\n",
       " 82,\n",
       " {'1%': -3.512738056978279,\n",
       "  '5%': -2.8974898650628984,\n",
       "  '10%': -2.585948732897085},\n",
       " 610.29507661304)"
      ]
     },
     "execution_count": 65,
     "metadata": {},
     "output_type": "execute_result"
    }
   ],
   "source": [
    "adfuller(data['d2'].iloc[2:])"
   ]
  },
  {
   "cell_type": "markdown",
   "id": "3673a7e3",
   "metadata": {},
   "source": [
    "Reject null hypothesis"
   ]
  },
  {
   "cell_type": "markdown",
   "id": "758e7847",
   "metadata": {},
   "source": [
    "Data is stationary"
   ]
  },
  {
   "cell_type": "code",
   "execution_count": 66,
   "id": "69865d72",
   "metadata": {},
   "outputs": [
    {
     "data": {
      "text/plain": [
       "<AxesSubplot:xlabel='Month'>"
      ]
     },
     "execution_count": 66,
     "metadata": {},
     "output_type": "execute_result"
    },
    {
     "data": {
      "image/png": "[encoded data removed]",
      "text/plain": [
       "<Figure size 432x288 with 1 Axes>"
      ]
     },
     "metadata": {
      "needs_background": "light"
     },
     "output_type": "display_data"
    }
   ],
   "source": [
    "data.d2.plot()"
   ]
  },
  {
   "cell_type": "code",
   "execution_count": 67,
   "id": "5415f2be",
   "metadata": {},
   "outputs": [
    {
     "data": {
      "text/html": [
       "<table class=\"simpletable\">\n",
       "<caption>ARIMA Model Results</caption>\n",
       "<tr>\n",
       "  <th>Dep. Variable:</th>   <td>D2.Passengers</td>  <th>  No. Observations:  </th>    <td>94</td>   \n",
       "</tr>\n",
       "<tr>\n",
       "  <th>Model:</th>          <td>ARIMA(3, 2, 6)</td>  <th>  Log Likelihood     </th> <td>-408.935</td>\n",
       "</tr>\n",
       "<tr>\n",
       "  <th>Method:</th>             <td>css-mle</td>     <th>  S.D. of innovations</th>  <td>17.233</td> \n",
       "</tr>\n",
       "<tr>\n",
       "  <th>Date:</th>          <td>Tue, 16 Aug 2022</td> <th>  AIC                </th>  <td>839.871</td>\n",
       "</tr>\n",
       "<tr>\n",
       "  <th>Time:</th>              <td>11:55:59</td>     <th>  BIC                </th>  <td>867.847</td>\n",
       "</tr>\n",
       "<tr>\n",
       "  <th>Sample:</th>           <td>03-01-1995</td>    <th>  HQIC               </th>  <td>851.171</td>\n",
       "</tr>\n",
       "<tr>\n",
       "  <th></th>                 <td>- 12-01-2002</td>   <th>                     </th>     <td> </td>   \n",
       "</tr>\n",
       "</table>\n",
       "<table class=\"simpletable\">\n",
       "<tr>\n",
       "           <td></td>              <th>coef</th>     <th>std err</th>      <th>z</th>      <th>P>|z|</th>  <th>[0.025</th>    <th>0.975]</th>  \n",
       "</tr>\n",
       "<tr>\n",
       "  <th>const</th>               <td>    0.0198</td> <td>    0.014</td> <td>    1.441</td> <td> 0.150</td> <td>   -0.007</td> <td>    0.047</td>\n",
       "</tr>\n",
       "<tr>\n",
       "  <th>ar.L1.D2.Passengers</th> <td>   -0.1571</td> <td>    0.493</td> <td>   -0.319</td> <td> 0.750</td> <td>   -1.123</td> <td>    0.808</td>\n",
       "</tr>\n",
       "<tr>\n",
       "  <th>ar.L2.D2.Passengers</th> <td>   -0.4837</td> <td>    0.124</td> <td>   -3.912</td> <td> 0.000</td> <td>   -0.726</td> <td>   -0.241</td>\n",
       "</tr>\n",
       "<tr>\n",
       "  <th>ar.L3.D2.Passengers</th> <td>    0.1191</td> <td>    0.243</td> <td>    0.490</td> <td> 0.624</td> <td>   -0.357</td> <td>    0.595</td>\n",
       "</tr>\n",
       "<tr>\n",
       "  <th>ma.L1.D2.Passengers</th> <td>   -0.7043</td> <td>    1.127</td> <td>   -0.625</td> <td> 0.532</td> <td>   -2.913</td> <td>    1.504</td>\n",
       "</tr>\n",
       "<tr>\n",
       "  <th>ma.L2.D2.Passengers</th> <td>   -0.1214</td> <td>    4.278</td> <td>   -0.028</td> <td> 0.977</td> <td>   -8.505</td> <td>    8.262</td>\n",
       "</tr>\n",
       "<tr>\n",
       "  <th>ma.L3.D2.Passengers</th> <td>   -0.6713</td> <td>    6.532</td> <td>   -0.103</td> <td> 0.918</td> <td>  -13.474</td> <td>   12.131</td>\n",
       "</tr>\n",
       "<tr>\n",
       "  <th>ma.L4.D2.Passengers</th> <td>   -0.3356</td> <td>    3.130</td> <td>   -0.107</td> <td> 0.915</td> <td>   -6.469</td> <td>    5.798</td>\n",
       "</tr>\n",
       "<tr>\n",
       "  <th>ma.L5.D2.Passengers</th> <td>    0.7258</td> <td>    3.779</td> <td>    0.192</td> <td> 0.848</td> <td>   -6.680</td> <td>    8.132</td>\n",
       "</tr>\n",
       "<tr>\n",
       "  <th>ma.L6.D2.Passengers</th> <td>    0.1166</td> <td>    0.746</td> <td>    0.156</td> <td> 0.876</td> <td>   -1.345</td> <td>    1.578</td>\n",
       "</tr>\n",
       "</table>\n",
       "<table class=\"simpletable\">\n",
       "<caption>Roots</caption>\n",
       "<tr>\n",
       "    <td></td>   <th>            Real</th>  <th>         Imaginary</th> <th>         Modulus</th>  <th>        Frequency</th>\n",
       "</tr>\n",
       "<tr>\n",
       "  <th>AR.1</th> <td>          -0.3283</td> <td>          -1.2929j</td> <td>           1.3340</td> <td>          -0.2896</td>\n",
       "</tr>\n",
       "<tr>\n",
       "  <th>AR.2</th> <td>          -0.3283</td> <td>          +1.2929j</td> <td>           1.3340</td> <td>           0.2896</td>\n",
       "</tr>\n",
       "<tr>\n",
       "  <th>AR.3</th> <td>           4.7178</td> <td>          -0.0000j</td> <td>           4.7178</td> <td>          -0.0000</td>\n",
       "</tr>\n",
       "<tr>\n",
       "  <th>MA.1</th> <td>           0.9990</td> <td>          -0.0447j</td> <td>           1.0000</td> <td>          -0.0071</td>\n",
       "</tr>\n",
       "<tr>\n",
       "  <th>MA.2</th> <td>           0.9990</td> <td>          +0.0447j</td> <td>           1.0000</td> <td>           0.0071</td>\n",
       "</tr>\n",
       "<tr>\n",
       "  <th>MA.3</th> <td>          -0.1896</td> <td>          -0.9819j</td> <td>           1.0000</td> <td>          -0.2804</td>\n",
       "</tr>\n",
       "<tr>\n",
       "  <th>MA.4</th> <td>          -0.1896</td> <td>          +0.9819j</td> <td>           1.0000</td> <td>           0.2804</td>\n",
       "</tr>\n",
       "<tr>\n",
       "  <th>MA.5</th> <td>          -1.3134</td> <td>          -0.0000j</td> <td>           1.3134</td> <td>          -0.5000</td>\n",
       "</tr>\n",
       "<tr>\n",
       "  <th>MA.6</th> <td>          -6.5305</td> <td>          -0.0000j</td> <td>           6.5305</td> <td>          -0.5000</td>\n",
       "</tr>\n",
       "</table>"
      ],
      "text/plain": [
       "<class 'statsmodels.iolib.summary.Summary'>\n",
       "\"\"\"\n",
       "                             ARIMA Model Results                              \n",
       "==============================================================================\n",
       "Dep. Variable:          D2.Passengers   No. Observations:                   94\n",
       "Model:                 ARIMA(3, 2, 6)   Log Likelihood                -408.935\n",
       "Method:                       css-mle   S.D. of innovations             17.233\n",
       "Date:                Tue, 16 Aug 2022   AIC                            839.871\n",
       "Time:                        11:55:59   BIC                            867.847\n",
       "Sample:                    03-01-1995   HQIC                           851.171\n",
       "                         - 12-01-2002                                         \n",
       "=======================================================================================\n",
       "                          coef    std err          z      P>|z|      [0.025      0.975]\n",
       "---------------------------------------------------------------------------------------\n",
       "const                   0.0198      0.014      1.441      0.150      -0.007       0.047\n",
       "ar.L1.D2.Passengers    -0.1571      0.493     -0.319      0.750      -1.123       0.808\n",
       "ar.L2.D2.Passengers    -0.4837      0.124     -3.912      0.000      -0.726      -0.241\n",
       "ar.L3.D2.Passengers     0.1191      0.243      0.490      0.624      -0.357       0.595\n",
       "ma.L1.D2.Passengers    -0.7043      1.127     -0.625      0.532      -2.913       1.504\n",
       "ma.L2.D2.Passengers    -0.1214      4.278     -0.028      0.977      -8.505       8.262\n",
       "ma.L3.D2.Passengers    -0.6713      6.532     -0.103      0.918     -13.474      12.131\n",
       "ma.L4.D2.Passengers    -0.3356      3.130     -0.107      0.915      -6.469       5.798\n",
       "ma.L5.D2.Passengers     0.7258      3.779      0.192      0.848      -6.680       8.132\n",
       "ma.L6.D2.Passengers     0.1166      0.746      0.156      0.876      -1.345       1.578\n",
       "                                    Roots                                    \n",
       "=============================================================================\n",
       "                  Real          Imaginary           Modulus         Frequency\n",
       "-----------------------------------------------------------------------------\n",
       "AR.1           -0.3283           -1.2929j            1.3340           -0.2896\n",
       "AR.2           -0.3283           +1.2929j            1.3340            0.2896\n",
       "AR.3            4.7178           -0.0000j            4.7178           -0.0000\n",
       "MA.1            0.9990           -0.0447j            1.0000           -0.0071\n",
       "MA.2            0.9990           +0.0447j            1.0000            0.0071\n",
       "MA.3           -0.1896           -0.9819j            1.0000           -0.2804\n",
       "MA.4           -0.1896           +0.9819j            1.0000            0.2804\n",
       "MA.5           -1.3134           -0.0000j            1.3134           -0.5000\n",
       "MA.6           -6.5305           -0.0000j            6.5305           -0.5000\n",
       "-----------------------------------------------------------------------------\n",
       "\"\"\""
      ]
     },
     "execution_count": 67,
     "metadata": {},
     "output_type": "execute_result"
    }
   ],
   "source": [
    "model_1 = ARIMA(data['Passengers'],order=(3,2,6))\n",
    "result_1 = model_1.fit()\n",
    "result_1.summary()"
   ]
  },
  {
   "cell_type": "code",
   "execution_count": 68,
   "id": "fc16d830",
   "metadata": {},
   "outputs": [],
   "source": [
    "model_2 = ARIMA(data.Passengers,order=(3,2,5))\n",
    "result_2 = model_2.fit()"
   ]
  },
  {
   "cell_type": "code",
   "execution_count": 69,
   "id": "c312de15",
   "metadata": {},
   "outputs": [
    {
     "data": {
      "text/plain": [
       "1.0"
      ]
     },
     "execution_count": 69,
     "metadata": {},
     "output_type": "execute_result"
    }
   ],
   "source": [
    "LLR_test(model_1,model_2)"
   ]
  },
  {
   "cell_type": "markdown",
   "id": "d3fba105",
   "metadata": {},
   "source": [
    "### ARIMA(3,2,1)"
   ]
  },
  {
   "cell_type": "code",
   "execution_count": 90,
   "id": "2fa37fb7",
   "metadata": {},
   "outputs": [
    {
     "data": {
      "text/html": [
       "<table class=\"simpletable\">\n",
       "<caption>ARIMA Model Results</caption>\n",
       "<tr>\n",
       "  <th>Dep. Variable:</th>   <td>D2.Passengers</td>  <th>  No. Observations:  </th>    <td>74</td>   \n",
       "</tr>\n",
       "<tr>\n",
       "  <th>Model:</th>          <td>ARIMA(3, 2, 1)</td>  <th>  Log Likelihood     </th> <td>-323.195</td>\n",
       "</tr>\n",
       "<tr>\n",
       "  <th>Method:</th>             <td>css-mle</td>     <th>  S.D. of innovations</th>  <td>18.498</td> \n",
       "</tr>\n",
       "<tr>\n",
       "  <th>Date:</th>          <td>Tue, 16 Aug 2022</td> <th>  AIC                </th>  <td>658.390</td>\n",
       "</tr>\n",
       "<tr>\n",
       "  <th>Time:</th>              <td>12:30:16</td>     <th>  BIC                </th>  <td>672.214</td>\n",
       "</tr>\n",
       "<tr>\n",
       "  <th>Sample:</th>           <td>03-01-1995</td>    <th>  HQIC               </th>  <td>663.905</td>\n",
       "</tr>\n",
       "<tr>\n",
       "  <th></th>                 <td>- 04-01-2001</td>   <th>                     </th>     <td> </td>   \n",
       "</tr>\n",
       "</table>\n",
       "<table class=\"simpletable\">\n",
       "<tr>\n",
       "           <td></td>              <th>coef</th>     <th>std err</th>      <th>z</th>      <th>P>|z|</th>  <th>[0.025</th>    <th>0.975]</th>  \n",
       "</tr>\n",
       "<tr>\n",
       "  <th>const</th>               <td>    0.0046</td> <td>    0.093</td> <td>    0.049</td> <td> 0.961</td> <td>   -0.177</td> <td>    0.187</td>\n",
       "</tr>\n",
       "<tr>\n",
       "  <th>ar.L1.D2.Passengers</th> <td>    0.1711</td> <td>    0.116</td> <td>    1.479</td> <td> 0.139</td> <td>   -0.056</td> <td>    0.398</td>\n",
       "</tr>\n",
       "<tr>\n",
       "  <th>ar.L2.D2.Passengers</th> <td>   -0.1427</td> <td>    0.117</td> <td>   -1.217</td> <td> 0.224</td> <td>   -0.373</td> <td>    0.087</td>\n",
       "</tr>\n",
       "<tr>\n",
       "  <th>ar.L3.D2.Passengers</th> <td>   -0.1082</td> <td>    0.117</td> <td>   -0.925</td> <td> 0.355</td> <td>   -0.338</td> <td>    0.121</td>\n",
       "</tr>\n",
       "<tr>\n",
       "  <th>ma.L1.D2.Passengers</th> <td>   -1.0000</td> <td>    0.035</td> <td>  -28.598</td> <td> 0.000</td> <td>   -1.069</td> <td>   -0.931</td>\n",
       "</tr>\n",
       "</table>\n",
       "<table class=\"simpletable\">\n",
       "<caption>Roots</caption>\n",
       "<tr>\n",
       "    <td></td>   <th>            Real</th>  <th>         Imaginary</th> <th>         Modulus</th>  <th>        Frequency</th>\n",
       "</tr>\n",
       "<tr>\n",
       "  <th>AR.1</th> <td>           0.8069</td> <td>          -1.5813j</td> <td>           1.7753</td> <td>          -0.1749</td>\n",
       "</tr>\n",
       "<tr>\n",
       "  <th>AR.2</th> <td>           0.8069</td> <td>          +1.5813j</td> <td>           1.7753</td> <td>           0.1749</td>\n",
       "</tr>\n",
       "<tr>\n",
       "  <th>AR.3</th> <td>          -2.9327</td> <td>          -0.0000j</td> <td>           2.9327</td> <td>          -0.5000</td>\n",
       "</tr>\n",
       "<tr>\n",
       "  <th>MA.1</th> <td>           1.0000</td> <td>          +0.0000j</td> <td>           1.0000</td> <td>           0.0000</td>\n",
       "</tr>\n",
       "</table>"
      ],
      "text/plain": [
       "<class 'statsmodels.iolib.summary.Summary'>\n",
       "\"\"\"\n",
       "                             ARIMA Model Results                              \n",
       "==============================================================================\n",
       "Dep. Variable:          D2.Passengers   No. Observations:                   74\n",
       "Model:                 ARIMA(3, 2, 1)   Log Likelihood                -323.195\n",
       "Method:                       css-mle   S.D. of innovations             18.498\n",
       "Date:                Tue, 16 Aug 2022   AIC                            658.390\n",
       "Time:                        12:30:16   BIC                            672.214\n",
       "Sample:                    03-01-1995   HQIC                           663.905\n",
       "                         - 04-01-2001                                         \n",
       "=======================================================================================\n",
       "                          coef    std err          z      P>|z|      [0.025      0.975]\n",
       "---------------------------------------------------------------------------------------\n",
       "const                   0.0046      0.093      0.049      0.961      -0.177       0.187\n",
       "ar.L1.D2.Passengers     0.1711      0.116      1.479      0.139      -0.056       0.398\n",
       "ar.L2.D2.Passengers    -0.1427      0.117     -1.217      0.224      -0.373       0.087\n",
       "ar.L3.D2.Passengers    -0.1082      0.117     -0.925      0.355      -0.338       0.121\n",
       "ma.L1.D2.Passengers    -1.0000      0.035    -28.598      0.000      -1.069      -0.931\n",
       "                                    Roots                                    \n",
       "=============================================================================\n",
       "                  Real          Imaginary           Modulus         Frequency\n",
       "-----------------------------------------------------------------------------\n",
       "AR.1            0.8069           -1.5813j            1.7753           -0.1749\n",
       "AR.2            0.8069           +1.5813j            1.7753            0.1749\n",
       "AR.3           -2.9327           -0.0000j            2.9327           -0.5000\n",
       "MA.1            1.0000           +0.0000j            1.0000            0.0000\n",
       "-----------------------------------------------------------------------------\n",
       "\"\"\""
      ]
     },
     "execution_count": 90,
     "metadata": {},
     "output_type": "execute_result"
    }
   ],
   "source": [
    "model_arima_325 = ARIMA(train_data.Passengers,order=(3,2,1))\n",
    "arima_325_fitted = model_arima_325.fit()\n",
    "arima_325_fitted.summary()"
   ]
  },
  {
   "cell_type": "code",
   "execution_count": 122,
   "id": "83f34065",
   "metadata": {},
   "outputs": [
    {
     "data": {
      "text/plain": [
       "2001-05-01    267.864386\n",
       "2001-06-01    266.111402\n",
       "2001-07-01    268.167497\n",
       "2001-08-01    271.307561\n",
       "2001-09-01    274.161256\n",
       "2001-10-01    276.404109\n",
       "2001-11-01    278.471009\n",
       "2001-12-01    280.630923\n",
       "2002-01-01    282.902912\n",
       "2002-02-01    285.204800\n",
       "2002-03-01    287.490710\n",
       "2002-04-01    289.762454\n",
       "2002-05-01    292.035784\n",
       "2002-06-01    294.318097\n",
       "2002-07-01    296.608216\n",
       "2002-08-01    298.903180\n",
       "2002-09-01    301.201848\n",
       "2002-10-01    303.504578\n",
       "2002-11-01    305.811911\n",
       "2002-12-01    308.124014\n",
       "Freq: MS, dtype: float64"
      ]
     },
     "execution_count": 122,
     "metadata": {},
     "output_type": "execute_result"
    }
   ],
   "source": [
    "arima_325_pred = arima_325_fitted.predict(76,95,typ = 'levels')\n",
    "arima_325_pred"
   ]
  },
  {
   "cell_type": "code",
   "execution_count": 123,
   "id": "fff8072a",
   "metadata": {},
   "outputs": [],
   "source": [
    "mse_arima_321 = mean_squared_error(arima_325_pred, test_data.Passengers)"
   ]
  },
  {
   "cell_type": "code",
   "execution_count": 124,
   "id": "1bb8c3a8",
   "metadata": {},
   "outputs": [
    {
     "name": "stdout",
     "output_type": "stream",
     "text": [
      "RMSE =  53.8\n"
     ]
    }
   ],
   "source": [
    "print(f'RMSE = ',np.round(np.sqrt(mse_arima_321),2))"
   ]
  },
  {
   "cell_type": "code",
   "execution_count": 74,
   "id": "21dbdb95",
   "metadata": {},
   "outputs": [
    {
     "data": {
      "text/html": [
       "<div>\n",
       "<style scoped>\n",
       "    .dataframe tbody tr th:only-of-type {\n",
       "        vertical-align: middle;\n",
       "    }\n",
       "\n",
       "    .dataframe tbody tr th {\n",
       "        vertical-align: top;\n",
       "    }\n",
       "\n",
       "    .dataframe thead th {\n",
       "        text-align: right;\n",
       "    }\n",
       "</style>\n",
       "<table border=\"1\" class=\"dataframe\">\n",
       "  <thead>\n",
       "    <tr style=\"text-align: right;\">\n",
       "      <th></th>\n",
       "      <th>Passengers</th>\n",
       "    </tr>\n",
       "  </thead>\n",
       "  <tbody>\n",
       "    <tr>\n",
       "      <th>2001-05-01</th>\n",
       "      <td>267.864386</td>\n",
       "    </tr>\n",
       "    <tr>\n",
       "      <th>2001-06-01</th>\n",
       "      <td>266.111402</td>\n",
       "    </tr>\n",
       "    <tr>\n",
       "      <th>2001-07-01</th>\n",
       "      <td>268.167497</td>\n",
       "    </tr>\n",
       "    <tr>\n",
       "      <th>2001-08-01</th>\n",
       "      <td>271.307561</td>\n",
       "    </tr>\n",
       "    <tr>\n",
       "      <th>2001-09-01</th>\n",
       "      <td>274.161256</td>\n",
       "    </tr>\n",
       "    <tr>\n",
       "      <th>2001-10-01</th>\n",
       "      <td>276.404109</td>\n",
       "    </tr>\n",
       "    <tr>\n",
       "      <th>2001-11-01</th>\n",
       "      <td>278.471009</td>\n",
       "    </tr>\n",
       "    <tr>\n",
       "      <th>2001-12-01</th>\n",
       "      <td>280.630923</td>\n",
       "    </tr>\n",
       "    <tr>\n",
       "      <th>2002-01-01</th>\n",
       "      <td>282.902912</td>\n",
       "    </tr>\n",
       "    <tr>\n",
       "      <th>2002-02-01</th>\n",
       "      <td>285.204800</td>\n",
       "    </tr>\n",
       "    <tr>\n",
       "      <th>2002-03-01</th>\n",
       "      <td>287.490710</td>\n",
       "    </tr>\n",
       "    <tr>\n",
       "      <th>2002-04-01</th>\n",
       "      <td>289.762454</td>\n",
       "    </tr>\n",
       "    <tr>\n",
       "      <th>2002-05-01</th>\n",
       "      <td>292.035784</td>\n",
       "    </tr>\n",
       "    <tr>\n",
       "      <th>2002-06-01</th>\n",
       "      <td>294.318097</td>\n",
       "    </tr>\n",
       "    <tr>\n",
       "      <th>2002-07-01</th>\n",
       "      <td>296.608216</td>\n",
       "    </tr>\n",
       "    <tr>\n",
       "      <th>2002-08-01</th>\n",
       "      <td>298.903180</td>\n",
       "    </tr>\n",
       "    <tr>\n",
       "      <th>2002-09-01</th>\n",
       "      <td>301.201848</td>\n",
       "    </tr>\n",
       "    <tr>\n",
       "      <th>2002-10-01</th>\n",
       "      <td>303.504578</td>\n",
       "    </tr>\n",
       "    <tr>\n",
       "      <th>2002-11-01</th>\n",
       "      <td>305.811911</td>\n",
       "    </tr>\n",
       "    <tr>\n",
       "      <th>2002-12-01</th>\n",
       "      <td>308.124014</td>\n",
       "    </tr>\n",
       "  </tbody>\n",
       "</table>\n",
       "</div>"
      ],
      "text/plain": [
       "            Passengers\n",
       "2001-05-01  267.864386\n",
       "2001-06-01  266.111402\n",
       "2001-07-01  268.167497\n",
       "2001-08-01  271.307561\n",
       "2001-09-01  274.161256\n",
       "2001-10-01  276.404109\n",
       "2001-11-01  278.471009\n",
       "2001-12-01  280.630923\n",
       "2002-01-01  282.902912\n",
       "2002-02-01  285.204800\n",
       "2002-03-01  287.490710\n",
       "2002-04-01  289.762454\n",
       "2002-05-01  292.035784\n",
       "2002-06-01  294.318097\n",
       "2002-07-01  296.608216\n",
       "2002-08-01  298.903180\n",
       "2002-09-01  301.201848\n",
       "2002-10-01  303.504578\n",
       "2002-11-01  305.811911\n",
       "2002-12-01  308.124014"
      ]
     },
     "execution_count": 74,
     "metadata": {},
     "output_type": "execute_result"
    }
   ],
   "source": [
    "arima_325_df = pd.DataFrame(arima_325_pred,columns=test_data.columns)\n",
    "arima_325_df"
   ]
  },
  {
   "cell_type": "code",
   "execution_count": 75,
   "id": "cb2215d6",
   "metadata": {},
   "outputs": [
    {
     "data": {
      "image/png": "[encoded data removed]",
      "text/plain": [
       "<Figure size 432x288 with 1 Axes>"
      ]
     },
     "metadata": {
      "needs_background": "light"
     },
     "output_type": "display_data"
    }
   ],
   "source": [
    "test_data.Passengers.plot(legend = True, label = 'Test')\n",
    "arima_325_df.Passengers.plot(legend = True, label = 'Prediction');"
   ]
  },
  {
   "cell_type": "code",
   "execution_count": 77,
   "id": "d67cf737",
   "metadata": {},
   "outputs": [],
   "source": [
    "df = pd.DataFrame()\n",
    "df['test'] = arima_325_df['Passengers']\n",
    "df['pred'] = test_data['Passengers']"
   ]
  },
  {
   "cell_type": "code",
   "execution_count": 78,
   "id": "273962df",
   "metadata": {},
   "outputs": [
    {
     "data": {
      "text/html": [
       "<div>\n",
       "<style scoped>\n",
       "    .dataframe tbody tr th:only-of-type {\n",
       "        vertical-align: middle;\n",
       "    }\n",
       "\n",
       "    .dataframe tbody tr th {\n",
       "        vertical-align: top;\n",
       "    }\n",
       "\n",
       "    .dataframe thead th {\n",
       "        text-align: right;\n",
       "    }\n",
       "</style>\n",
       "<table border=\"1\" class=\"dataframe\">\n",
       "  <thead>\n",
       "    <tr style=\"text-align: right;\">\n",
       "      <th></th>\n",
       "      <th>test</th>\n",
       "      <th>pred</th>\n",
       "    </tr>\n",
       "  </thead>\n",
       "  <tbody>\n",
       "    <tr>\n",
       "      <th>2001-05-01</th>\n",
       "      <td>267.864386</td>\n",
       "      <td>270</td>\n",
       "    </tr>\n",
       "    <tr>\n",
       "      <th>2001-06-01</th>\n",
       "      <td>266.111402</td>\n",
       "      <td>315</td>\n",
       "    </tr>\n",
       "    <tr>\n",
       "      <th>2001-07-01</th>\n",
       "      <td>268.167497</td>\n",
       "      <td>364</td>\n",
       "    </tr>\n",
       "    <tr>\n",
       "      <th>2001-08-01</th>\n",
       "      <td>271.307561</td>\n",
       "      <td>347</td>\n",
       "    </tr>\n",
       "    <tr>\n",
       "      <th>2001-09-01</th>\n",
       "      <td>274.161256</td>\n",
       "      <td>312</td>\n",
       "    </tr>\n",
       "    <tr>\n",
       "      <th>2001-10-01</th>\n",
       "      <td>276.404109</td>\n",
       "      <td>274</td>\n",
       "    </tr>\n",
       "    <tr>\n",
       "      <th>2001-11-01</th>\n",
       "      <td>278.471009</td>\n",
       "      <td>237</td>\n",
       "    </tr>\n",
       "    <tr>\n",
       "      <th>2001-12-01</th>\n",
       "      <td>280.630923</td>\n",
       "      <td>278</td>\n",
       "    </tr>\n",
       "    <tr>\n",
       "      <th>2002-01-01</th>\n",
       "      <td>282.902912</td>\n",
       "      <td>284</td>\n",
       "    </tr>\n",
       "    <tr>\n",
       "      <th>2002-02-01</th>\n",
       "      <td>285.204800</td>\n",
       "      <td>277</td>\n",
       "    </tr>\n",
       "    <tr>\n",
       "      <th>2002-03-01</th>\n",
       "      <td>287.490710</td>\n",
       "      <td>317</td>\n",
       "    </tr>\n",
       "    <tr>\n",
       "      <th>2002-04-01</th>\n",
       "      <td>289.762454</td>\n",
       "      <td>313</td>\n",
       "    </tr>\n",
       "    <tr>\n",
       "      <th>2002-05-01</th>\n",
       "      <td>292.035784</td>\n",
       "      <td>318</td>\n",
       "    </tr>\n",
       "    <tr>\n",
       "      <th>2002-06-01</th>\n",
       "      <td>294.318097</td>\n",
       "      <td>374</td>\n",
       "    </tr>\n",
       "    <tr>\n",
       "      <th>2002-07-01</th>\n",
       "      <td>296.608216</td>\n",
       "      <td>413</td>\n",
       "    </tr>\n",
       "    <tr>\n",
       "      <th>2002-08-01</th>\n",
       "      <td>298.903180</td>\n",
       "      <td>405</td>\n",
       "    </tr>\n",
       "    <tr>\n",
       "      <th>2002-09-01</th>\n",
       "      <td>301.201848</td>\n",
       "      <td>355</td>\n",
       "    </tr>\n",
       "    <tr>\n",
       "      <th>2002-10-01</th>\n",
       "      <td>303.504578</td>\n",
       "      <td>306</td>\n",
       "    </tr>\n",
       "    <tr>\n",
       "      <th>2002-11-01</th>\n",
       "      <td>305.811911</td>\n",
       "      <td>271</td>\n",
       "    </tr>\n",
       "    <tr>\n",
       "      <th>2002-12-01</th>\n",
       "      <td>308.124014</td>\n",
       "      <td>306</td>\n",
       "    </tr>\n",
       "  </tbody>\n",
       "</table>\n",
       "</div>"
      ],
      "text/plain": [
       "                  test  pred\n",
       "2001-05-01  267.864386   270\n",
       "2001-06-01  266.111402   315\n",
       "2001-07-01  268.167497   364\n",
       "2001-08-01  271.307561   347\n",
       "2001-09-01  274.161256   312\n",
       "2001-10-01  276.404109   274\n",
       "2001-11-01  278.471009   237\n",
       "2001-12-01  280.630923   278\n",
       "2002-01-01  282.902912   284\n",
       "2002-02-01  285.204800   277\n",
       "2002-03-01  287.490710   317\n",
       "2002-04-01  289.762454   313\n",
       "2002-05-01  292.035784   318\n",
       "2002-06-01  294.318097   374\n",
       "2002-07-01  296.608216   413\n",
       "2002-08-01  298.903180   405\n",
       "2002-09-01  301.201848   355\n",
       "2002-10-01  303.504578   306\n",
       "2002-11-01  305.811911   271\n",
       "2002-12-01  308.124014   306"
      ]
     },
     "execution_count": 78,
     "metadata": {},
     "output_type": "execute_result"
    }
   ],
   "source": [
    "df"
   ]
  },
  {
   "cell_type": "markdown",
   "id": "071457bd",
   "metadata": {},
   "source": [
    "### Forecasting into the future"
   ]
  },
  {
   "cell_type": "code",
   "execution_count": 92,
   "id": "f7e5201f",
   "metadata": {},
   "outputs": [],
   "source": [
    "model = ARIMA(data.Passengers,order = (3,2,1))\n",
    "model_fit = model.fit()"
   ]
  },
  {
   "cell_type": "code",
   "execution_count": 104,
   "id": "efd27f9d",
   "metadata": {},
   "outputs": [
    {
     "data": {
      "text/plain": [
       "2003-01-01    331.408216\n",
       "2003-02-01    337.641705\n",
       "2003-03-01    332.785211\n",
       "2003-04-01    329.606161\n",
       "2003-05-01    331.284314\n",
       "2003-06-01    335.248865\n",
       "2003-07-01    338.716040\n",
       "2003-08-01    341.050017\n",
       "2003-09-01    342.912873\n",
       "2003-10-01    344.930383\n",
       "2003-11-01    347.219463\n",
       "2003-12-01    349.614601\n",
       "2004-01-01    351.975539\n",
       "2004-02-01    354.282353\n",
       "2004-03-01    356.575836\n",
       "2004-04-01    358.887222\n",
       "2004-05-01    361.219482\n",
       "2004-06-01    363.562674\n",
       "2004-07-01    365.909892\n",
       "2004-08-01    368.260823\n",
       "2004-09-01    370.617866\n",
       "Freq: MS, Name: ARIMA(3,2,1) Forecast, dtype: float64"
      ]
     },
     "execution_count": 104,
     "metadata": {},
     "output_type": "execute_result"
    }
   ],
   "source": [
    "fcast = model_fit.predict(len(data),len(data)+20,typ='levels').rename('ARIMA(3,2,1) Forecast')\n",
    "fcast"
   ]
  },
  {
   "cell_type": "code",
   "execution_count": 130,
   "id": "6e6842c4",
   "metadata": {},
   "outputs": [
    {
     "data": {
      "image/png": "[encoded data removed]",
      "text/plain": [
       "<Figure size 720x432 with 1 Axes>"
      ]
     },
     "metadata": {
      "needs_background": "light"
     },
     "output_type": "display_data"
    }
   ],
   "source": [
    "train_data['Passengers'].plot(legend = True, label = 'Train')\n",
    "test_data['Passengers'].plot(legend = True, label = 'Test')\n",
    "fcast.plot(legend=True, label='Forecast',figsize= (10,6));"
   ]
  },
  {
   "cell_type": "markdown",
   "id": "ebcd6992",
   "metadata": {},
   "source": [
    "**The rmse value of triple exponential smoothing model with multiplicative trend and multiplicative seasonality is the least among above models.<br>So it is the best model for forecasting.**"
   ]
  }
 ],
 "metadata": {
  "kernelspec": {
   "display_name": "Python 3 (ipykernel)",
   "language": "python",
   "name": "python3"
  },
  "language_info": {
   "codemirror_mode": {
    "name": "ipython",
    "version": 3
   },
   "file_extension": ".py",
   "mimetype": "text/x-python",
   "name": "python",
   "nbconvert_exporter": "python",
   "pygments_lexer": "ipython3",
   "version": "3.9.7"
  }
 },
 "nbformat": 4,
 "nbformat_minor": 5
}
