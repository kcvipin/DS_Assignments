{
 "cells": [
  {
   "cell_type": "code",
   "execution_count": 1,
   "id": "f63e4397",
   "metadata": {},
   "outputs": [],
   "source": [
    "import pandas as pd\n",
    "import numpy as np\n",
    "import matplotlib.pyplot as plt\n",
    "import seaborn as sns\n",
    "import statsmodels.graphics.tsaplots as tsa_plot\n",
    "from statsmodels.tsa.seasonal import seasonal_decompose\n",
    "import statsmodels.formula.api as smf\n",
    "from statsmodels.tsa.holtwinters import SimpleExpSmoothing\n",
    "from statsmodels.tsa.holtwinters import Holt\n",
    "from statsmodels.tsa.holtwinters import ExponentialSmoothing\n",
    "from statsmodels.tsa.arima_model import ARMA\n",
    "from sklearn.metrics import mean_absolute_error\n",
    "from datetime import datetime as dlt\n",
    "\n",
    "import warnings\n",
    "warnings.filterwarnings('ignore')"
   ]
  },
  {
   "cell_type": "code",
   "execution_count": 2,
   "id": "63de36f6",
   "metadata": {},
   "outputs": [
    {
     "data": {
      "text/html": [
       "<div>\n",
       "<style scoped>\n",
       "    .dataframe tbody tr th:only-of-type {\n",
       "        vertical-align: middle;\n",
       "    }\n",
       "\n",
       "    .dataframe tbody tr th {\n",
       "        vertical-align: top;\n",
       "    }\n",
       "\n",
       "    .dataframe thead th {\n",
       "        text-align: right;\n",
       "    }\n",
       "</style>\n",
       "<table border=\"1\" class=\"dataframe\">\n",
       "  <thead>\n",
       "    <tr style=\"text-align: right;\">\n",
       "      <th></th>\n",
       "      <th>Quarter</th>\n",
       "      <th>Sales</th>\n",
       "    </tr>\n",
       "  </thead>\n",
       "  <tbody>\n",
       "    <tr>\n",
       "      <th>0</th>\n",
       "      <td>Q1_86</td>\n",
       "      <td>1734.827000</td>\n",
       "    </tr>\n",
       "    <tr>\n",
       "      <th>1</th>\n",
       "      <td>Q2_86</td>\n",
       "      <td>2244.960999</td>\n",
       "    </tr>\n",
       "    <tr>\n",
       "      <th>2</th>\n",
       "      <td>Q3_86</td>\n",
       "      <td>2533.804993</td>\n",
       "    </tr>\n",
       "    <tr>\n",
       "      <th>3</th>\n",
       "      <td>Q4_86</td>\n",
       "      <td>2154.962997</td>\n",
       "    </tr>\n",
       "    <tr>\n",
       "      <th>4</th>\n",
       "      <td>Q1_87</td>\n",
       "      <td>1547.818996</td>\n",
       "    </tr>\n",
       "    <tr>\n",
       "      <th>5</th>\n",
       "      <td>Q2_87</td>\n",
       "      <td>2104.411995</td>\n",
       "    </tr>\n",
       "    <tr>\n",
       "      <th>6</th>\n",
       "      <td>Q3_87</td>\n",
       "      <td>2014.362999</td>\n",
       "    </tr>\n",
       "    <tr>\n",
       "      <th>7</th>\n",
       "      <td>Q4_87</td>\n",
       "      <td>1991.746998</td>\n",
       "    </tr>\n",
       "    <tr>\n",
       "      <th>8</th>\n",
       "      <td>Q1_88</td>\n",
       "      <td>1869.049999</td>\n",
       "    </tr>\n",
       "    <tr>\n",
       "      <th>9</th>\n",
       "      <td>Q2_88</td>\n",
       "      <td>2313.631996</td>\n",
       "    </tr>\n",
       "  </tbody>\n",
       "</table>\n",
       "</div>"
      ],
      "text/plain": [
       "  Quarter        Sales\n",
       "0   Q1_86  1734.827000\n",
       "1   Q2_86  2244.960999\n",
       "2   Q3_86  2533.804993\n",
       "3   Q4_86  2154.962997\n",
       "4   Q1_87  1547.818996\n",
       "5   Q2_87  2104.411995\n",
       "6   Q3_87  2014.362999\n",
       "7   Q4_87  1991.746998\n",
       "8   Q1_88  1869.049999\n",
       "9   Q2_88  2313.631996"
      ]
     },
     "execution_count": 2,
     "metadata": {},
     "output_type": "execute_result"
    }
   ],
   "source": [
    "sales = pd.read_excel('CocaCola_Sales_Rawdata.xlsx')\n",
    "sales.head(10)"
   ]
  },
  {
   "cell_type": "code",
   "execution_count": 3,
   "id": "957dd502",
   "metadata": {},
   "outputs": [
    {
     "data": {
      "text/plain": [
       "(42, 2)"
      ]
     },
     "execution_count": 3,
     "metadata": {},
     "output_type": "execute_result"
    }
   ],
   "source": [
    "sales.shape"
   ]
  },
  {
   "cell_type": "code",
   "execution_count": 4,
   "id": "c3ecffb8",
   "metadata": {},
   "outputs": [
    {
     "data": {
      "text/plain": [
       "Quarter     object\n",
       "Sales      float64\n",
       "dtype: object"
      ]
     },
     "execution_count": 4,
     "metadata": {},
     "output_type": "execute_result"
    }
   ],
   "source": [
    "sales.dtypes"
   ]
  },
  {
   "cell_type": "code",
   "execution_count": 5,
   "id": "79108c3d",
   "metadata": {},
   "outputs": [
    {
     "data": {
      "text/plain": [
       "Quarter    0\n",
       "Sales      0\n",
       "dtype: int64"
      ]
     },
     "execution_count": 5,
     "metadata": {},
     "output_type": "execute_result"
    }
   ],
   "source": [
    "sales.isna().sum()"
   ]
  },
  {
   "cell_type": "code",
   "execution_count": 6,
   "id": "9836e0e0",
   "metadata": {},
   "outputs": [
    {
     "data": {
      "image/png": "[encoded data removed]",
      "text/plain": [
       "<Figure size 432x288 with 1 Axes>"
      ]
     },
     "metadata": {
      "needs_background": "light"
     },
     "output_type": "display_data"
    }
   ],
   "source": [
    "sales['Sales'].plot()\n",
    "plt.show()"
   ]
  },
  {
   "cell_type": "code",
   "execution_count": 7,
   "id": "37a65f42",
   "metadata": {},
   "outputs": [
    {
     "data": {
      "image/png": "[encoded data removed]",
      "text/plain": [
       "<Figure size 432x288 with 1 Axes>"
      ]
     },
     "metadata": {
      "needs_background": "light"
     },
     "output_type": "display_data"
    }
   ],
   "source": [
    "sales['Sales'].plot(kind = 'kde')\n",
    "plt.show()"
   ]
  },
  {
   "cell_type": "code",
   "execution_count": 8,
   "id": "7dea2aeb",
   "metadata": {},
   "outputs": [],
   "source": [
    "sales['Quarters'] = 0\n",
    "sales['Year'] = 0\n",
    "for i in range(sales.shape[0]):\n",
    "    p = sales['Quarter'][i]\n",
    "    sales['Quarters'][i] = p[0:2]\n",
    "    sales['Year'][i] = p[3:5]\n"
   ]
  },
  {
   "cell_type": "code",
   "execution_count": 9,
   "id": "22a303ac",
   "metadata": {},
   "outputs": [
    {
     "data": {
      "text/html": [
       "<div>\n",
       "<style scoped>\n",
       "    .dataframe tbody tr th:only-of-type {\n",
       "        vertical-align: middle;\n",
       "    }\n",
       "\n",
       "    .dataframe tbody tr th {\n",
       "        vertical-align: top;\n",
       "    }\n",
       "\n",
       "    .dataframe thead th {\n",
       "        text-align: right;\n",
       "    }\n",
       "</style>\n",
       "<table border=\"1\" class=\"dataframe\">\n",
       "  <thead>\n",
       "    <tr style=\"text-align: right;\">\n",
       "      <th></th>\n",
       "      <th>Quarter</th>\n",
       "      <th>Sales</th>\n",
       "      <th>Quarters</th>\n",
       "      <th>Year</th>\n",
       "    </tr>\n",
       "  </thead>\n",
       "  <tbody>\n",
       "    <tr>\n",
       "      <th>0</th>\n",
       "      <td>Q1_86</td>\n",
       "      <td>1734.827000</td>\n",
       "      <td>Q1</td>\n",
       "      <td>86</td>\n",
       "    </tr>\n",
       "    <tr>\n",
       "      <th>1</th>\n",
       "      <td>Q2_86</td>\n",
       "      <td>2244.960999</td>\n",
       "      <td>Q2</td>\n",
       "      <td>86</td>\n",
       "    </tr>\n",
       "    <tr>\n",
       "      <th>2</th>\n",
       "      <td>Q3_86</td>\n",
       "      <td>2533.804993</td>\n",
       "      <td>Q3</td>\n",
       "      <td>86</td>\n",
       "    </tr>\n",
       "    <tr>\n",
       "      <th>3</th>\n",
       "      <td>Q4_86</td>\n",
       "      <td>2154.962997</td>\n",
       "      <td>Q4</td>\n",
       "      <td>86</td>\n",
       "    </tr>\n",
       "    <tr>\n",
       "      <th>4</th>\n",
       "      <td>Q1_87</td>\n",
       "      <td>1547.818996</td>\n",
       "      <td>Q1</td>\n",
       "      <td>87</td>\n",
       "    </tr>\n",
       "  </tbody>\n",
       "</table>\n",
       "</div>"
      ],
      "text/plain": [
       "  Quarter        Sales Quarters  Year\n",
       "0   Q1_86  1734.827000       Q1    86\n",
       "1   Q2_86  2244.960999       Q2    86\n",
       "2   Q3_86  2533.804993       Q3    86\n",
       "3   Q4_86  2154.962997       Q4    86\n",
       "4   Q1_87  1547.818996       Q1    87"
      ]
     },
     "execution_count": 9,
     "metadata": {},
     "output_type": "execute_result"
    }
   ],
   "source": [
    "sales.head()"
   ]
  },
  {
   "cell_type": "code",
   "execution_count": 10,
   "id": "b801fee1",
   "metadata": {},
   "outputs": [
    {
     "data": {
      "image/png": "[encoded data removed]",
      "text/plain": [
       "<Figure size 432x288 with 1 Axes>"
      ]
     },
     "metadata": {
      "needs_background": "light"
     },
     "output_type": "display_data"
    }
   ],
   "source": [
    "sns.boxplot(x='Quarters',y='Sales',data = sales)\n",
    "plt.show()"
   ]
  },
  {
   "cell_type": "code",
   "execution_count": 11,
   "id": "eae8b1ff",
   "metadata": {},
   "outputs": [
    {
     "data": {
      "image/png": "[encoded data removed]",
      "text/plain": [
       "<Figure size 432x288 with 1 Axes>"
      ]
     },
     "metadata": {
      "needs_background": "light"
     },
     "output_type": "display_data"
    }
   ],
   "source": [
    "sns.boxplot(x='Year',y='Sales',data=sales)\n",
    "plt.show()"
   ]
  },
  {
   "cell_type": "code",
   "execution_count": 12,
   "id": "82c675b4",
   "metadata": {},
   "outputs": [
    {
     "data": {
      "image/png": "[encoded data removed]",
      "text/plain": [
       "<Figure size 432x288 with 1 Axes>"
      ]
     },
     "execution_count": 12,
     "metadata": {},
     "output_type": "execute_result"
    },
    {
     "data": {
      "image/png": "[encoded data removed]",
      "text/plain": [
       "<Figure size 432x288 with 1 Axes>"
      ]
     },
     "metadata": {
      "needs_background": "light"
     },
     "output_type": "display_data"
    },
    {
     "data": {
      "image/png": "[encoded data removed]",
      "text/plain": [
       "<Figure size 432x288 with 1 Axes>"
      ]
     },
     "metadata": {
      "needs_background": "light"
     },
     "output_type": "display_data"
    }
   ],
   "source": [
    " tsa_plot.plot_acf(sales.Sales,lags=4)\n",
    "tsa_plot.plot_pacf(sales.Sales,lags=4)"
   ]
  },
  {
   "cell_type": "code",
   "execution_count": 13,
   "id": "cf975d1a",
   "metadata": {},
   "outputs": [
    {
     "data": {
      "image/png": "[encoded data removed]",
      "text/plain": [
       "<Figure size 432x288 with 4 Axes>"
      ]
     },
     "metadata": {
      "needs_background": "light"
     },
     "output_type": "display_data"
    }
   ],
   "source": [
    "decompose_ts_add = seasonal_decompose(sales['Sales'],period=4)\n",
    "decompose_ts_add.plot()\n",
    "plt.show()"
   ]
  },
  {
   "cell_type": "code",
   "execution_count": 14,
   "id": "fd919582",
   "metadata": {},
   "outputs": [
    {
     "data": {
      "text/html": [
       "<div>\n",
       "<style scoped>\n",
       "    .dataframe tbody tr th:only-of-type {\n",
       "        vertical-align: middle;\n",
       "    }\n",
       "\n",
       "    .dataframe tbody tr th {\n",
       "        vertical-align: top;\n",
       "    }\n",
       "\n",
       "    .dataframe thead th {\n",
       "        text-align: right;\n",
       "    }\n",
       "</style>\n",
       "<table border=\"1\" class=\"dataframe\">\n",
       "  <thead>\n",
       "    <tr style=\"text-align: right;\">\n",
       "      <th></th>\n",
       "      <th>Quarter</th>\n",
       "      <th>Sales</th>\n",
       "      <th>Year</th>\n",
       "      <th>t</th>\n",
       "      <th>sq_t</th>\n",
       "      <th>log_sale</th>\n",
       "      <th>Quarters_Q1</th>\n",
       "      <th>Quarters_Q2</th>\n",
       "      <th>Quarters_Q3</th>\n",
       "      <th>Quarters_Q4</th>\n",
       "    </tr>\n",
       "  </thead>\n",
       "  <tbody>\n",
       "    <tr>\n",
       "      <th>0</th>\n",
       "      <td>Q1_86</td>\n",
       "      <td>1734.827000</td>\n",
       "      <td>86</td>\n",
       "      <td>0</td>\n",
       "      <td>0</td>\n",
       "      <td>7.458663</td>\n",
       "      <td>1</td>\n",
       "      <td>0</td>\n",
       "      <td>0</td>\n",
       "      <td>0</td>\n",
       "    </tr>\n",
       "    <tr>\n",
       "      <th>1</th>\n",
       "      <td>Q2_86</td>\n",
       "      <td>2244.960999</td>\n",
       "      <td>86</td>\n",
       "      <td>1</td>\n",
       "      <td>1</td>\n",
       "      <td>7.716443</td>\n",
       "      <td>0</td>\n",
       "      <td>1</td>\n",
       "      <td>0</td>\n",
       "      <td>0</td>\n",
       "    </tr>\n",
       "    <tr>\n",
       "      <th>2</th>\n",
       "      <td>Q3_86</td>\n",
       "      <td>2533.804993</td>\n",
       "      <td>86</td>\n",
       "      <td>2</td>\n",
       "      <td>4</td>\n",
       "      <td>7.837477</td>\n",
       "      <td>0</td>\n",
       "      <td>0</td>\n",
       "      <td>1</td>\n",
       "      <td>0</td>\n",
       "    </tr>\n",
       "    <tr>\n",
       "      <th>3</th>\n",
       "      <td>Q4_86</td>\n",
       "      <td>2154.962997</td>\n",
       "      <td>86</td>\n",
       "      <td>3</td>\n",
       "      <td>9</td>\n",
       "      <td>7.675529</td>\n",
       "      <td>0</td>\n",
       "      <td>0</td>\n",
       "      <td>0</td>\n",
       "      <td>1</td>\n",
       "    </tr>\n",
       "    <tr>\n",
       "      <th>4</th>\n",
       "      <td>Q1_87</td>\n",
       "      <td>1547.818996</td>\n",
       "      <td>87</td>\n",
       "      <td>4</td>\n",
       "      <td>16</td>\n",
       "      <td>7.344602</td>\n",
       "      <td>1</td>\n",
       "      <td>0</td>\n",
       "      <td>0</td>\n",
       "      <td>0</td>\n",
       "    </tr>\n",
       "    <tr>\n",
       "      <th>5</th>\n",
       "      <td>Q2_87</td>\n",
       "      <td>2104.411995</td>\n",
       "      <td>87</td>\n",
       "      <td>5</td>\n",
       "      <td>25</td>\n",
       "      <td>7.651791</td>\n",
       "      <td>0</td>\n",
       "      <td>1</td>\n",
       "      <td>0</td>\n",
       "      <td>0</td>\n",
       "    </tr>\n",
       "    <tr>\n",
       "      <th>6</th>\n",
       "      <td>Q3_87</td>\n",
       "      <td>2014.362999</td>\n",
       "      <td>87</td>\n",
       "      <td>6</td>\n",
       "      <td>36</td>\n",
       "      <td>7.608058</td>\n",
       "      <td>0</td>\n",
       "      <td>0</td>\n",
       "      <td>1</td>\n",
       "      <td>0</td>\n",
       "    </tr>\n",
       "    <tr>\n",
       "      <th>7</th>\n",
       "      <td>Q4_87</td>\n",
       "      <td>1991.746998</td>\n",
       "      <td>87</td>\n",
       "      <td>7</td>\n",
       "      <td>49</td>\n",
       "      <td>7.596767</td>\n",
       "      <td>0</td>\n",
       "      <td>0</td>\n",
       "      <td>0</td>\n",
       "      <td>1</td>\n",
       "    </tr>\n",
       "    <tr>\n",
       "      <th>8</th>\n",
       "      <td>Q1_88</td>\n",
       "      <td>1869.049999</td>\n",
       "      <td>88</td>\n",
       "      <td>8</td>\n",
       "      <td>64</td>\n",
       "      <td>7.533186</td>\n",
       "      <td>1</td>\n",
       "      <td>0</td>\n",
       "      <td>0</td>\n",
       "      <td>0</td>\n",
       "    </tr>\n",
       "    <tr>\n",
       "      <th>9</th>\n",
       "      <td>Q2_88</td>\n",
       "      <td>2313.631996</td>\n",
       "      <td>88</td>\n",
       "      <td>9</td>\n",
       "      <td>81</td>\n",
       "      <td>7.746574</td>\n",
       "      <td>0</td>\n",
       "      <td>1</td>\n",
       "      <td>0</td>\n",
       "      <td>0</td>\n",
       "    </tr>\n",
       "    <tr>\n",
       "      <th>10</th>\n",
       "      <td>Q3_88</td>\n",
       "      <td>2128.320000</td>\n",
       "      <td>88</td>\n",
       "      <td>10</td>\n",
       "      <td>100</td>\n",
       "      <td>7.663088</td>\n",
       "      <td>0</td>\n",
       "      <td>0</td>\n",
       "      <td>1</td>\n",
       "      <td>0</td>\n",
       "    </tr>\n",
       "    <tr>\n",
       "      <th>11</th>\n",
       "      <td>Q4_88</td>\n",
       "      <td>2026.828999</td>\n",
       "      <td>88</td>\n",
       "      <td>11</td>\n",
       "      <td>121</td>\n",
       "      <td>7.614228</td>\n",
       "      <td>0</td>\n",
       "      <td>0</td>\n",
       "      <td>0</td>\n",
       "      <td>1</td>\n",
       "    </tr>\n",
       "    <tr>\n",
       "      <th>12</th>\n",
       "      <td>Q1_89</td>\n",
       "      <td>1910.603996</td>\n",
       "      <td>89</td>\n",
       "      <td>12</td>\n",
       "      <td>144</td>\n",
       "      <td>7.555175</td>\n",
       "      <td>1</td>\n",
       "      <td>0</td>\n",
       "      <td>0</td>\n",
       "      <td>0</td>\n",
       "    </tr>\n",
       "    <tr>\n",
       "      <th>13</th>\n",
       "      <td>Q2_89</td>\n",
       "      <td>2331.164993</td>\n",
       "      <td>89</td>\n",
       "      <td>13</td>\n",
       "      <td>169</td>\n",
       "      <td>7.754123</td>\n",
       "      <td>0</td>\n",
       "      <td>1</td>\n",
       "      <td>0</td>\n",
       "      <td>0</td>\n",
       "    </tr>\n",
       "    <tr>\n",
       "      <th>14</th>\n",
       "      <td>Q3_89</td>\n",
       "      <td>2206.549995</td>\n",
       "      <td>89</td>\n",
       "      <td>14</td>\n",
       "      <td>196</td>\n",
       "      <td>7.699185</td>\n",
       "      <td>0</td>\n",
       "      <td>0</td>\n",
       "      <td>1</td>\n",
       "      <td>0</td>\n",
       "    </tr>\n",
       "    <tr>\n",
       "      <th>15</th>\n",
       "      <td>Q4_89</td>\n",
       "      <td>2173.967995</td>\n",
       "      <td>89</td>\n",
       "      <td>15</td>\n",
       "      <td>225</td>\n",
       "      <td>7.684309</td>\n",
       "      <td>0</td>\n",
       "      <td>0</td>\n",
       "      <td>0</td>\n",
       "      <td>1</td>\n",
       "    </tr>\n",
       "    <tr>\n",
       "      <th>16</th>\n",
       "      <td>Q1_90</td>\n",
       "      <td>2148.278000</td>\n",
       "      <td>90</td>\n",
       "      <td>16</td>\n",
       "      <td>256</td>\n",
       "      <td>7.672422</td>\n",
       "      <td>1</td>\n",
       "      <td>0</td>\n",
       "      <td>0</td>\n",
       "      <td>0</td>\n",
       "    </tr>\n",
       "    <tr>\n",
       "      <th>17</th>\n",
       "      <td>Q2_90</td>\n",
       "      <td>2739.307999</td>\n",
       "      <td>90</td>\n",
       "      <td>17</td>\n",
       "      <td>289</td>\n",
       "      <td>7.915461</td>\n",
       "      <td>0</td>\n",
       "      <td>1</td>\n",
       "      <td>0</td>\n",
       "      <td>0</td>\n",
       "    </tr>\n",
       "    <tr>\n",
       "      <th>18</th>\n",
       "      <td>Q3_90</td>\n",
       "      <td>2792.753998</td>\n",
       "      <td>90</td>\n",
       "      <td>18</td>\n",
       "      <td>324</td>\n",
       "      <td>7.934783</td>\n",
       "      <td>0</td>\n",
       "      <td>0</td>\n",
       "      <td>1</td>\n",
       "      <td>0</td>\n",
       "    </tr>\n",
       "    <tr>\n",
       "      <th>19</th>\n",
       "      <td>Q4_90</td>\n",
       "      <td>2556.009995</td>\n",
       "      <td>90</td>\n",
       "      <td>19</td>\n",
       "      <td>361</td>\n",
       "      <td>7.846203</td>\n",
       "      <td>0</td>\n",
       "      <td>0</td>\n",
       "      <td>0</td>\n",
       "      <td>1</td>\n",
       "    </tr>\n",
       "    <tr>\n",
       "      <th>20</th>\n",
       "      <td>Q1_91</td>\n",
       "      <td>2480.973999</td>\n",
       "      <td>91</td>\n",
       "      <td>20</td>\n",
       "      <td>400</td>\n",
       "      <td>7.816407</td>\n",
       "      <td>1</td>\n",
       "      <td>0</td>\n",
       "      <td>0</td>\n",
       "      <td>0</td>\n",
       "    </tr>\n",
       "    <tr>\n",
       "      <th>21</th>\n",
       "      <td>Q2_91</td>\n",
       "      <td>3039.522995</td>\n",
       "      <td>91</td>\n",
       "      <td>21</td>\n",
       "      <td>441</td>\n",
       "      <td>8.019456</td>\n",
       "      <td>0</td>\n",
       "      <td>1</td>\n",
       "      <td>0</td>\n",
       "      <td>0</td>\n",
       "    </tr>\n",
       "    <tr>\n",
       "      <th>22</th>\n",
       "      <td>Q3_91</td>\n",
       "      <td>3172.115997</td>\n",
       "      <td>91</td>\n",
       "      <td>22</td>\n",
       "      <td>484</td>\n",
       "      <td>8.062154</td>\n",
       "      <td>0</td>\n",
       "      <td>0</td>\n",
       "      <td>1</td>\n",
       "      <td>0</td>\n",
       "    </tr>\n",
       "    <tr>\n",
       "      <th>23</th>\n",
       "      <td>Q4_91</td>\n",
       "      <td>2879.000999</td>\n",
       "      <td>91</td>\n",
       "      <td>23</td>\n",
       "      <td>529</td>\n",
       "      <td>7.965199</td>\n",
       "      <td>0</td>\n",
       "      <td>0</td>\n",
       "      <td>0</td>\n",
       "      <td>1</td>\n",
       "    </tr>\n",
       "    <tr>\n",
       "      <th>24</th>\n",
       "      <td>Q1_92</td>\n",
       "      <td>2772.000000</td>\n",
       "      <td>92</td>\n",
       "      <td>24</td>\n",
       "      <td>576</td>\n",
       "      <td>7.927324</td>\n",
       "      <td>1</td>\n",
       "      <td>0</td>\n",
       "      <td>0</td>\n",
       "      <td>0</td>\n",
       "    </tr>\n",
       "    <tr>\n",
       "      <th>25</th>\n",
       "      <td>Q2_92</td>\n",
       "      <td>3550.000000</td>\n",
       "      <td>92</td>\n",
       "      <td>25</td>\n",
       "      <td>625</td>\n",
       "      <td>8.174703</td>\n",
       "      <td>0</td>\n",
       "      <td>1</td>\n",
       "      <td>0</td>\n",
       "      <td>0</td>\n",
       "    </tr>\n",
       "    <tr>\n",
       "      <th>26</th>\n",
       "      <td>Q3_92</td>\n",
       "      <td>3508.000000</td>\n",
       "      <td>92</td>\n",
       "      <td>26</td>\n",
       "      <td>676</td>\n",
       "      <td>8.162801</td>\n",
       "      <td>0</td>\n",
       "      <td>0</td>\n",
       "      <td>1</td>\n",
       "      <td>0</td>\n",
       "    </tr>\n",
       "    <tr>\n",
       "      <th>27</th>\n",
       "      <td>Q4_92</td>\n",
       "      <td>3243.859993</td>\n",
       "      <td>92</td>\n",
       "      <td>27</td>\n",
       "      <td>729</td>\n",
       "      <td>8.084519</td>\n",
       "      <td>0</td>\n",
       "      <td>0</td>\n",
       "      <td>0</td>\n",
       "      <td>1</td>\n",
       "    </tr>\n",
       "    <tr>\n",
       "      <th>28</th>\n",
       "      <td>Q1_93</td>\n",
       "      <td>3056.000000</td>\n",
       "      <td>93</td>\n",
       "      <td>28</td>\n",
       "      <td>784</td>\n",
       "      <td>8.024862</td>\n",
       "      <td>1</td>\n",
       "      <td>0</td>\n",
       "      <td>0</td>\n",
       "      <td>0</td>\n",
       "    </tr>\n",
       "    <tr>\n",
       "      <th>29</th>\n",
       "      <td>Q2_93</td>\n",
       "      <td>3899.000000</td>\n",
       "      <td>93</td>\n",
       "      <td>29</td>\n",
       "      <td>841</td>\n",
       "      <td>8.268475</td>\n",
       "      <td>0</td>\n",
       "      <td>1</td>\n",
       "      <td>0</td>\n",
       "      <td>0</td>\n",
       "    </tr>\n",
       "    <tr>\n",
       "      <th>30</th>\n",
       "      <td>Q3_93</td>\n",
       "      <td>3629.000000</td>\n",
       "      <td>93</td>\n",
       "      <td>30</td>\n",
       "      <td>900</td>\n",
       "      <td>8.196712</td>\n",
       "      <td>0</td>\n",
       "      <td>0</td>\n",
       "      <td>1</td>\n",
       "      <td>0</td>\n",
       "    </tr>\n",
       "    <tr>\n",
       "      <th>31</th>\n",
       "      <td>Q4_93</td>\n",
       "      <td>3373.000000</td>\n",
       "      <td>93</td>\n",
       "      <td>31</td>\n",
       "      <td>961</td>\n",
       "      <td>8.123558</td>\n",
       "      <td>0</td>\n",
       "      <td>0</td>\n",
       "      <td>0</td>\n",
       "      <td>1</td>\n",
       "    </tr>\n",
       "    <tr>\n",
       "      <th>32</th>\n",
       "      <td>Q1_94</td>\n",
       "      <td>3352.000000</td>\n",
       "      <td>94</td>\n",
       "      <td>32</td>\n",
       "      <td>1024</td>\n",
       "      <td>8.117312</td>\n",
       "      <td>1</td>\n",
       "      <td>0</td>\n",
       "      <td>0</td>\n",
       "      <td>0</td>\n",
       "    </tr>\n",
       "    <tr>\n",
       "      <th>33</th>\n",
       "      <td>Q2_94</td>\n",
       "      <td>4342.000000</td>\n",
       "      <td>94</td>\n",
       "      <td>33</td>\n",
       "      <td>1089</td>\n",
       "      <td>8.376090</td>\n",
       "      <td>0</td>\n",
       "      <td>1</td>\n",
       "      <td>0</td>\n",
       "      <td>0</td>\n",
       "    </tr>\n",
       "    <tr>\n",
       "      <th>34</th>\n",
       "      <td>Q3_94</td>\n",
       "      <td>4461.000000</td>\n",
       "      <td>94</td>\n",
       "      <td>34</td>\n",
       "      <td>1156</td>\n",
       "      <td>8.403128</td>\n",
       "      <td>0</td>\n",
       "      <td>0</td>\n",
       "      <td>1</td>\n",
       "      <td>0</td>\n",
       "    </tr>\n",
       "    <tr>\n",
       "      <th>35</th>\n",
       "      <td>Q4_94</td>\n",
       "      <td>4017.000000</td>\n",
       "      <td>94</td>\n",
       "      <td>35</td>\n",
       "      <td>1225</td>\n",
       "      <td>8.298291</td>\n",
       "      <td>0</td>\n",
       "      <td>0</td>\n",
       "      <td>0</td>\n",
       "      <td>1</td>\n",
       "    </tr>\n",
       "    <tr>\n",
       "      <th>36</th>\n",
       "      <td>Q1_95</td>\n",
       "      <td>3854.000000</td>\n",
       "      <td>95</td>\n",
       "      <td>36</td>\n",
       "      <td>1296</td>\n",
       "      <td>8.256867</td>\n",
       "      <td>1</td>\n",
       "      <td>0</td>\n",
       "      <td>0</td>\n",
       "      <td>0</td>\n",
       "    </tr>\n",
       "    <tr>\n",
       "      <th>37</th>\n",
       "      <td>Q2_95</td>\n",
       "      <td>4936.000000</td>\n",
       "      <td>95</td>\n",
       "      <td>37</td>\n",
       "      <td>1369</td>\n",
       "      <td>8.504311</td>\n",
       "      <td>0</td>\n",
       "      <td>1</td>\n",
       "      <td>0</td>\n",
       "      <td>0</td>\n",
       "    </tr>\n",
       "    <tr>\n",
       "      <th>38</th>\n",
       "      <td>Q3_95</td>\n",
       "      <td>4895.000000</td>\n",
       "      <td>95</td>\n",
       "      <td>38</td>\n",
       "      <td>1444</td>\n",
       "      <td>8.495970</td>\n",
       "      <td>0</td>\n",
       "      <td>0</td>\n",
       "      <td>1</td>\n",
       "      <td>0</td>\n",
       "    </tr>\n",
       "    <tr>\n",
       "      <th>39</th>\n",
       "      <td>Q4_95</td>\n",
       "      <td>4333.000000</td>\n",
       "      <td>95</td>\n",
       "      <td>39</td>\n",
       "      <td>1521</td>\n",
       "      <td>8.374015</td>\n",
       "      <td>0</td>\n",
       "      <td>0</td>\n",
       "      <td>0</td>\n",
       "      <td>1</td>\n",
       "    </tr>\n",
       "    <tr>\n",
       "      <th>40</th>\n",
       "      <td>Q1_96</td>\n",
       "      <td>4194.000000</td>\n",
       "      <td>96</td>\n",
       "      <td>40</td>\n",
       "      <td>1600</td>\n",
       "      <td>8.341410</td>\n",
       "      <td>1</td>\n",
       "      <td>0</td>\n",
       "      <td>0</td>\n",
       "      <td>0</td>\n",
       "    </tr>\n",
       "    <tr>\n",
       "      <th>41</th>\n",
       "      <td>Q2_96</td>\n",
       "      <td>5253.000000</td>\n",
       "      <td>96</td>\n",
       "      <td>41</td>\n",
       "      <td>1681</td>\n",
       "      <td>8.566555</td>\n",
       "      <td>0</td>\n",
       "      <td>1</td>\n",
       "      <td>0</td>\n",
       "      <td>0</td>\n",
       "    </tr>\n",
       "  </tbody>\n",
       "</table>\n",
       "</div>"
      ],
      "text/plain": [
       "   Quarter        Sales  Year   t  sq_t  log_sale  Quarters_Q1  Quarters_Q2  \\\n",
       "0    Q1_86  1734.827000    86   0     0  7.458663            1            0   \n",
       "1    Q2_86  2244.960999    86   1     1  7.716443            0            1   \n",
       "2    Q3_86  2533.804993    86   2     4  7.837477            0            0   \n",
       "3    Q4_86  2154.962997    86   3     9  7.675529            0            0   \n",
       "4    Q1_87  1547.818996    87   4    16  7.344602            1            0   \n",
       "5    Q2_87  2104.411995    87   5    25  7.651791            0            1   \n",
       "6    Q3_87  2014.362999    87   6    36  7.608058            0            0   \n",
       "7    Q4_87  1991.746998    87   7    49  7.596767            0            0   \n",
       "8    Q1_88  1869.049999    88   8    64  7.533186            1            0   \n",
       "9    Q2_88  2313.631996    88   9    81  7.746574            0            1   \n",
       "10   Q3_88  2128.320000    88  10   100  7.663088            0            0   \n",
       "11   Q4_88  2026.828999    88  11   121  7.614228            0            0   \n",
       "12   Q1_89  1910.603996    89  12   144  7.555175            1            0   \n",
       "13   Q2_89  2331.164993    89  13   169  7.754123            0            1   \n",
       "14   Q3_89  2206.549995    89  14   196  7.699185            0            0   \n",
       "15   Q4_89  2173.967995    89  15   225  7.684309            0            0   \n",
       "16   Q1_90  2148.278000    90  16   256  7.672422            1            0   \n",
       "17   Q2_90  2739.307999    90  17   289  7.915461            0            1   \n",
       "18   Q3_90  2792.753998    90  18   324  7.934783            0            0   \n",
       "19   Q4_90  2556.009995    90  19   361  7.846203            0            0   \n",
       "20   Q1_91  2480.973999    91  20   400  7.816407            1            0   \n",
       "21   Q2_91  3039.522995    91  21   441  8.019456            0            1   \n",
       "22   Q3_91  3172.115997    91  22   484  8.062154            0            0   \n",
       "23   Q4_91  2879.000999    91  23   529  7.965199            0            0   \n",
       "24   Q1_92  2772.000000    92  24   576  7.927324            1            0   \n",
       "25   Q2_92  3550.000000    92  25   625  8.174703            0            1   \n",
       "26   Q3_92  3508.000000    92  26   676  8.162801            0            0   \n",
       "27   Q4_92  3243.859993    92  27   729  8.084519            0            0   \n",
       "28   Q1_93  3056.000000    93  28   784  8.024862            1            0   \n",
       "29   Q2_93  3899.000000    93  29   841  8.268475            0            1   \n",
       "30   Q3_93  3629.000000    93  30   900  8.196712            0            0   \n",
       "31   Q4_93  3373.000000    93  31   961  8.123558            0            0   \n",
       "32   Q1_94  3352.000000    94  32  1024  8.117312            1            0   \n",
       "33   Q2_94  4342.000000    94  33  1089  8.376090            0            1   \n",
       "34   Q3_94  4461.000000    94  34  1156  8.403128            0            0   \n",
       "35   Q4_94  4017.000000    94  35  1225  8.298291            0            0   \n",
       "36   Q1_95  3854.000000    95  36  1296  8.256867            1            0   \n",
       "37   Q2_95  4936.000000    95  37  1369  8.504311            0            1   \n",
       "38   Q3_95  4895.000000    95  38  1444  8.495970            0            0   \n",
       "39   Q4_95  4333.000000    95  39  1521  8.374015            0            0   \n",
       "40   Q1_96  4194.000000    96  40  1600  8.341410            1            0   \n",
       "41   Q2_96  5253.000000    96  41  1681  8.566555            0            1   \n",
       "\n",
       "    Quarters_Q3  Quarters_Q4  \n",
       "0             0            0  \n",
       "1             0            0  \n",
       "2             1            0  \n",
       "3             0            1  \n",
       "4             0            0  \n",
       "5             0            0  \n",
       "6             1            0  \n",
       "7             0            1  \n",
       "8             0            0  \n",
       "9             0            0  \n",
       "10            1            0  \n",
       "11            0            1  \n",
       "12            0            0  \n",
       "13            0            0  \n",
       "14            1            0  \n",
       "15            0            1  \n",
       "16            0            0  \n",
       "17            0            0  \n",
       "18            1            0  \n",
       "19            0            1  \n",
       "20            0            0  \n",
       "21            0            0  \n",
       "22            1            0  \n",
       "23            0            1  \n",
       "24            0            0  \n",
       "25            0            0  \n",
       "26            1            0  \n",
       "27            0            1  \n",
       "28            0            0  \n",
       "29            0            0  \n",
       "30            1            0  \n",
       "31            0            1  \n",
       "32            0            0  \n",
       "33            0            0  \n",
       "34            1            0  \n",
       "35            0            1  \n",
       "36            0            0  \n",
       "37            0            0  \n",
       "38            1            0  \n",
       "39            0            1  \n",
       "40            0            0  \n",
       "41            0            0  "
      ]
     },
     "execution_count": 14,
     "metadata": {},
     "output_type": "execute_result"
    }
   ],
   "source": [
    "sales['t'] = pd.RangeIndex(start=0,stop=42,step=1)\n",
    "sales['sq_t'] = np.square(sales['t'])\n",
    "sales['log_sale'] = np.log(sales['Sales'])\n",
    "sales = pd.get_dummies(data=sales,columns=['Quarters'])\n",
    "sales"
   ]
  },
  {
   "cell_type": "code",
   "execution_count": 15,
   "id": "10b0acfb",
   "metadata": {},
   "outputs": [],
   "source": [
    "train = sales.head(30)\n",
    "test = sales.head(12)"
   ]
  },
  {
   "cell_type": "code",
   "execution_count": 16,
   "id": "4ce5e68c",
   "metadata": {},
   "outputs": [
    {
     "data": {
      "text/plain": [
       "257.4609816851609"
      ]
     },
     "execution_count": 16,
     "metadata": {},
     "output_type": "execute_result"
    }
   ],
   "source": [
    "linear_model = smf.ols('Sales~t',data=train).fit()\n",
    "linear_pred=linear_model.predict(train['t'])\n",
    "linear_rms=mean_absolute_error(train['Sales'],linear_pred)\n",
    "linear_rms"
   ]
  },
  {
   "cell_type": "code",
   "execution_count": 17,
   "id": "4831bd87",
   "metadata": {},
   "outputs": [
    {
     "data": {
      "text/plain": [
       "2496.3274984983696"
      ]
     },
     "execution_count": 17,
     "metadata": {},
     "output_type": "execute_result"
    }
   ],
   "source": [
    "Exp = smf.ols('log_sale~t',data=train).fit()\n",
    "pred_Exp = pd.Series(Exp.predict(pd.DataFrame(train['t'])))\n",
    "rmse_Exp = mean_absolute_error(train['Sales'],pred_Exp)\n",
    "rmse_Exp"
   ]
  },
  {
   "cell_type": "code",
   "execution_count": 18,
   "id": "9b73edda",
   "metadata": {},
   "outputs": [
    {
     "data": {
      "text/plain": [
       "213.1674920230563"
      ]
     },
     "execution_count": 18,
     "metadata": {},
     "output_type": "execute_result"
    }
   ],
   "source": [
    "quad = smf.ols('Sales~t+sq_t',data=train).fit()\n",
    "pred_quad = pd.Series(quad.predict(train[[\"t\",\"sq_t\"]]))\n",
    "rmse_quad = mean_absolute_error(train['Sales'],pred_quad)\n",
    "rmse_quad"
   ]
  },
  {
   "cell_type": "code",
   "execution_count": 19,
   "id": "de69502d",
   "metadata": {},
   "outputs": [
    {
     "data": {
      "text/plain": [
       "458.8212516375952"
      ]
     },
     "execution_count": 19,
     "metadata": {},
     "output_type": "execute_result"
    }
   ],
   "source": [
    "add_sea = smf.ols('Sales~Quarters_Q1+Quarters_Q2+Quarters_Q3+Quarters_Q4',data=train).fit()\n",
    "pred_add_sea = pd.Series(add_sea.predict(train[['Quarters_Q1','Quarters_Q2','Quarters_Q3','Quarters_Q4']]))\n",
    "rmse_add_sea = mean_absolute_error(train['Sales'],pred_add_sea)\n",
    "rmse_add_sea"
   ]
  },
  {
   "cell_type": "code",
   "execution_count": 20,
   "id": "389b6326",
   "metadata": {},
   "outputs": [
    {
     "data": {
      "text/plain": [
       "99.6906809254258"
      ]
     },
     "execution_count": 20,
     "metadata": {},
     "output_type": "execute_result"
    }
   ],
   "source": [
    "add_sea_quad = smf.ols('Sales~t+sq_t+Quarters_Q1+Quarters_Q2+Quarters_Q3+Quarters_Q4',data=train).fit()\n",
    "pred_add_sea_quad = pd.Series(add_sea_quad.predict(train[['Quarters_Q1','Quarters_Q2','Quarters_Q3','Quarters_Q4','t','sq_t']]))\n",
    "rmse_add_sea_quad = mean_absolute_error(train['Sales'],pred_add_sea_quad)\n",
    "rmse_add_sea_quad\n"
   ]
  },
  {
   "cell_type": "code",
   "execution_count": 21,
   "id": "1a0b9dcd",
   "metadata": {},
   "outputs": [
    {
     "data": {
      "text/plain": [
       "2496.3274984983705"
      ]
     },
     "execution_count": 21,
     "metadata": {},
     "output_type": "execute_result"
    }
   ],
   "source": [
    "Mul_sea = smf.ols('log_sale~Quarters_Q1+Quarters_Q2+Quarters_Q3+Quarters_Q4',data = train).fit()\n",
    "pred_Mult_sea = pd.Series(Mul_sea.predict(train[['Quarters_Q1','Quarters_Q2','Quarters_Q3','Quarters_Q4']]))\n",
    "rmse_Mult_sea = mean_absolute_error(train['Sales'],pred_Mult_sea)\n",
    "rmse_Mult_sea"
   ]
  },
  {
   "cell_type": "code",
   "execution_count": 22,
   "id": "82306979",
   "metadata": {},
   "outputs": [
    {
     "data": {
      "text/plain": [
       "2496.32749849837"
      ]
     },
     "execution_count": 22,
     "metadata": {},
     "output_type": "execute_result"
    }
   ],
   "source": [
    "Mul_Add_sea = smf.ols('log_sale~t+Quarters_Q1+Quarters_Q2+Quarters_Q3+Quarters_Q4',data = train).fit()\n",
    "pred_Mult_add_sea = pd.Series(Mul_Add_sea.predict(train[['t','Quarters_Q1','Quarters_Q2','Quarters_Q3','Quarters_Q4']]))\n",
    "rmse_Mult_add_sea = mean_absolute_error(train['Sales'],pred_Mult_add_sea)\n",
    "rmse_Mult_add_sea"
   ]
  },
  {
   "cell_type": "code",
   "execution_count": 23,
   "id": "db06cb4c",
   "metadata": {},
   "outputs": [
    {
     "data": {
      "text/plain": [
       "<matplotlib.legend.Legend at 0x24e673cbc40>"
      ]
     },
     "execution_count": 23,
     "metadata": {},
     "output_type": "execute_result"
    },
    {
     "data": {
      "image/png": "[encoded data removed]",
      "text/plain": [
       "<Figure size 432x288 with 1 Axes>"
      ]
     },
     "metadata": {
      "needs_background": "light"
     },
     "output_type": "display_data"
    }
   ],
   "source": [
    "sales['Sales'].plot(label=\"org\")\n",
    "for i in range(2,43,6):\n",
    "    sales['Sales'].rolling(i).mean().plot(label=str(i))\n",
    "plt.legend(loc='best')\n"
   ]
  },
  {
   "cell_type": "code",
   "execution_count": 24,
   "id": "32135233",
   "metadata": {},
   "outputs": [
    {
     "data": {
      "text/plain": [
       "284.2917972891417"
      ]
     },
     "execution_count": 24,
     "metadata": {},
     "output_type": "execute_result"
    }
   ],
   "source": [
    "ses_model = SimpleExpSmoothing(train[\"Sales\"]).fit(smoothing_level=0.2)\n",
    "pred_ses = ses_model.predict(start = train.index[0],end = train.index[-1])\n",
    "ses_rms=mean_absolute_error(pred_ses,train['Sales']) \n",
    "ses_rms"
   ]
  },
  {
   "cell_type": "code",
   "execution_count": 25,
   "id": "73f02f76",
   "metadata": {},
   "outputs": [
    {
     "data": {
      "text/plain": [
       "299.1739190601294"
      ]
     },
     "execution_count": 25,
     "metadata": {},
     "output_type": "execute_result"
    }
   ],
   "source": [
    "hw_model = Holt(train[\"Sales\"]).fit(smoothing_level=0.8, smoothing_slope=0.2) # two levels of smoothening\n",
    "pred_hw = hw_model.predict(start = train.index[0],end = train.index[-1])\n",
    "hw_rms=mean_absolute_error(pred_hw,train['Sales'])\n",
    "hw_rms"
   ]
  },
  {
   "cell_type": "code",
   "execution_count": 26,
   "id": "61369812",
   "metadata": {},
   "outputs": [
    {
     "data": {
      "text/plain": [
       "135.04522238207971"
      ]
     },
     "execution_count": 26,
     "metadata": {},
     "output_type": "execute_result"
    }
   ],
   "source": [
    "hwe_model_mul_add = ExponentialSmoothing(train[\"Sales\"],seasonal=\"mul\",trend=\"add\",seasonal_periods=12).fit() \n",
    "pred_hwe_mul_add = hwe_model_mul_add.predict(start = train.index[0],end = train.index[-1])\n",
    "hw_ma_rms=mean_absolute_error(pred_hwe_mul_add,train['Sales'])\n",
    "hw_ma_rms"
   ]
  },
  {
   "cell_type": "code",
   "execution_count": 27,
   "id": "ea58573c",
   "metadata": {},
   "outputs": [
    {
     "data": {
      "text/plain": [
       "133.04944901711417"
      ]
     },
     "execution_count": 27,
     "metadata": {},
     "output_type": "execute_result"
    }
   ],
   "source": [
    "hwe_model_mul_add = ExponentialSmoothing(train[\"Sales\"],seasonal=\"add\",trend=\"mul\",seasonal_periods=12).fit() \n",
    "pred_hwe_mul_add = hwe_model_mul_add.predict(start = train.index[0],end = train.index[-1])\n",
    "hw_ma_rms=mean_absolute_error(pred_hwe_mul_add,train['Sales']) \n",
    "hw_ma_rms"
   ]
  },
  {
   "cell_type": "code",
   "execution_count": 28,
   "id": "036d95d3",
   "metadata": {},
   "outputs": [
    {
     "data": {
      "text/plain": [
       "129.46982526440985"
      ]
     },
     "execution_count": 28,
     "metadata": {},
     "output_type": "execute_result"
    }
   ],
   "source": [
    "hwe_model_add_add = ExponentialSmoothing(train[\"Sales\"],seasonal=\"add\",trend=\"add\",seasonal_periods=12).fit() \n",
    "pred_hwe_add_add = hwe_model_add_add.predict(start = train.index[0],end = train.index[-1])\n",
    "hw_aa_rms=mean_absolute_error(pred_hwe_add_add,train['Sales']) \n",
    "hw_aa_rms\n"
   ]
  },
  {
   "cell_type": "code",
   "execution_count": 29,
   "id": "06aa1e9b",
   "metadata": {},
   "outputs": [
    {
     "data": {
      "text/plain": [
       "277.1874771729836"
      ]
     },
     "execution_count": 29,
     "metadata": {},
     "output_type": "execute_result"
    }
   ],
   "source": [
    "ARMAmodel = ARMA(train['Sales'], order=(3, 0)) #model with AR=1 and MA=0\n",
    "ARMAmodel_fit = ARMAmodel.fit()\n",
    "ARMA_pred = ARMAmodel_fit.predict()\n",
    "ARMA_pred\n",
    "arma_rms=mean_absolute_error(ARMA_pred,train['Sales'])\n",
    "arma_rms"
   ]
  },
  {
   "cell_type": "code",
   "execution_count": 30,
   "id": "f38a2815",
   "metadata": {},
   "outputs": [
    {
     "data": {
      "image/png": "[encoded data removed]",
      "text/plain": [
       "<Figure size 1152x504 with 1 Axes>"
      ]
     },
     "metadata": {
      "needs_background": "light"
     },
     "output_type": "display_data"
    }
   ],
   "source": [
    "rolLmean = sales['Sales'].rolling(12).mean() # 12 entries\n",
    "rolLstd = sales['Sales'].rolling(12).std()\n",
    "plt.figure(figsize=(16,7))\n",
    "fig = plt.figure(1)\n",
    "\n",
    "orig = plt.plot(sales['Sales'], color='blue',label='Original')\n",
    "mean = plt.plot(rolLmean, color='red', label='Rolling Mean')\n",
    "std = plt.plot(rolLstd, color='black', label = 'Rolling Std')\n",
    "plt.legend(loc='best')\n",
    "plt.title('Rolling Mean & Standard Deviation')\n",
    "plt.show(block=False)"
   ]
  },
  {
   "cell_type": "code",
   "execution_count": 31,
   "id": "0c546daf",
   "metadata": {},
   "outputs": [
    {
     "data": {
      "text/plain": [
       "119.5604671107112"
      ]
     },
     "execution_count": 31,
     "metadata": {},
     "output_type": "execute_result"
    }
   ],
   "source": [
    "add_sea_quad = smf.ols('Sales~t+sq_t+Quarters_Q1+Quarters_Q2+Quarters_Q3+Quarters_Q4',data=train).fit()\n",
    "pred_add_sea_quad = add_sea_quad.predict(test[['Quarters_Q1','Quarters_Q2','Quarters_Q3','Quarters_Q4','t','sq_t']])\n",
    "rmse_add_sea_quad = mean_absolute_error(test['Sales'],pred_add_sea_quad)\n",
    "rmse_add_sea_quad"
   ]
  }
 ],
 "metadata": {
  "kernelspec": {
   "display_name": "Python 3 (ipykernel)",
   "language": "python",
   "name": "python3"
  },
  "language_info": {
   "codemirror_mode": {
    "name": "ipython",
    "version": 3
   },
   "file_extension": ".py",
   "mimetype": "text/x-python",
   "name": "python",
   "nbconvert_exporter": "python",
   "pygments_lexer": "ipython3",
   "version": "3.9.7"
  }
 },
 "nbformat": 4,
 "nbformat_minor": 5
}
