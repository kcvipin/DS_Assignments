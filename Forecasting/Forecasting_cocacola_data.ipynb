{
 "cells": [
  {
   "cell_type": "code",
   "execution_count": 57,
   "id": "5a279931",
   "metadata": {},
   "outputs": [],
   "source": [
    "import pandas as pd\n",
    "import numpy as np\n",
    "import seaborn as sns\n",
    "import matplotlib.pyplot as plt\n",
    "import statsmodels.tsa.stattools as sts\n",
    "import statsmodels.graphics.tsaplots as sgt\n",
    "from statsmodels.tsa.holtwinters import ExponentialSmoothing\n",
    "from  sklearn.metrics import mean_squared_error\n",
    "from statsmodels.tsa.seasonal import seasonal_decompose\n",
    "from scipy.stats.distributions import chi2\n",
    "from statsmodels.tsa.arima_model import ARMA,ARIMA\n",
    "from statsmodels.tsa.statespace.tools import diff\n",
    "import warnings\n",
    "warnings.filterwarnings('ignore')"
   ]
  },
  {
   "cell_type": "code",
   "execution_count": 2,
   "id": "ca200563",
   "metadata": {},
   "outputs": [],
   "source": [
    "data = pd.read_excel('CocaCola_Sales_Rawdata.xlsx')"
   ]
  },
  {
   "cell_type": "code",
   "execution_count": 3,
   "id": "5849abee",
   "metadata": {},
   "outputs": [
    {
     "data": {
      "text/html": [
       "<div>\n",
       "<style scoped>\n",
       "    .dataframe tbody tr th:only-of-type {\n",
       "        vertical-align: middle;\n",
       "    }\n",
       "\n",
       "    .dataframe tbody tr th {\n",
       "        vertical-align: top;\n",
       "    }\n",
       "\n",
       "    .dataframe thead th {\n",
       "        text-align: right;\n",
       "    }\n",
       "</style>\n",
       "<table border=\"1\" class=\"dataframe\">\n",
       "  <thead>\n",
       "    <tr style=\"text-align: right;\">\n",
       "      <th></th>\n",
       "      <th>Quarter</th>\n",
       "      <th>Sales</th>\n",
       "    </tr>\n",
       "  </thead>\n",
       "  <tbody>\n",
       "    <tr>\n",
       "      <th>0</th>\n",
       "      <td>Q1_86</td>\n",
       "      <td>1734.827000</td>\n",
       "    </tr>\n",
       "    <tr>\n",
       "      <th>1</th>\n",
       "      <td>Q2_86</td>\n",
       "      <td>2244.960999</td>\n",
       "    </tr>\n",
       "    <tr>\n",
       "      <th>2</th>\n",
       "      <td>Q3_86</td>\n",
       "      <td>2533.804993</td>\n",
       "    </tr>\n",
       "    <tr>\n",
       "      <th>3</th>\n",
       "      <td>Q4_86</td>\n",
       "      <td>2154.962997</td>\n",
       "    </tr>\n",
       "    <tr>\n",
       "      <th>4</th>\n",
       "      <td>Q1_87</td>\n",
       "      <td>1547.818996</td>\n",
       "    </tr>\n",
       "  </tbody>\n",
       "</table>\n",
       "</div>"
      ],
      "text/plain": [
       "  Quarter        Sales\n",
       "0   Q1_86  1734.827000\n",
       "1   Q2_86  2244.960999\n",
       "2   Q3_86  2533.804993\n",
       "3   Q4_86  2154.962997\n",
       "4   Q1_87  1547.818996"
      ]
     },
     "execution_count": 3,
     "metadata": {},
     "output_type": "execute_result"
    }
   ],
   "source": [
    "data.head()"
   ]
  },
  {
   "cell_type": "code",
   "execution_count": 4,
   "id": "6ffe72a1",
   "metadata": {},
   "outputs": [
    {
     "data": {
      "text/plain": [
       "(42, 2)"
      ]
     },
     "execution_count": 4,
     "metadata": {},
     "output_type": "execute_result"
    }
   ],
   "source": [
    "data.shape"
   ]
  },
  {
   "cell_type": "code",
   "execution_count": 5,
   "id": "6fa334c7",
   "metadata": {},
   "outputs": [
    {
     "name": "stdout",
     "output_type": "stream",
     "text": [
      "<class 'pandas.core.frame.DataFrame'>\n",
      "RangeIndex: 42 entries, 0 to 41\n",
      "Data columns (total 2 columns):\n",
      " #   Column   Non-Null Count  Dtype  \n",
      "---  ------   --------------  -----  \n",
      " 0   Quarter  42 non-null     object \n",
      " 1   Sales    42 non-null     float64\n",
      "dtypes: float64(1), object(1)\n",
      "memory usage: 800.0+ bytes\n"
     ]
    }
   ],
   "source": [
    "data.info()"
   ]
  },
  {
   "cell_type": "code",
   "execution_count": 6,
   "id": "ddfc6f7f",
   "metadata": {},
   "outputs": [
    {
     "data": {
      "text/plain": [
       "Quarter     object\n",
       "Sales      float64\n",
       "dtype: object"
      ]
     },
     "execution_count": 6,
     "metadata": {},
     "output_type": "execute_result"
    }
   ],
   "source": [
    "data.dtypes"
   ]
  },
  {
   "cell_type": "code",
   "execution_count": 7,
   "id": "48c4d404",
   "metadata": {},
   "outputs": [
    {
     "data": {
      "text/html": [
       "<div>\n",
       "<style scoped>\n",
       "    .dataframe tbody tr th:only-of-type {\n",
       "        vertical-align: middle;\n",
       "    }\n",
       "\n",
       "    .dataframe tbody tr th {\n",
       "        vertical-align: top;\n",
       "    }\n",
       "\n",
       "    .dataframe thead th {\n",
       "        text-align: right;\n",
       "    }\n",
       "</style>\n",
       "<table border=\"1\" class=\"dataframe\">\n",
       "  <thead>\n",
       "    <tr style=\"text-align: right;\">\n",
       "      <th></th>\n",
       "      <th>Sales</th>\n",
       "    </tr>\n",
       "  </thead>\n",
       "  <tbody>\n",
       "    <tr>\n",
       "      <th>count</th>\n",
       "      <td>42.000000</td>\n",
       "    </tr>\n",
       "    <tr>\n",
       "      <th>mean</th>\n",
       "      <td>2994.353308</td>\n",
       "    </tr>\n",
       "    <tr>\n",
       "      <th>std</th>\n",
       "      <td>977.930896</td>\n",
       "    </tr>\n",
       "    <tr>\n",
       "      <th>min</th>\n",
       "      <td>1547.818996</td>\n",
       "    </tr>\n",
       "    <tr>\n",
       "      <th>25%</th>\n",
       "      <td>2159.714247</td>\n",
       "    </tr>\n",
       "    <tr>\n",
       "      <th>50%</th>\n",
       "      <td>2782.376999</td>\n",
       "    </tr>\n",
       "    <tr>\n",
       "      <th>75%</th>\n",
       "      <td>3609.250000</td>\n",
       "    </tr>\n",
       "    <tr>\n",
       "      <th>max</th>\n",
       "      <td>5253.000000</td>\n",
       "    </tr>\n",
       "  </tbody>\n",
       "</table>\n",
       "</div>"
      ],
      "text/plain": [
       "             Sales\n",
       "count    42.000000\n",
       "mean   2994.353308\n",
       "std     977.930896\n",
       "min    1547.818996\n",
       "25%    2159.714247\n",
       "50%    2782.376999\n",
       "75%    3609.250000\n",
       "max    5253.000000"
      ]
     },
     "execution_count": 7,
     "metadata": {},
     "output_type": "execute_result"
    }
   ],
   "source": [
    "data.describe()"
   ]
  },
  {
   "cell_type": "code",
   "execution_count": 8,
   "id": "8edcafcf",
   "metadata": {},
   "outputs": [
    {
     "data": {
      "text/plain": [
       "<AxesSubplot:>"
      ]
     },
     "execution_count": 8,
     "metadata": {},
     "output_type": "execute_result"
    },
    {
     "data": {
      "image/png": "[encoded data removed]",
      "text/plain": [
       "<Figure size 432x288 with 1 Axes>"
      ]
     },
     "metadata": {
      "needs_background": "light"
     },
     "output_type": "display_data"
    }
   ],
   "source": [
    "data['Sales'].plot()"
   ]
  },
  {
   "cell_type": "code",
   "execution_count": 9,
   "id": "65a1bd5c",
   "metadata": {},
   "outputs": [
    {
     "data": {
      "text/plain": [
       "RangeIndex(start=0, stop=42, step=1)"
      ]
     },
     "execution_count": 9,
     "metadata": {},
     "output_type": "execute_result"
    }
   ],
   "source": [
    "data.index.freq = 'QS'\n",
    "data.index"
   ]
  },
  {
   "cell_type": "code",
   "execution_count": 10,
   "id": "b2b9fe47",
   "metadata": {},
   "outputs": [],
   "source": [
    "data['Quarters'] = 0\n",
    "data['Year'] = 0\n",
    "for i in range(data.shape[0]):\n",
    "    p = data['Quarter'][i]\n",
    "    data['Quarters'][i] = p[0:2]\n",
    "    data['Year'][i] = p[3:5]"
   ]
  },
  {
   "cell_type": "code",
   "execution_count": 11,
   "id": "858da473",
   "metadata": {},
   "outputs": [
    {
     "data": {
      "image/png": "[encoded data removed]",
      "text/plain": [
       "<Figure size 432x288 with 4 Axes>"
      ]
     },
     "metadata": {
      "needs_background": "light"
     },
     "output_type": "display_data"
    }
   ],
   "source": [
    "Seasonal_decompose =seasonal_decompose(data['Sales'],period=4)\n",
    "Seasonal_decompose.plot()\n",
    "plt.show()"
   ]
  },
  {
   "cell_type": "code",
   "execution_count": 12,
   "id": "f8b1869c",
   "metadata": {},
   "outputs": [
    {
     "data": {
      "image/png": "[encoded data removed]",
      "text/plain": [
       "<Figure size 432x288 with 1 Axes>"
      ]
     },
     "metadata": {
      "needs_background": "light"
     },
     "output_type": "display_data"
    }
   ],
   "source": [
    "sns.boxplot(x='Quarters',y='Sales',data=data)\n",
    "plt.show()"
   ]
  },
  {
   "cell_type": "code",
   "execution_count": 13,
   "id": "6c18a9ca",
   "metadata": {},
   "outputs": [
    {
     "data": {
      "image/png": "[encoded data removed]",
      "text/plain": [
       "<Figure size 432x288 with 1 Axes>"
      ]
     },
     "metadata": {
      "needs_background": "light"
     },
     "output_type": "display_data"
    }
   ],
   "source": [
    "sns.boxplot(x='Year',y ='Sales',data=data)\n",
    "plt.show()"
   ]
  },
  {
   "cell_type": "code",
   "execution_count": 87,
   "id": "e544f7b8",
   "metadata": {},
   "outputs": [
    {
     "data": {
      "image/png": "[encoded data removed]",
      "text/plain": [
       "<Figure size 432x288 with 1 Axes>"
      ]
     },
     "metadata": {
      "needs_background": "light"
     },
     "output_type": "display_data"
    }
   ],
   "source": [
    "sgt.plot_acf(data['Sales'],lags=5,zero=False)\n",
    "plt.show()"
   ]
  },
  {
   "cell_type": "code",
   "execution_count": 88,
   "id": "9e563725",
   "metadata": {},
   "outputs": [
    {
     "data": {
      "image/png": "[encoded data removed]",
      "text/plain": [
       "<Figure size 432x288 with 1 Axes>"
      ]
     },
     "metadata": {
      "needs_background": "light"
     },
     "output_type": "display_data"
    }
   ],
   "source": [
    "sgt.plot_pacf(data.Sales,lags=10)\n",
    "plt.show()"
   ]
  },
  {
   "cell_type": "code",
   "execution_count": 16,
   "id": "660656d3",
   "metadata": {},
   "outputs": [
    {
     "data": {
      "text/html": [
       "<div>\n",
       "<style scoped>\n",
       "    .dataframe tbody tr th:only-of-type {\n",
       "        vertical-align: middle;\n",
       "    }\n",
       "\n",
       "    .dataframe tbody tr th {\n",
       "        vertical-align: top;\n",
       "    }\n",
       "\n",
       "    .dataframe thead th {\n",
       "        text-align: right;\n",
       "    }\n",
       "</style>\n",
       "<table border=\"1\" class=\"dataframe\">\n",
       "  <thead>\n",
       "    <tr style=\"text-align: right;\">\n",
       "      <th></th>\n",
       "      <th>Quarter</th>\n",
       "      <th>Sales</th>\n",
       "      <th>Year</th>\n",
       "      <th>t</th>\n",
       "      <th>sq_t</th>\n",
       "      <th>log_sale</th>\n",
       "      <th>Quarters_Q1</th>\n",
       "      <th>Quarters_Q2</th>\n",
       "      <th>Quarters_Q3</th>\n",
       "      <th>Quarters_Q4</th>\n",
       "    </tr>\n",
       "  </thead>\n",
       "  <tbody>\n",
       "    <tr>\n",
       "      <th>0</th>\n",
       "      <td>Q1_86</td>\n",
       "      <td>1734.827000</td>\n",
       "      <td>86</td>\n",
       "      <td>0</td>\n",
       "      <td>0</td>\n",
       "      <td>7.458663</td>\n",
       "      <td>1</td>\n",
       "      <td>0</td>\n",
       "      <td>0</td>\n",
       "      <td>0</td>\n",
       "    </tr>\n",
       "    <tr>\n",
       "      <th>1</th>\n",
       "      <td>Q2_86</td>\n",
       "      <td>2244.960999</td>\n",
       "      <td>86</td>\n",
       "      <td>1</td>\n",
       "      <td>1</td>\n",
       "      <td>7.716443</td>\n",
       "      <td>0</td>\n",
       "      <td>1</td>\n",
       "      <td>0</td>\n",
       "      <td>0</td>\n",
       "    </tr>\n",
       "    <tr>\n",
       "      <th>2</th>\n",
       "      <td>Q3_86</td>\n",
       "      <td>2533.804993</td>\n",
       "      <td>86</td>\n",
       "      <td>2</td>\n",
       "      <td>4</td>\n",
       "      <td>7.837477</td>\n",
       "      <td>0</td>\n",
       "      <td>0</td>\n",
       "      <td>1</td>\n",
       "      <td>0</td>\n",
       "    </tr>\n",
       "    <tr>\n",
       "      <th>3</th>\n",
       "      <td>Q4_86</td>\n",
       "      <td>2154.962997</td>\n",
       "      <td>86</td>\n",
       "      <td>3</td>\n",
       "      <td>9</td>\n",
       "      <td>7.675529</td>\n",
       "      <td>0</td>\n",
       "      <td>0</td>\n",
       "      <td>0</td>\n",
       "      <td>1</td>\n",
       "    </tr>\n",
       "    <tr>\n",
       "      <th>4</th>\n",
       "      <td>Q1_87</td>\n",
       "      <td>1547.818996</td>\n",
       "      <td>87</td>\n",
       "      <td>4</td>\n",
       "      <td>16</td>\n",
       "      <td>7.344602</td>\n",
       "      <td>1</td>\n",
       "      <td>0</td>\n",
       "      <td>0</td>\n",
       "      <td>0</td>\n",
       "    </tr>\n",
       "    <tr>\n",
       "      <th>5</th>\n",
       "      <td>Q2_87</td>\n",
       "      <td>2104.411995</td>\n",
       "      <td>87</td>\n",
       "      <td>5</td>\n",
       "      <td>25</td>\n",
       "      <td>7.651791</td>\n",
       "      <td>0</td>\n",
       "      <td>1</td>\n",
       "      <td>0</td>\n",
       "      <td>0</td>\n",
       "    </tr>\n",
       "    <tr>\n",
       "      <th>6</th>\n",
       "      <td>Q3_87</td>\n",
       "      <td>2014.362999</td>\n",
       "      <td>87</td>\n",
       "      <td>6</td>\n",
       "      <td>36</td>\n",
       "      <td>7.608058</td>\n",
       "      <td>0</td>\n",
       "      <td>0</td>\n",
       "      <td>1</td>\n",
       "      <td>0</td>\n",
       "    </tr>\n",
       "    <tr>\n",
       "      <th>7</th>\n",
       "      <td>Q4_87</td>\n",
       "      <td>1991.746998</td>\n",
       "      <td>87</td>\n",
       "      <td>7</td>\n",
       "      <td>49</td>\n",
       "      <td>7.596767</td>\n",
       "      <td>0</td>\n",
       "      <td>0</td>\n",
       "      <td>0</td>\n",
       "      <td>1</td>\n",
       "    </tr>\n",
       "    <tr>\n",
       "      <th>8</th>\n",
       "      <td>Q1_88</td>\n",
       "      <td>1869.049999</td>\n",
       "      <td>88</td>\n",
       "      <td>8</td>\n",
       "      <td>64</td>\n",
       "      <td>7.533186</td>\n",
       "      <td>1</td>\n",
       "      <td>0</td>\n",
       "      <td>0</td>\n",
       "      <td>0</td>\n",
       "    </tr>\n",
       "    <tr>\n",
       "      <th>9</th>\n",
       "      <td>Q2_88</td>\n",
       "      <td>2313.631996</td>\n",
       "      <td>88</td>\n",
       "      <td>9</td>\n",
       "      <td>81</td>\n",
       "      <td>7.746574</td>\n",
       "      <td>0</td>\n",
       "      <td>1</td>\n",
       "      <td>0</td>\n",
       "      <td>0</td>\n",
       "    </tr>\n",
       "    <tr>\n",
       "      <th>10</th>\n",
       "      <td>Q3_88</td>\n",
       "      <td>2128.320000</td>\n",
       "      <td>88</td>\n",
       "      <td>10</td>\n",
       "      <td>100</td>\n",
       "      <td>7.663088</td>\n",
       "      <td>0</td>\n",
       "      <td>0</td>\n",
       "      <td>1</td>\n",
       "      <td>0</td>\n",
       "    </tr>\n",
       "    <tr>\n",
       "      <th>11</th>\n",
       "      <td>Q4_88</td>\n",
       "      <td>2026.828999</td>\n",
       "      <td>88</td>\n",
       "      <td>11</td>\n",
       "      <td>121</td>\n",
       "      <td>7.614228</td>\n",
       "      <td>0</td>\n",
       "      <td>0</td>\n",
       "      <td>0</td>\n",
       "      <td>1</td>\n",
       "    </tr>\n",
       "    <tr>\n",
       "      <th>12</th>\n",
       "      <td>Q1_89</td>\n",
       "      <td>1910.603996</td>\n",
       "      <td>89</td>\n",
       "      <td>12</td>\n",
       "      <td>144</td>\n",
       "      <td>7.555175</td>\n",
       "      <td>1</td>\n",
       "      <td>0</td>\n",
       "      <td>0</td>\n",
       "      <td>0</td>\n",
       "    </tr>\n",
       "    <tr>\n",
       "      <th>13</th>\n",
       "      <td>Q2_89</td>\n",
       "      <td>2331.164993</td>\n",
       "      <td>89</td>\n",
       "      <td>13</td>\n",
       "      <td>169</td>\n",
       "      <td>7.754123</td>\n",
       "      <td>0</td>\n",
       "      <td>1</td>\n",
       "      <td>0</td>\n",
       "      <td>0</td>\n",
       "    </tr>\n",
       "    <tr>\n",
       "      <th>14</th>\n",
       "      <td>Q3_89</td>\n",
       "      <td>2206.549995</td>\n",
       "      <td>89</td>\n",
       "      <td>14</td>\n",
       "      <td>196</td>\n",
       "      <td>7.699185</td>\n",
       "      <td>0</td>\n",
       "      <td>0</td>\n",
       "      <td>1</td>\n",
       "      <td>0</td>\n",
       "    </tr>\n",
       "    <tr>\n",
       "      <th>15</th>\n",
       "      <td>Q4_89</td>\n",
       "      <td>2173.967995</td>\n",
       "      <td>89</td>\n",
       "      <td>15</td>\n",
       "      <td>225</td>\n",
       "      <td>7.684309</td>\n",
       "      <td>0</td>\n",
       "      <td>0</td>\n",
       "      <td>0</td>\n",
       "      <td>1</td>\n",
       "    </tr>\n",
       "    <tr>\n",
       "      <th>16</th>\n",
       "      <td>Q1_90</td>\n",
       "      <td>2148.278000</td>\n",
       "      <td>90</td>\n",
       "      <td>16</td>\n",
       "      <td>256</td>\n",
       "      <td>7.672422</td>\n",
       "      <td>1</td>\n",
       "      <td>0</td>\n",
       "      <td>0</td>\n",
       "      <td>0</td>\n",
       "    </tr>\n",
       "    <tr>\n",
       "      <th>17</th>\n",
       "      <td>Q2_90</td>\n",
       "      <td>2739.307999</td>\n",
       "      <td>90</td>\n",
       "      <td>17</td>\n",
       "      <td>289</td>\n",
       "      <td>7.915461</td>\n",
       "      <td>0</td>\n",
       "      <td>1</td>\n",
       "      <td>0</td>\n",
       "      <td>0</td>\n",
       "    </tr>\n",
       "    <tr>\n",
       "      <th>18</th>\n",
       "      <td>Q3_90</td>\n",
       "      <td>2792.753998</td>\n",
       "      <td>90</td>\n",
       "      <td>18</td>\n",
       "      <td>324</td>\n",
       "      <td>7.934783</td>\n",
       "      <td>0</td>\n",
       "      <td>0</td>\n",
       "      <td>1</td>\n",
       "      <td>0</td>\n",
       "    </tr>\n",
       "    <tr>\n",
       "      <th>19</th>\n",
       "      <td>Q4_90</td>\n",
       "      <td>2556.009995</td>\n",
       "      <td>90</td>\n",
       "      <td>19</td>\n",
       "      <td>361</td>\n",
       "      <td>7.846203</td>\n",
       "      <td>0</td>\n",
       "      <td>0</td>\n",
       "      <td>0</td>\n",
       "      <td>1</td>\n",
       "    </tr>\n",
       "    <tr>\n",
       "      <th>20</th>\n",
       "      <td>Q1_91</td>\n",
       "      <td>2480.973999</td>\n",
       "      <td>91</td>\n",
       "      <td>20</td>\n",
       "      <td>400</td>\n",
       "      <td>7.816407</td>\n",
       "      <td>1</td>\n",
       "      <td>0</td>\n",
       "      <td>0</td>\n",
       "      <td>0</td>\n",
       "    </tr>\n",
       "    <tr>\n",
       "      <th>21</th>\n",
       "      <td>Q2_91</td>\n",
       "      <td>3039.522995</td>\n",
       "      <td>91</td>\n",
       "      <td>21</td>\n",
       "      <td>441</td>\n",
       "      <td>8.019456</td>\n",
       "      <td>0</td>\n",
       "      <td>1</td>\n",
       "      <td>0</td>\n",
       "      <td>0</td>\n",
       "    </tr>\n",
       "    <tr>\n",
       "      <th>22</th>\n",
       "      <td>Q3_91</td>\n",
       "      <td>3172.115997</td>\n",
       "      <td>91</td>\n",
       "      <td>22</td>\n",
       "      <td>484</td>\n",
       "      <td>8.062154</td>\n",
       "      <td>0</td>\n",
       "      <td>0</td>\n",
       "      <td>1</td>\n",
       "      <td>0</td>\n",
       "    </tr>\n",
       "    <tr>\n",
       "      <th>23</th>\n",
       "      <td>Q4_91</td>\n",
       "      <td>2879.000999</td>\n",
       "      <td>91</td>\n",
       "      <td>23</td>\n",
       "      <td>529</td>\n",
       "      <td>7.965199</td>\n",
       "      <td>0</td>\n",
       "      <td>0</td>\n",
       "      <td>0</td>\n",
       "      <td>1</td>\n",
       "    </tr>\n",
       "    <tr>\n",
       "      <th>24</th>\n",
       "      <td>Q1_92</td>\n",
       "      <td>2772.000000</td>\n",
       "      <td>92</td>\n",
       "      <td>24</td>\n",
       "      <td>576</td>\n",
       "      <td>7.927324</td>\n",
       "      <td>1</td>\n",
       "      <td>0</td>\n",
       "      <td>0</td>\n",
       "      <td>0</td>\n",
       "    </tr>\n",
       "    <tr>\n",
       "      <th>25</th>\n",
       "      <td>Q2_92</td>\n",
       "      <td>3550.000000</td>\n",
       "      <td>92</td>\n",
       "      <td>25</td>\n",
       "      <td>625</td>\n",
       "      <td>8.174703</td>\n",
       "      <td>0</td>\n",
       "      <td>1</td>\n",
       "      <td>0</td>\n",
       "      <td>0</td>\n",
       "    </tr>\n",
       "    <tr>\n",
       "      <th>26</th>\n",
       "      <td>Q3_92</td>\n",
       "      <td>3508.000000</td>\n",
       "      <td>92</td>\n",
       "      <td>26</td>\n",
       "      <td>676</td>\n",
       "      <td>8.162801</td>\n",
       "      <td>0</td>\n",
       "      <td>0</td>\n",
       "      <td>1</td>\n",
       "      <td>0</td>\n",
       "    </tr>\n",
       "    <tr>\n",
       "      <th>27</th>\n",
       "      <td>Q4_92</td>\n",
       "      <td>3243.859993</td>\n",
       "      <td>92</td>\n",
       "      <td>27</td>\n",
       "      <td>729</td>\n",
       "      <td>8.084519</td>\n",
       "      <td>0</td>\n",
       "      <td>0</td>\n",
       "      <td>0</td>\n",
       "      <td>1</td>\n",
       "    </tr>\n",
       "    <tr>\n",
       "      <th>28</th>\n",
       "      <td>Q1_93</td>\n",
       "      <td>3056.000000</td>\n",
       "      <td>93</td>\n",
       "      <td>28</td>\n",
       "      <td>784</td>\n",
       "      <td>8.024862</td>\n",
       "      <td>1</td>\n",
       "      <td>0</td>\n",
       "      <td>0</td>\n",
       "      <td>0</td>\n",
       "    </tr>\n",
       "    <tr>\n",
       "      <th>29</th>\n",
       "      <td>Q2_93</td>\n",
       "      <td>3899.000000</td>\n",
       "      <td>93</td>\n",
       "      <td>29</td>\n",
       "      <td>841</td>\n",
       "      <td>8.268475</td>\n",
       "      <td>0</td>\n",
       "      <td>1</td>\n",
       "      <td>0</td>\n",
       "      <td>0</td>\n",
       "    </tr>\n",
       "    <tr>\n",
       "      <th>30</th>\n",
       "      <td>Q3_93</td>\n",
       "      <td>3629.000000</td>\n",
       "      <td>93</td>\n",
       "      <td>30</td>\n",
       "      <td>900</td>\n",
       "      <td>8.196712</td>\n",
       "      <td>0</td>\n",
       "      <td>0</td>\n",
       "      <td>1</td>\n",
       "      <td>0</td>\n",
       "    </tr>\n",
       "    <tr>\n",
       "      <th>31</th>\n",
       "      <td>Q4_93</td>\n",
       "      <td>3373.000000</td>\n",
       "      <td>93</td>\n",
       "      <td>31</td>\n",
       "      <td>961</td>\n",
       "      <td>8.123558</td>\n",
       "      <td>0</td>\n",
       "      <td>0</td>\n",
       "      <td>0</td>\n",
       "      <td>1</td>\n",
       "    </tr>\n",
       "    <tr>\n",
       "      <th>32</th>\n",
       "      <td>Q1_94</td>\n",
       "      <td>3352.000000</td>\n",
       "      <td>94</td>\n",
       "      <td>32</td>\n",
       "      <td>1024</td>\n",
       "      <td>8.117312</td>\n",
       "      <td>1</td>\n",
       "      <td>0</td>\n",
       "      <td>0</td>\n",
       "      <td>0</td>\n",
       "    </tr>\n",
       "    <tr>\n",
       "      <th>33</th>\n",
       "      <td>Q2_94</td>\n",
       "      <td>4342.000000</td>\n",
       "      <td>94</td>\n",
       "      <td>33</td>\n",
       "      <td>1089</td>\n",
       "      <td>8.376090</td>\n",
       "      <td>0</td>\n",
       "      <td>1</td>\n",
       "      <td>0</td>\n",
       "      <td>0</td>\n",
       "    </tr>\n",
       "    <tr>\n",
       "      <th>34</th>\n",
       "      <td>Q3_94</td>\n",
       "      <td>4461.000000</td>\n",
       "      <td>94</td>\n",
       "      <td>34</td>\n",
       "      <td>1156</td>\n",
       "      <td>8.403128</td>\n",
       "      <td>0</td>\n",
       "      <td>0</td>\n",
       "      <td>1</td>\n",
       "      <td>0</td>\n",
       "    </tr>\n",
       "    <tr>\n",
       "      <th>35</th>\n",
       "      <td>Q4_94</td>\n",
       "      <td>4017.000000</td>\n",
       "      <td>94</td>\n",
       "      <td>35</td>\n",
       "      <td>1225</td>\n",
       "      <td>8.298291</td>\n",
       "      <td>0</td>\n",
       "      <td>0</td>\n",
       "      <td>0</td>\n",
       "      <td>1</td>\n",
       "    </tr>\n",
       "    <tr>\n",
       "      <th>36</th>\n",
       "      <td>Q1_95</td>\n",
       "      <td>3854.000000</td>\n",
       "      <td>95</td>\n",
       "      <td>36</td>\n",
       "      <td>1296</td>\n",
       "      <td>8.256867</td>\n",
       "      <td>1</td>\n",
       "      <td>0</td>\n",
       "      <td>0</td>\n",
       "      <td>0</td>\n",
       "    </tr>\n",
       "    <tr>\n",
       "      <th>37</th>\n",
       "      <td>Q2_95</td>\n",
       "      <td>4936.000000</td>\n",
       "      <td>95</td>\n",
       "      <td>37</td>\n",
       "      <td>1369</td>\n",
       "      <td>8.504311</td>\n",
       "      <td>0</td>\n",
       "      <td>1</td>\n",
       "      <td>0</td>\n",
       "      <td>0</td>\n",
       "    </tr>\n",
       "    <tr>\n",
       "      <th>38</th>\n",
       "      <td>Q3_95</td>\n",
       "      <td>4895.000000</td>\n",
       "      <td>95</td>\n",
       "      <td>38</td>\n",
       "      <td>1444</td>\n",
       "      <td>8.495970</td>\n",
       "      <td>0</td>\n",
       "      <td>0</td>\n",
       "      <td>1</td>\n",
       "      <td>0</td>\n",
       "    </tr>\n",
       "    <tr>\n",
       "      <th>39</th>\n",
       "      <td>Q4_95</td>\n",
       "      <td>4333.000000</td>\n",
       "      <td>95</td>\n",
       "      <td>39</td>\n",
       "      <td>1521</td>\n",
       "      <td>8.374015</td>\n",
       "      <td>0</td>\n",
       "      <td>0</td>\n",
       "      <td>0</td>\n",
       "      <td>1</td>\n",
       "    </tr>\n",
       "    <tr>\n",
       "      <th>40</th>\n",
       "      <td>Q1_96</td>\n",
       "      <td>4194.000000</td>\n",
       "      <td>96</td>\n",
       "      <td>40</td>\n",
       "      <td>1600</td>\n",
       "      <td>8.341410</td>\n",
       "      <td>1</td>\n",
       "      <td>0</td>\n",
       "      <td>0</td>\n",
       "      <td>0</td>\n",
       "    </tr>\n",
       "    <tr>\n",
       "      <th>41</th>\n",
       "      <td>Q2_96</td>\n",
       "      <td>5253.000000</td>\n",
       "      <td>96</td>\n",
       "      <td>41</td>\n",
       "      <td>1681</td>\n",
       "      <td>8.566555</td>\n",
       "      <td>0</td>\n",
       "      <td>1</td>\n",
       "      <td>0</td>\n",
       "      <td>0</td>\n",
       "    </tr>\n",
       "  </tbody>\n",
       "</table>\n",
       "</div>"
      ],
      "text/plain": [
       "   Quarter        Sales  Year   t  sq_t  log_sale  Quarters_Q1  Quarters_Q2  \\\n",
       "0    Q1_86  1734.827000    86   0     0  7.458663            1            0   \n",
       "1    Q2_86  2244.960999    86   1     1  7.716443            0            1   \n",
       "2    Q3_86  2533.804993    86   2     4  7.837477            0            0   \n",
       "3    Q4_86  2154.962997    86   3     9  7.675529            0            0   \n",
       "4    Q1_87  1547.818996    87   4    16  7.344602            1            0   \n",
       "5    Q2_87  2104.411995    87   5    25  7.651791            0            1   \n",
       "6    Q3_87  2014.362999    87   6    36  7.608058            0            0   \n",
       "7    Q4_87  1991.746998    87   7    49  7.596767            0            0   \n",
       "8    Q1_88  1869.049999    88   8    64  7.533186            1            0   \n",
       "9    Q2_88  2313.631996    88   9    81  7.746574            0            1   \n",
       "10   Q3_88  2128.320000    88  10   100  7.663088            0            0   \n",
       "11   Q4_88  2026.828999    88  11   121  7.614228            0            0   \n",
       "12   Q1_89  1910.603996    89  12   144  7.555175            1            0   \n",
       "13   Q2_89  2331.164993    89  13   169  7.754123            0            1   \n",
       "14   Q3_89  2206.549995    89  14   196  7.699185            0            0   \n",
       "15   Q4_89  2173.967995    89  15   225  7.684309            0            0   \n",
       "16   Q1_90  2148.278000    90  16   256  7.672422            1            0   \n",
       "17   Q2_90  2739.307999    90  17   289  7.915461            0            1   \n",
       "18   Q3_90  2792.753998    90  18   324  7.934783            0            0   \n",
       "19   Q4_90  2556.009995    90  19   361  7.846203            0            0   \n",
       "20   Q1_91  2480.973999    91  20   400  7.816407            1            0   \n",
       "21   Q2_91  3039.522995    91  21   441  8.019456            0            1   \n",
       "22   Q3_91  3172.115997    91  22   484  8.062154            0            0   \n",
       "23   Q4_91  2879.000999    91  23   529  7.965199            0            0   \n",
       "24   Q1_92  2772.000000    92  24   576  7.927324            1            0   \n",
       "25   Q2_92  3550.000000    92  25   625  8.174703            0            1   \n",
       "26   Q3_92  3508.000000    92  26   676  8.162801            0            0   \n",
       "27   Q4_92  3243.859993    92  27   729  8.084519            0            0   \n",
       "28   Q1_93  3056.000000    93  28   784  8.024862            1            0   \n",
       "29   Q2_93  3899.000000    93  29   841  8.268475            0            1   \n",
       "30   Q3_93  3629.000000    93  30   900  8.196712            0            0   \n",
       "31   Q4_93  3373.000000    93  31   961  8.123558            0            0   \n",
       "32   Q1_94  3352.000000    94  32  1024  8.117312            1            0   \n",
       "33   Q2_94  4342.000000    94  33  1089  8.376090            0            1   \n",
       "34   Q3_94  4461.000000    94  34  1156  8.403128            0            0   \n",
       "35   Q4_94  4017.000000    94  35  1225  8.298291            0            0   \n",
       "36   Q1_95  3854.000000    95  36  1296  8.256867            1            0   \n",
       "37   Q2_95  4936.000000    95  37  1369  8.504311            0            1   \n",
       "38   Q3_95  4895.000000    95  38  1444  8.495970            0            0   \n",
       "39   Q4_95  4333.000000    95  39  1521  8.374015            0            0   \n",
       "40   Q1_96  4194.000000    96  40  1600  8.341410            1            0   \n",
       "41   Q2_96  5253.000000    96  41  1681  8.566555            0            1   \n",
       "\n",
       "    Quarters_Q3  Quarters_Q4  \n",
       "0             0            0  \n",
       "1             0            0  \n",
       "2             1            0  \n",
       "3             0            1  \n",
       "4             0            0  \n",
       "5             0            0  \n",
       "6             1            0  \n",
       "7             0            1  \n",
       "8             0            0  \n",
       "9             0            0  \n",
       "10            1            0  \n",
       "11            0            1  \n",
       "12            0            0  \n",
       "13            0            0  \n",
       "14            1            0  \n",
       "15            0            1  \n",
       "16            0            0  \n",
       "17            0            0  \n",
       "18            1            0  \n",
       "19            0            1  \n",
       "20            0            0  \n",
       "21            0            0  \n",
       "22            1            0  \n",
       "23            0            1  \n",
       "24            0            0  \n",
       "25            0            0  \n",
       "26            1            0  \n",
       "27            0            1  \n",
       "28            0            0  \n",
       "29            0            0  \n",
       "30            1            0  \n",
       "31            0            1  \n",
       "32            0            0  \n",
       "33            0            0  \n",
       "34            1            0  \n",
       "35            0            1  \n",
       "36            0            0  \n",
       "37            0            0  \n",
       "38            1            0  \n",
       "39            0            1  \n",
       "40            0            0  \n",
       "41            0            0  "
      ]
     },
     "execution_count": 16,
     "metadata": {},
     "output_type": "execute_result"
    }
   ],
   "source": [
    "data['t'] =pd.RangeIndex(start=0,stop=42,step=1)\n",
    "data['sq_t'] = np.square(data['t'])\n",
    "data['log_sale']= np.log(data['Sales'])\n",
    "data = pd.get_dummies(data=data,columns=['Quarters'])\n",
    "data"
   ]
  },
  {
   "cell_type": "code",
   "execution_count": 17,
   "id": "abacff3f",
   "metadata": {},
   "outputs": [],
   "source": [
    "train_data = data.head(30)\n",
    "test_data  = data.tail(12)"
   ]
  },
  {
   "cell_type": "code",
   "execution_count": 18,
   "id": "93f4f224",
   "metadata": {
    "scrolled": true
   },
   "outputs": [
    {
     "data": {
      "image/png": "[encoded data removed]",
      "text/plain": [
       "<Figure size 864x432 with 1 Axes>"
      ]
     },
     "metadata": {
      "needs_background": "light"
     },
     "output_type": "display_data"
    }
   ],
   "source": [
    "train_data['Sales'].plot(legend=True,label='Train')\n",
    "test_data['Sales'].plot(legend=True,label='Test',figsize=(12,6));"
   ]
  },
  {
   "cell_type": "code",
   "execution_count": 19,
   "id": "ef65ff6b",
   "metadata": {},
   "outputs": [],
   "source": [
    "TES_mul_mul = ExponentialSmoothing(train_data['Sales'],trend='mul',seasonal='mul',seasonal_periods=4)\n",
    "TES_fitted = TES_mul_mul.fit()"
   ]
  },
  {
   "cell_type": "code",
   "execution_count": 20,
   "id": "3d2bc907",
   "metadata": {},
   "outputs": [],
   "source": [
    "data_pred = TES_fitted.predict(start=30,end=41)"
   ]
  },
  {
   "cell_type": "code",
   "execution_count": 21,
   "id": "d175fecd",
   "metadata": {},
   "outputs": [
    {
     "data": {
      "text/plain": [
       "30    3904.817479\n",
       "31    3606.571933\n",
       "32    3437.784439\n",
       "33    4368.654650\n",
       "34    4355.667179\n",
       "35    4022.986242\n",
       "36    3834.710566\n",
       "37    4873.058927\n",
       "38    4858.571924\n",
       "39    4487.479691\n",
       "40    4277.465731\n",
       "41    5435.701654\n",
       "dtype: float64"
      ]
     },
     "execution_count": 21,
     "metadata": {},
     "output_type": "execute_result"
    }
   ],
   "source": [
    "data_pred"
   ]
  },
  {
   "cell_type": "code",
   "execution_count": 22,
   "id": "27150a20",
   "metadata": {},
   "outputs": [
    {
     "data": {
      "text/plain": [
       "18308.539292395628"
      ]
     },
     "execution_count": 22,
     "metadata": {},
     "output_type": "execute_result"
    }
   ],
   "source": [
    "mean_squared_error(test_data['Sales'],data_pred)"
   ]
  },
  {
   "cell_type": "code",
   "execution_count": 23,
   "id": "349153fc",
   "metadata": {},
   "outputs": [],
   "source": [
    "TES_mul_add = ExponentialSmoothing(train_data['Sales'],trend='mul',seasonal='add',seasonal_periods=4)\n",
    "TES_1 = TES_mul_add.fit()"
   ]
  },
  {
   "cell_type": "code",
   "execution_count": 24,
   "id": "0ade7b52",
   "metadata": {},
   "outputs": [],
   "source": [
    "data_pred1 = TES_1.predict(start=30,end=41)"
   ]
  },
  {
   "cell_type": "code",
   "execution_count": 25,
   "id": "b3aa830d",
   "metadata": {},
   "outputs": [
    {
     "data": {
      "text/plain": [
       "154700.33331067648"
      ]
     },
     "execution_count": 25,
     "metadata": {},
     "output_type": "execute_result"
    }
   ],
   "source": [
    "mean_squared_error(test_data['Sales'],data_pred1)"
   ]
  },
  {
   "cell_type": "code",
   "execution_count": 26,
   "id": "70b2ac1a",
   "metadata": {},
   "outputs": [],
   "source": [
    "TES_add_mul = ExponentialSmoothing(train_data['Sales'],trend='add',seasonal='mul',seasonal_periods=4)\n",
    "TES_2 = TES_add_mul.fit()"
   ]
  },
  {
   "cell_type": "code",
   "execution_count": 27,
   "id": "114a0837",
   "metadata": {},
   "outputs": [],
   "source": [
    "data_pred2 =TES_2.predict(start=30,end=41)"
   ]
  },
  {
   "cell_type": "code",
   "execution_count": 28,
   "id": "9cb47ec1",
   "metadata": {},
   "outputs": [
    {
     "data": {
      "text/plain": [
       "33017.05969111293"
      ]
     },
     "execution_count": 28,
     "metadata": {},
     "output_type": "execute_result"
    }
   ],
   "source": [
    "mean_squared_error(test_data['Sales'],data_pred2)"
   ]
  },
  {
   "cell_type": "code",
   "execution_count": 29,
   "id": "0dab7c6f",
   "metadata": {},
   "outputs": [],
   "source": [
    "TES_add_add = ExponentialSmoothing(train_data['Sales'],trend='add',seasonal='add',seasonal_periods=4)\n",
    "TES_3 = TES_add_add.fit()"
   ]
  },
  {
   "cell_type": "code",
   "execution_count": 30,
   "id": "c281b53b",
   "metadata": {},
   "outputs": [],
   "source": [
    "data_pred3 = TES_3.predict(start=30,end=41)"
   ]
  },
  {
   "cell_type": "code",
   "execution_count": 31,
   "id": "600f8870",
   "metadata": {},
   "outputs": [
    {
     "data": {
      "text/plain": [
       "60260.47718653973"
      ]
     },
     "execution_count": 31,
     "metadata": {},
     "output_type": "execute_result"
    }
   ],
   "source": [
    "mean_squared_error(test_data['Sales'],data_pred3)"
   ]
  },
  {
   "cell_type": "code",
   "execution_count": 32,
   "id": "8d3e8144",
   "metadata": {
    "scrolled": true
   },
   "outputs": [
    {
     "data": {
      "image/png": "[encoded data removed]",
      "text/plain": [
       "<Figure size 864x432 with 1 Axes>"
      ]
     },
     "metadata": {
      "needs_background": "light"
     },
     "output_type": "display_data"
    }
   ],
   "source": [
    "train_data['Sales'].plot(legend=True,label='Train')\n",
    "test_data['Sales'].plot(legend=True,label='Test')\n",
    "data_pred.plot(legend=True,label='Prediction',figsize=(12,6));"
   ]
  },
  {
   "cell_type": "code",
   "execution_count": 33,
   "id": "69a27be8",
   "metadata": {},
   "outputs": [
    {
     "data": {
      "image/png": "[encoded data removed]",
      "text/plain": [
       "<Figure size 864x432 with 1 Axes>"
      ]
     },
     "metadata": {
      "needs_background": "light"
     },
     "output_type": "display_data"
    }
   ],
   "source": [
    "test_data['Sales'].plot(legend=True,label='Test')\n",
    "data_pred.plot(legend=True,label='Prediction',figsize=(12,6));"
   ]
  },
  {
   "cell_type": "code",
   "execution_count": 34,
   "id": "d3a2a0d8",
   "metadata": {},
   "outputs": [],
   "source": [
    "def LLR_test(mod_1,mod_2,DF=1):\n",
    "    L1 = mod_1.fit().llf\n",
    "    L2 = mod_2.fit().llf\n",
    "    LR = (2*(L2-L1))\n",
    "    p = chi2.sf(LR,DF).round(3)\n",
    "    return p"
   ]
  },
  {
   "cell_type": "code",
   "execution_count": 35,
   "id": "3504675f",
   "metadata": {},
   "outputs": [],
   "source": [
    "model_ar1 = ARMA(data.Sales,order=(1,0))"
   ]
  },
  {
   "cell_type": "code",
   "execution_count": 36,
   "id": "526af55a",
   "metadata": {},
   "outputs": [],
   "source": [
    "result_ar1 = model_ar1.fit()"
   ]
  },
  {
   "cell_type": "code",
   "execution_count": 37,
   "id": "84106c05",
   "metadata": {},
   "outputs": [
    {
     "data": {
      "text/html": [
       "<table class=\"simpletable\">\n",
       "<caption>ARMA Model Results</caption>\n",
       "<tr>\n",
       "  <th>Dep. Variable:</th>       <td>Sales</td>      <th>  No. Observations:  </th>    <td>42</td>   \n",
       "</tr>\n",
       "<tr>\n",
       "  <th>Model:</th>            <td>ARMA(1, 0)</td>    <th>  Log Likelihood     </th> <td>-315.765</td>\n",
       "</tr>\n",
       "<tr>\n",
       "  <th>Method:</th>             <td>css-mle</td>     <th>  S.D. of innovations</th>  <td>434.561</td>\n",
       "</tr>\n",
       "<tr>\n",
       "  <th>Date:</th>          <td>Fri, 19 Aug 2022</td> <th>  AIC                </th>  <td>637.530</td>\n",
       "</tr>\n",
       "<tr>\n",
       "  <th>Time:</th>              <td>14:17:53</td>     <th>  BIC                </th>  <td>642.743</td>\n",
       "</tr>\n",
       "<tr>\n",
       "  <th>Sample:</th>                <td>0</td>        <th>  HQIC               </th>  <td>639.441</td>\n",
       "</tr>\n",
       "<tr>\n",
       "  <th></th>                       <td> </td>        <th>                     </th>     <td> </td>   \n",
       "</tr>\n",
       "</table>\n",
       "<table class=\"simpletable\">\n",
       "<tr>\n",
       "       <td></td>          <th>coef</th>     <th>std err</th>      <th>z</th>      <th>P>|z|</th>  <th>[0.025</th>    <th>0.975]</th>  \n",
       "</tr>\n",
       "<tr>\n",
       "  <th>const</th>       <td> 3200.1146</td> <td>  817.353</td> <td>    3.915</td> <td> 0.000</td> <td> 1598.132</td> <td> 4802.097</td>\n",
       "</tr>\n",
       "<tr>\n",
       "  <th>ar.L1.Sales</th> <td>    0.9365</td> <td>    0.058</td> <td>   16.173</td> <td> 0.000</td> <td>    0.823</td> <td>    1.050</td>\n",
       "</tr>\n",
       "</table>\n",
       "<table class=\"simpletable\">\n",
       "<caption>Roots</caption>\n",
       "<tr>\n",
       "    <td></td>   <th>            Real</th>  <th>         Imaginary</th> <th>         Modulus</th>  <th>        Frequency</th>\n",
       "</tr>\n",
       "<tr>\n",
       "  <th>AR.1</th> <td>           1.0679</td> <td>          +0.0000j</td> <td>           1.0679</td> <td>           0.0000</td>\n",
       "</tr>\n",
       "</table>"
      ],
      "text/plain": [
       "<class 'statsmodels.iolib.summary.Summary'>\n",
       "\"\"\"\n",
       "                              ARMA Model Results                              \n",
       "==============================================================================\n",
       "Dep. Variable:                  Sales   No. Observations:                   42\n",
       "Model:                     ARMA(1, 0)   Log Likelihood                -315.765\n",
       "Method:                       css-mle   S.D. of innovations            434.561\n",
       "Date:                Fri, 19 Aug 2022   AIC                            637.530\n",
       "Time:                        14:17:53   BIC                            642.743\n",
       "Sample:                             0   HQIC                           639.441\n",
       "                                                                              \n",
       "===============================================================================\n",
       "                  coef    std err          z      P>|z|      [0.025      0.975]\n",
       "-------------------------------------------------------------------------------\n",
       "const        3200.1146    817.353      3.915      0.000    1598.132    4802.097\n",
       "ar.L1.Sales     0.9365      0.058     16.173      0.000       0.823       1.050\n",
       "                                    Roots                                    \n",
       "=============================================================================\n",
       "                  Real          Imaginary           Modulus         Frequency\n",
       "-----------------------------------------------------------------------------\n",
       "AR.1            1.0679           +0.0000j            1.0679            0.0000\n",
       "-----------------------------------------------------------------------------\n",
       "\"\"\""
      ]
     },
     "execution_count": 37,
     "metadata": {},
     "output_type": "execute_result"
    }
   ],
   "source": [
    "result_ar1.summary()"
   ]
  },
  {
   "cell_type": "code",
   "execution_count": 38,
   "id": "b030e9d6",
   "metadata": {},
   "outputs": [],
   "source": [
    "model_ar2 = ARMA(data.Sales,order=(2,0))"
   ]
  },
  {
   "cell_type": "code",
   "execution_count": 39,
   "id": "8070dda5",
   "metadata": {},
   "outputs": [],
   "source": [
    "result_ar2 = model_ar2.fit()"
   ]
  },
  {
   "cell_type": "code",
   "execution_count": 40,
   "id": "3d3aa54d",
   "metadata": {},
   "outputs": [
    {
     "data": {
      "text/html": [
       "<table class=\"simpletable\">\n",
       "<caption>ARMA Model Results</caption>\n",
       "<tr>\n",
       "  <th>Dep. Variable:</th>       <td>Sales</td>      <th>  No. Observations:  </th>    <td>42</td>   \n",
       "</tr>\n",
       "<tr>\n",
       "  <th>Model:</th>            <td>ARMA(2, 0)</td>    <th>  Log Likelihood     </th> <td>-315.611</td>\n",
       "</tr>\n",
       "<tr>\n",
       "  <th>Method:</th>             <td>css-mle</td>     <th>  S.D. of innovations</th>  <td>432.794</td>\n",
       "</tr>\n",
       "<tr>\n",
       "  <th>Date:</th>          <td>Fri, 19 Aug 2022</td> <th>  AIC                </th>  <td>639.222</td>\n",
       "</tr>\n",
       "<tr>\n",
       "  <th>Time:</th>              <td>14:19:42</td>     <th>  BIC                </th>  <td>646.173</td>\n",
       "</tr>\n",
       "<tr>\n",
       "  <th>Sample:</th>                <td>0</td>        <th>  HQIC               </th>  <td>641.770</td>\n",
       "</tr>\n",
       "<tr>\n",
       "  <th></th>                       <td> </td>        <th>                     </th>     <td> </td>   \n",
       "</tr>\n",
       "</table>\n",
       "<table class=\"simpletable\">\n",
       "<tr>\n",
       "       <td></td>          <th>coef</th>     <th>std err</th>      <th>z</th>      <th>P>|z|</th>  <th>[0.025</th>    <th>0.975]</th>  \n",
       "</tr>\n",
       "<tr>\n",
       "  <th>const</th>       <td> 3215.6661</td> <td>  871.002</td> <td>    3.692</td> <td> 0.000</td> <td> 1508.534</td> <td> 4922.799</td>\n",
       "</tr>\n",
       "<tr>\n",
       "  <th>ar.L1.Sales</th> <td>    0.8489</td> <td>    0.167</td> <td>    5.068</td> <td> 0.000</td> <td>    0.521</td> <td>    1.177</td>\n",
       "</tr>\n",
       "<tr>\n",
       "  <th>ar.L2.Sales</th> <td>    0.0946</td> <td>    0.170</td> <td>    0.557</td> <td> 0.578</td> <td>   -0.238</td> <td>    0.427</td>\n",
       "</tr>\n",
       "</table>\n",
       "<table class=\"simpletable\">\n",
       "<caption>Roots</caption>\n",
       "<tr>\n",
       "    <td></td>   <th>            Real</th>  <th>         Imaginary</th> <th>         Modulus</th>  <th>        Frequency</th>\n",
       "</tr>\n",
       "<tr>\n",
       "  <th>AR.1</th> <td>           1.0543</td> <td>          +0.0000j</td> <td>           1.0543</td> <td>           0.0000</td>\n",
       "</tr>\n",
       "<tr>\n",
       "  <th>AR.2</th> <td>         -10.0319</td> <td>          +0.0000j</td> <td>          10.0319</td> <td>           0.5000</td>\n",
       "</tr>\n",
       "</table>"
      ],
      "text/plain": [
       "<class 'statsmodels.iolib.summary.Summary'>\n",
       "\"\"\"\n",
       "                              ARMA Model Results                              \n",
       "==============================================================================\n",
       "Dep. Variable:                  Sales   No. Observations:                   42\n",
       "Model:                     ARMA(2, 0)   Log Likelihood                -315.611\n",
       "Method:                       css-mle   S.D. of innovations            432.794\n",
       "Date:                Fri, 19 Aug 2022   AIC                            639.222\n",
       "Time:                        14:19:42   BIC                            646.173\n",
       "Sample:                             0   HQIC                           641.770\n",
       "                                                                              \n",
       "===============================================================================\n",
       "                  coef    std err          z      P>|z|      [0.025      0.975]\n",
       "-------------------------------------------------------------------------------\n",
       "const        3215.6661    871.002      3.692      0.000    1508.534    4922.799\n",
       "ar.L1.Sales     0.8489      0.167      5.068      0.000       0.521       1.177\n",
       "ar.L2.Sales     0.0946      0.170      0.557      0.578      -0.238       0.427\n",
       "                                    Roots                                    \n",
       "=============================================================================\n",
       "                  Real          Imaginary           Modulus         Frequency\n",
       "-----------------------------------------------------------------------------\n",
       "AR.1            1.0543           +0.0000j            1.0543            0.0000\n",
       "AR.2          -10.0319           +0.0000j           10.0319            0.5000\n",
       "-----------------------------------------------------------------------------\n",
       "\"\"\""
      ]
     },
     "execution_count": 40,
     "metadata": {},
     "output_type": "execute_result"
    }
   ],
   "source": [
    "result_ar2.summary()"
   ]
  },
  {
   "cell_type": "code",
   "execution_count": 43,
   "id": "03db8615",
   "metadata": {},
   "outputs": [
    {
     "data": {
      "text/plain": [
       "0.579"
      ]
     },
     "execution_count": 43,
     "metadata": {},
     "output_type": "execute_result"
    }
   ],
   "source": [
    "LLR_test(model_ar1,model_ar2)"
   ]
  },
  {
   "cell_type": "code",
   "execution_count": 44,
   "id": "7a034218",
   "metadata": {},
   "outputs": [],
   "source": [
    "model_ma1 = ARMA(data.Sales,order=(0,1))"
   ]
  },
  {
   "cell_type": "code",
   "execution_count": 46,
   "id": "53942665",
   "metadata": {},
   "outputs": [],
   "source": [
    "result_ma1 = model_ma1.fit()"
   ]
  },
  {
   "cell_type": "code",
   "execution_count": 47,
   "id": "48eda3ec",
   "metadata": {},
   "outputs": [
    {
     "data": {
      "text/html": [
       "<table class=\"simpletable\">\n",
       "<caption>ARMA Model Results</caption>\n",
       "<tr>\n",
       "  <th>Dep. Variable:</th>       <td>Sales</td>      <th>  No. Observations:  </th>    <td>42</td>   \n",
       "</tr>\n",
       "<tr>\n",
       "  <th>Model:</th>            <td>ARMA(0, 1)</td>    <th>  Log Likelihood     </th> <td>-333.381</td>\n",
       "</tr>\n",
       "<tr>\n",
       "  <th>Method:</th>             <td>css-mle</td>     <th>  S.D. of innovations</th>  <td>672.608</td>\n",
       "</tr>\n",
       "<tr>\n",
       "  <th>Date:</th>          <td>Fri, 19 Aug 2022</td> <th>  AIC                </th>  <td>672.763</td>\n",
       "</tr>\n",
       "<tr>\n",
       "  <th>Time:</th>              <td>14:24:14</td>     <th>  BIC                </th>  <td>677.976</td>\n",
       "</tr>\n",
       "<tr>\n",
       "  <th>Sample:</th>                <td>0</td>        <th>  HQIC               </th>  <td>674.674</td>\n",
       "</tr>\n",
       "<tr>\n",
       "  <th></th>                       <td> </td>        <th>                     </th>     <td> </td>   \n",
       "</tr>\n",
       "</table>\n",
       "<table class=\"simpletable\">\n",
       "<tr>\n",
       "       <td></td>          <th>coef</th>     <th>std err</th>      <th>z</th>      <th>P>|z|</th>  <th>[0.025</th>    <th>0.975]</th>  \n",
       "</tr>\n",
       "<tr>\n",
       "  <th>const</th>       <td> 3008.1804</td> <td>  173.248</td> <td>   17.363</td> <td> 0.000</td> <td> 2668.621</td> <td> 3347.740</td>\n",
       "</tr>\n",
       "<tr>\n",
       "  <th>ma.L1.Sales</th> <td>    0.6853</td> <td>    0.075</td> <td>    9.116</td> <td> 0.000</td> <td>    0.538</td> <td>    0.833</td>\n",
       "</tr>\n",
       "</table>\n",
       "<table class=\"simpletable\">\n",
       "<caption>Roots</caption>\n",
       "<tr>\n",
       "    <td></td>   <th>            Real</th>  <th>         Imaginary</th> <th>         Modulus</th>  <th>        Frequency</th>\n",
       "</tr>\n",
       "<tr>\n",
       "  <th>MA.1</th> <td>          -1.4592</td> <td>          +0.0000j</td> <td>           1.4592</td> <td>           0.5000</td>\n",
       "</tr>\n",
       "</table>"
      ],
      "text/plain": [
       "<class 'statsmodels.iolib.summary.Summary'>\n",
       "\"\"\"\n",
       "                              ARMA Model Results                              \n",
       "==============================================================================\n",
       "Dep. Variable:                  Sales   No. Observations:                   42\n",
       "Model:                     ARMA(0, 1)   Log Likelihood                -333.381\n",
       "Method:                       css-mle   S.D. of innovations            672.608\n",
       "Date:                Fri, 19 Aug 2022   AIC                            672.763\n",
       "Time:                        14:24:14   BIC                            677.976\n",
       "Sample:                             0   HQIC                           674.674\n",
       "                                                                              \n",
       "===============================================================================\n",
       "                  coef    std err          z      P>|z|      [0.025      0.975]\n",
       "-------------------------------------------------------------------------------\n",
       "const        3008.1804    173.248     17.363      0.000    2668.621    3347.740\n",
       "ma.L1.Sales     0.6853      0.075      9.116      0.000       0.538       0.833\n",
       "                                    Roots                                    \n",
       "=============================================================================\n",
       "                  Real          Imaginary           Modulus         Frequency\n",
       "-----------------------------------------------------------------------------\n",
       "MA.1           -1.4592           +0.0000j            1.4592            0.5000\n",
       "-----------------------------------------------------------------------------\n",
       "\"\"\""
      ]
     },
     "execution_count": 47,
     "metadata": {},
     "output_type": "execute_result"
    }
   ],
   "source": [
    "reseult_ma1.summary()"
   ]
  },
  {
   "cell_type": "code",
   "execution_count": 48,
   "id": "c4cfd7f8",
   "metadata": {},
   "outputs": [],
   "source": [
    "model_ma2 = ARMA(data.Sales,order=(0,2))"
   ]
  },
  {
   "cell_type": "code",
   "execution_count": 49,
   "id": "bd88aa97",
   "metadata": {},
   "outputs": [],
   "source": [
    "result_ma2 = model_ma2.fit()"
   ]
  },
  {
   "cell_type": "code",
   "execution_count": 51,
   "id": "2325e669",
   "metadata": {},
   "outputs": [
    {
     "data": {
      "text/html": [
       "<table class=\"simpletable\">\n",
       "<caption>ARMA Model Results</caption>\n",
       "<tr>\n",
       "  <th>Dep. Variable:</th>       <td>Sales</td>      <th>  No. Observations:  </th>    <td>42</td>   \n",
       "</tr>\n",
       "<tr>\n",
       "  <th>Model:</th>            <td>ARMA(0, 2)</td>    <th>  Log Likelihood     </th> <td>-315.004</td>\n",
       "</tr>\n",
       "<tr>\n",
       "  <th>Method:</th>             <td>css-mle</td>     <th>  S.D. of innovations</th>  <td>403.028</td>\n",
       "</tr>\n",
       "<tr>\n",
       "  <th>Date:</th>          <td>Fri, 19 Aug 2022</td> <th>  AIC                </th>  <td>638.009</td>\n",
       "</tr>\n",
       "<tr>\n",
       "  <th>Time:</th>              <td>14:26:57</td>     <th>  BIC                </th>  <td>644.960</td>\n",
       "</tr>\n",
       "<tr>\n",
       "  <th>Sample:</th>                <td>0</td>        <th>  HQIC               </th>  <td>640.557</td>\n",
       "</tr>\n",
       "<tr>\n",
       "  <th></th>                       <td> </td>        <th>                     </th>     <td> </td>   \n",
       "</tr>\n",
       "</table>\n",
       "<table class=\"simpletable\">\n",
       "<tr>\n",
       "       <td></td>          <th>coef</th>     <th>std err</th>      <th>z</th>      <th>P>|z|</th>  <th>[0.025</th>    <th>0.975]</th>  \n",
       "</tr>\n",
       "<tr>\n",
       "  <th>const</th>       <td> 3038.9141</td> <td>  209.213</td> <td>   14.525</td> <td> 0.000</td> <td> 2628.865</td> <td> 3448.963</td>\n",
       "</tr>\n",
       "<tr>\n",
       "  <th>ma.L1.Sales</th> <td>    1.4327</td> <td>    0.152</td> <td>    9.406</td> <td> 0.000</td> <td>    1.134</td> <td>    1.731</td>\n",
       "</tr>\n",
       "<tr>\n",
       "  <th>ma.L2.Sales</th> <td>    1.0000</td> <td>    0.112</td> <td>    8.935</td> <td> 0.000</td> <td>    0.781</td> <td>    1.219</td>\n",
       "</tr>\n",
       "</table>\n",
       "<table class=\"simpletable\">\n",
       "<caption>Roots</caption>\n",
       "<tr>\n",
       "    <td></td>   <th>            Real</th>  <th>         Imaginary</th> <th>         Modulus</th>  <th>        Frequency</th>\n",
       "</tr>\n",
       "<tr>\n",
       "  <th>MA.1</th> <td>          -0.7164</td> <td>          -0.6977j</td> <td>           1.0000</td> <td>          -0.3771</td>\n",
       "</tr>\n",
       "<tr>\n",
       "  <th>MA.2</th> <td>          -0.7164</td> <td>          +0.6977j</td> <td>           1.0000</td> <td>           0.3771</td>\n",
       "</tr>\n",
       "</table>"
      ],
      "text/plain": [
       "<class 'statsmodels.iolib.summary.Summary'>\n",
       "\"\"\"\n",
       "                              ARMA Model Results                              \n",
       "==============================================================================\n",
       "Dep. Variable:                  Sales   No. Observations:                   42\n",
       "Model:                     ARMA(0, 2)   Log Likelihood                -315.004\n",
       "Method:                       css-mle   S.D. of innovations            403.028\n",
       "Date:                Fri, 19 Aug 2022   AIC                            638.009\n",
       "Time:                        14:26:57   BIC                            644.960\n",
       "Sample:                             0   HQIC                           640.557\n",
       "                                                                              \n",
       "===============================================================================\n",
       "                  coef    std err          z      P>|z|      [0.025      0.975]\n",
       "-------------------------------------------------------------------------------\n",
       "const        3038.9141    209.213     14.525      0.000    2628.865    3448.963\n",
       "ma.L1.Sales     1.4327      0.152      9.406      0.000       1.134       1.731\n",
       "ma.L2.Sales     1.0000      0.112      8.935      0.000       0.781       1.219\n",
       "                                    Roots                                    \n",
       "=============================================================================\n",
       "                  Real          Imaginary           Modulus         Frequency\n",
       "-----------------------------------------------------------------------------\n",
       "MA.1           -0.7164           -0.6977j            1.0000           -0.3771\n",
       "MA.2           -0.7164           +0.6977j            1.0000            0.3771\n",
       "-----------------------------------------------------------------------------\n",
       "\"\"\""
      ]
     },
     "execution_count": 51,
     "metadata": {},
     "output_type": "execute_result"
    }
   ],
   "source": [
    "result_ma2.summary()"
   ]
  },
  {
   "cell_type": "code",
   "execution_count": 52,
   "id": "36d594c4",
   "metadata": {},
   "outputs": [
    {
     "data": {
      "text/plain": [
       "0.0"
      ]
     },
     "execution_count": 52,
     "metadata": {},
     "output_type": "execute_result"
    }
   ],
   "source": [
    "LLR_test(model_ma1,model_ma2)"
   ]
  },
  {
   "cell_type": "code",
   "execution_count": 53,
   "id": "5785ec45",
   "metadata": {},
   "outputs": [],
   "source": [
    "model_ma3 = ARMA(data.Sales,order=(0,3))"
   ]
  },
  {
   "cell_type": "code",
   "execution_count": 54,
   "id": "840b7b41",
   "metadata": {},
   "outputs": [],
   "source": [
    "result_ma3 = model_ma3.fit()"
   ]
  },
  {
   "cell_type": "code",
   "execution_count": 55,
   "id": "d1baa166",
   "metadata": {},
   "outputs": [
    {
     "data": {
      "text/html": [
       "<table class=\"simpletable\">\n",
       "<caption>ARMA Model Results</caption>\n",
       "<tr>\n",
       "  <th>Dep. Variable:</th>       <td>Sales</td>      <th>  No. Observations:  </th>    <td>42</td>   \n",
       "</tr>\n",
       "<tr>\n",
       "  <th>Model:</th>            <td>ARMA(0, 3)</td>    <th>  Log Likelihood     </th> <td>-313.155</td>\n",
       "</tr>\n",
       "<tr>\n",
       "  <th>Method:</th>             <td>css-mle</td>     <th>  S.D. of innovations</th>  <td>382.700</td>\n",
       "</tr>\n",
       "<tr>\n",
       "  <th>Date:</th>          <td>Fri, 19 Aug 2022</td> <th>  AIC                </th>  <td>636.311</td>\n",
       "</tr>\n",
       "<tr>\n",
       "  <th>Time:</th>              <td>14:29:08</td>     <th>  BIC                </th>  <td>644.999</td>\n",
       "</tr>\n",
       "<tr>\n",
       "  <th>Sample:</th>                <td>0</td>        <th>  HQIC               </th>  <td>639.496</td>\n",
       "</tr>\n",
       "<tr>\n",
       "  <th></th>                       <td> </td>        <th>                     </th>     <td> </td>   \n",
       "</tr>\n",
       "</table>\n",
       "<table class=\"simpletable\">\n",
       "<tr>\n",
       "       <td></td>          <th>coef</th>     <th>std err</th>      <th>z</th>      <th>P>|z|</th>  <th>[0.025</th>    <th>0.975]</th>  \n",
       "</tr>\n",
       "<tr>\n",
       "  <th>const</th>       <td> 3046.8764</td> <td>  248.295</td> <td>   12.271</td> <td> 0.000</td> <td> 2560.228</td> <td> 3533.525</td>\n",
       "</tr>\n",
       "<tr>\n",
       "  <th>ma.L1.Sales</th> <td>    1.6093</td> <td>    0.138</td> <td>   11.666</td> <td> 0.000</td> <td>    1.339</td> <td>    1.880</td>\n",
       "</tr>\n",
       "<tr>\n",
       "  <th>ma.L2.Sales</th> <td>    1.4046</td> <td>    0.209</td> <td>    6.726</td> <td> 0.000</td> <td>    0.995</td> <td>    1.814</td>\n",
       "</tr>\n",
       "<tr>\n",
       "  <th>ma.L3.Sales</th> <td>    0.3118</td> <td>    0.142</td> <td>    2.197</td> <td> 0.028</td> <td>    0.034</td> <td>    0.590</td>\n",
       "</tr>\n",
       "</table>\n",
       "<table class=\"simpletable\">\n",
       "<caption>Roots</caption>\n",
       "<tr>\n",
       "    <td></td>   <th>            Real</th>  <th>         Imaginary</th> <th>         Modulus</th>  <th>        Frequency</th>\n",
       "</tr>\n",
       "<tr>\n",
       "  <th>MA.1</th> <td>          -0.6487</td> <td>          -0.7610j</td> <td>           1.0000</td> <td>          -0.3624</td>\n",
       "</tr>\n",
       "<tr>\n",
       "  <th>MA.2</th> <td>          -0.6487</td> <td>          +0.7610j</td> <td>           1.0000</td> <td>           0.3624</td>\n",
       "</tr>\n",
       "<tr>\n",
       "  <th>MA.3</th> <td>          -3.2072</td> <td>          -0.0000j</td> <td>           3.2072</td> <td>          -0.5000</td>\n",
       "</tr>\n",
       "</table>"
      ],
      "text/plain": [
       "<class 'statsmodels.iolib.summary.Summary'>\n",
       "\"\"\"\n",
       "                              ARMA Model Results                              \n",
       "==============================================================================\n",
       "Dep. Variable:                  Sales   No. Observations:                   42\n",
       "Model:                     ARMA(0, 3)   Log Likelihood                -313.155\n",
       "Method:                       css-mle   S.D. of innovations            382.700\n",
       "Date:                Fri, 19 Aug 2022   AIC                            636.311\n",
       "Time:                        14:29:08   BIC                            644.999\n",
       "Sample:                             0   HQIC                           639.496\n",
       "                                                                              \n",
       "===============================================================================\n",
       "                  coef    std err          z      P>|z|      [0.025      0.975]\n",
       "-------------------------------------------------------------------------------\n",
       "const        3046.8764    248.295     12.271      0.000    2560.228    3533.525\n",
       "ma.L1.Sales     1.6093      0.138     11.666      0.000       1.339       1.880\n",
       "ma.L2.Sales     1.4046      0.209      6.726      0.000       0.995       1.814\n",
       "ma.L3.Sales     0.3118      0.142      2.197      0.028       0.034       0.590\n",
       "                                    Roots                                    \n",
       "=============================================================================\n",
       "                  Real          Imaginary           Modulus         Frequency\n",
       "-----------------------------------------------------------------------------\n",
       "MA.1           -0.6487           -0.7610j            1.0000           -0.3624\n",
       "MA.2           -0.6487           +0.7610j            1.0000            0.3624\n",
       "MA.3           -3.2072           -0.0000j            3.2072           -0.5000\n",
       "-----------------------------------------------------------------------------\n",
       "\"\"\""
      ]
     },
     "execution_count": 55,
     "metadata": {},
     "output_type": "execute_result"
    }
   ],
   "source": [
    "result_ma3.summary()"
   ]
  },
  {
   "cell_type": "code",
   "execution_count": 56,
   "id": "f6b15373",
   "metadata": {},
   "outputs": [
    {
     "data": {
      "text/plain": [
       "0.054"
      ]
     },
     "execution_count": 56,
     "metadata": {},
     "output_type": "execute_result"
    }
   ],
   "source": [
    "LLR_test(model_ma2,model_ma3)"
   ]
  },
  {
   "cell_type": "code",
   "execution_count": 58,
   "id": "d9c61a4b",
   "metadata": {},
   "outputs": [
    {
     "data": {
      "text/plain": [
       "(-2.5015370020337997,\n",
       " 0.11510080332405515,\n",
       " 3,\n",
       " 37,\n",
       " {'1%': -3.6209175221605827,\n",
       "  '5%': -2.9435394610388332,\n",
       "  '10%': -2.6104002410518627},\n",
       " 382.7850907828347)"
      ]
     },
     "execution_count": 58,
     "metadata": {},
     "output_type": "execute_result"
    }
   ],
   "source": [
    "d1 = diff(data['Sales'],k_diff=1)\n",
    "sts.adfuller(d1)"
   ]
  },
  {
   "cell_type": "code",
   "execution_count": 60,
   "id": "6ca9df69",
   "metadata": {},
   "outputs": [
    {
     "data": {
      "text/plain": [
       "(-27.63262494638169,\n",
       " 0.0,\n",
       " 2,\n",
       " 37,\n",
       " {'1%': -3.6209175221605827,\n",
       "  '5%': -2.9435394610388332,\n",
       "  '10%': -2.6104002410518627},\n",
       " 374.74616312273315)"
      ]
     },
     "execution_count": 60,
     "metadata": {},
     "output_type": "execute_result"
    }
   ],
   "source": [
    "d2 = diff(data['Sales'],k_diff=2)\n",
    "sts.adfuller(d2)"
   ]
  },
  {
   "cell_type": "code",
   "execution_count": 61,
   "id": "20b801fa",
   "metadata": {},
   "outputs": [
    {
     "data": {
      "text/plain": [
       "<AxesSubplot:>"
      ]
     },
     "execution_count": 61,
     "metadata": {},
     "output_type": "execute_result"
    },
    {
     "data": {
      "image/png": "[encoded data removed]",
      "text/plain": [
       "<Figure size 432x288 with 1 Axes>"
      ]
     },
     "metadata": {
      "needs_background": "light"
     },
     "output_type": "display_data"
    }
   ],
   "source": [
    "d2.plot()"
   ]
  },
  {
   "cell_type": "code",
   "execution_count": 91,
   "id": "cd348daa",
   "metadata": {},
   "outputs": [
    {
     "data": {
      "text/html": [
       "<table class=\"simpletable\">\n",
       "<caption>ARIMA Model Results</caption>\n",
       "<tr>\n",
       "  <th>Dep. Variable:</th>     <td>D2.Sales</td>     <th>  No. Observations:  </th>    <td>28</td>   \n",
       "</tr>\n",
       "<tr>\n",
       "  <th>Model:</th>          <td>ARIMA(2, 2, 4)</td>  <th>  Log Likelihood     </th> <td>-189.338</td>\n",
       "</tr>\n",
       "<tr>\n",
       "  <th>Method:</th>             <td>css-mle</td>     <th>  S.D. of innovations</th>  <td>162.687</td>\n",
       "</tr>\n",
       "<tr>\n",
       "  <th>Date:</th>          <td>Fri, 19 Aug 2022</td> <th>  AIC                </th>  <td>394.676</td>\n",
       "</tr>\n",
       "<tr>\n",
       "  <th>Time:</th>              <td>14:54:45</td>     <th>  BIC                </th>  <td>405.334</td>\n",
       "</tr>\n",
       "<tr>\n",
       "  <th>Sample:</th>                <td>2</td>        <th>  HQIC               </th>  <td>397.934</td>\n",
       "</tr>\n",
       "<tr>\n",
       "  <th></th>                       <td> </td>        <th>                     </th>     <td> </td>   \n",
       "</tr>\n",
       "</table>\n",
       "<table class=\"simpletable\">\n",
       "<tr>\n",
       "         <td></td>           <th>coef</th>     <th>std err</th>      <th>z</th>      <th>P>|z|</th>  <th>[0.025</th>    <th>0.975]</th>  \n",
       "</tr>\n",
       "<tr>\n",
       "  <th>const</th>          <td>    3.6521</td> <td>    4.687</td> <td>    0.779</td> <td> 0.436</td> <td>   -5.534</td> <td>   12.839</td>\n",
       "</tr>\n",
       "<tr>\n",
       "  <th>ar.L1.D2.Sales</th> <td>   -0.0080</td> <td>    0.050</td> <td>   -0.161</td> <td> 0.872</td> <td>   -0.106</td> <td>    0.089</td>\n",
       "</tr>\n",
       "<tr>\n",
       "  <th>ar.L2.D2.Sales</th> <td>   -0.9958</td> <td>    0.009</td> <td> -111.360</td> <td> 0.000</td> <td>   -1.013</td> <td>   -0.978</td>\n",
       "</tr>\n",
       "<tr>\n",
       "  <th>ma.L1.D2.Sales</th> <td>   -1.7226</td> <td>      nan</td> <td>      nan</td> <td>   nan</td> <td>      nan</td> <td>      nan</td>\n",
       "</tr>\n",
       "<tr>\n",
       "  <th>ma.L2.D2.Sales</th> <td>    1.7342</td> <td>    0.163</td> <td>   10.655</td> <td> 0.000</td> <td>    1.415</td> <td>    2.053</td>\n",
       "</tr>\n",
       "<tr>\n",
       "  <th>ma.L3.D2.Sales</th> <td>   -1.7188</td> <td>    0.346</td> <td>   -4.973</td> <td> 0.000</td> <td>   -2.396</td> <td>   -1.041</td>\n",
       "</tr>\n",
       "<tr>\n",
       "  <th>ma.L4.D2.Sales</th> <td>    0.9980</td> <td>      nan</td> <td>      nan</td> <td>   nan</td> <td>      nan</td> <td>      nan</td>\n",
       "</tr>\n",
       "</table>\n",
       "<table class=\"simpletable\">\n",
       "<caption>Roots</caption>\n",
       "<tr>\n",
       "    <td></td>   <th>            Real</th>  <th>         Imaginary</th> <th>         Modulus</th>  <th>        Frequency</th>\n",
       "</tr>\n",
       "<tr>\n",
       "  <th>AR.1</th> <td>          -0.0040</td> <td>          -1.0021j</td> <td>           1.0021</td> <td>          -0.2506</td>\n",
       "</tr>\n",
       "<tr>\n",
       "  <th>AR.2</th> <td>          -0.0040</td> <td>          +1.0021j</td> <td>           1.0021</td> <td>           0.2506</td>\n",
       "</tr>\n",
       "<tr>\n",
       "  <th>MA.1</th> <td>          -0.0709</td> <td>          -0.9985j</td> <td>           1.0010</td> <td>          -0.2613</td>\n",
       "</tr>\n",
       "<tr>\n",
       "  <th>MA.2</th> <td>          -0.0709</td> <td>          +0.9985j</td> <td>           1.0010</td> <td>           0.2613</td>\n",
       "</tr>\n",
       "<tr>\n",
       "  <th>MA.3</th> <td>           0.9320</td> <td>          -0.3624j</td> <td>           1.0000</td> <td>          -0.0590</td>\n",
       "</tr>\n",
       "<tr>\n",
       "  <th>MA.4</th> <td>           0.9320</td> <td>          +0.3624j</td> <td>           1.0000</td> <td>           0.0590</td>\n",
       "</tr>\n",
       "</table>"
      ],
      "text/plain": [
       "<class 'statsmodels.iolib.summary.Summary'>\n",
       "\"\"\"\n",
       "                             ARIMA Model Results                              \n",
       "==============================================================================\n",
       "Dep. Variable:               D2.Sales   No. Observations:                   28\n",
       "Model:                 ARIMA(2, 2, 4)   Log Likelihood                -189.338\n",
       "Method:                       css-mle   S.D. of innovations            162.687\n",
       "Date:                Fri, 19 Aug 2022   AIC                            394.676\n",
       "Time:                        14:54:45   BIC                            405.334\n",
       "Sample:                             2   HQIC                           397.934\n",
       "                                                                              \n",
       "==================================================================================\n",
       "                     coef    std err          z      P>|z|      [0.025      0.975]\n",
       "----------------------------------------------------------------------------------\n",
       "const              3.6521      4.687      0.779      0.436      -5.534      12.839\n",
       "ar.L1.D2.Sales    -0.0080      0.050     -0.161      0.872      -0.106       0.089\n",
       "ar.L2.D2.Sales    -0.9958      0.009   -111.360      0.000      -1.013      -0.978\n",
       "ma.L1.D2.Sales    -1.7226        nan        nan        nan         nan         nan\n",
       "ma.L2.D2.Sales     1.7342      0.163     10.655      0.000       1.415       2.053\n",
       "ma.L3.D2.Sales    -1.7188      0.346     -4.973      0.000      -2.396      -1.041\n",
       "ma.L4.D2.Sales     0.9980        nan        nan        nan         nan         nan\n",
       "                                    Roots                                    \n",
       "=============================================================================\n",
       "                  Real          Imaginary           Modulus         Frequency\n",
       "-----------------------------------------------------------------------------\n",
       "AR.1           -0.0040           -1.0021j            1.0021           -0.2506\n",
       "AR.2           -0.0040           +1.0021j            1.0021            0.2506\n",
       "MA.1           -0.0709           -0.9985j            1.0010           -0.2613\n",
       "MA.2           -0.0709           +0.9985j            1.0010            0.2613\n",
       "MA.3            0.9320           -0.3624j            1.0000           -0.0590\n",
       "MA.4            0.9320           +0.3624j            1.0000            0.0590\n",
       "-----------------------------------------------------------------------------\n",
       "\"\"\""
      ]
     },
     "execution_count": 91,
     "metadata": {},
     "output_type": "execute_result"
    }
   ],
   "source": [
    "model = ARIMA(train_data['Sales'],order=(2,2,4))\n",
    "results =model.fit()\n",
    "results.summary()"
   ]
  },
  {
   "cell_type": "code",
   "execution_count": 92,
   "id": "785c2b69",
   "metadata": {},
   "outputs": [],
   "source": [
    "pred_data = results.predict(30,41,dynamic=False,typ='levels')"
   ]
  },
  {
   "cell_type": "code",
   "execution_count": 93,
   "id": "d5709c77",
   "metadata": {},
   "outputs": [
    {
     "data": {
      "text/plain": [
       "30    3910.944983\n",
       "31    3565.601262\n",
       "32    3513.974966\n",
       "33    3973.681370\n",
       "34    4144.125826\n",
       "35    3815.033056\n",
       "36    3785.307124\n",
       "37    4257.927833\n",
       "38    4435.733094\n",
       "39    4122.993829\n",
       "40    4115.079339\n",
       "41    4600.512944\n",
       "dtype: float64"
      ]
     },
     "execution_count": 93,
     "metadata": {},
     "output_type": "execute_result"
    }
   ],
   "source": [
    "pred_data"
   ]
  },
  {
   "cell_type": "code",
   "execution_count": 94,
   "id": "f9e35237",
   "metadata": {},
   "outputs": [
    {
     "data": {
      "image/png": "[encoded data removed]",
      "text/plain": [
       "<Figure size 432x288 with 1 Axes>"
      ]
     },
     "metadata": {
      "needs_background": "light"
     },
     "output_type": "display_data"
    }
   ],
   "source": [
    "test_data['Sales'].plot()\n",
    "pred_data.plot();"
   ]
  },
  {
   "cell_type": "code",
   "execution_count": 98,
   "id": "69594b50",
   "metadata": {},
   "outputs": [],
   "source": [
    "final_model = ARIMA(data['Sales'],order=(2,2,4))\n",
    "model_fit = final_model.fit()"
   ]
  },
  {
   "cell_type": "code",
   "execution_count": 99,
   "id": "73fd1bd7",
   "metadata": {},
   "outputs": [
    {
     "data": {
      "text/plain": [
       "42    5642.863025\n",
       "43    5068.432397\n",
       "44    5120.355187\n",
       "45    6006.059081\n",
       "46    6229.289893\n",
       "47    5817.007926\n",
       "48    6098.300133\n",
       "49    6861.063937\n",
       "50    6951.329709\n",
       "51    6721.347876\n",
       "52    7149.255977\n",
       "53    7782.839091\n",
       "54    7814.741956\n",
       "dtype: float64"
      ]
     },
     "execution_count": 99,
     "metadata": {},
     "output_type": "execute_result"
    }
   ],
   "source": [
    "model_forcast = model_fit.predict(len(data),len(data)+12,typ='levels')\n",
    "model_forcast"
   ]
  },
  {
   "cell_type": "code",
   "execution_count": 101,
   "id": "b61a1447",
   "metadata": {},
   "outputs": [
    {
     "data": {
      "image/png": "[encoded data removed]",
      "text/plain": [
       "<Figure size 864x576 with 1 Axes>"
      ]
     },
     "metadata": {
      "needs_background": "light"
     },
     "output_type": "display_data"
    }
   ],
   "source": [
    "train_data.Sales.plot(legend=True,label='Train')\n",
    "test_data.Sales.plot(legend=True,label='Test')\n",
    "model_forcast.plot(legend=True,label='forecast',figsize=(12,8))\n",
    "plt.show();"
   ]
  },
  {
   "cell_type": "code",
   "execution_count": null,
   "id": "d9631ae2",
   "metadata": {},
   "outputs": [],
   "source": []
  },
  {
   "cell_type": "code",
   "execution_count": null,
   "id": "060e97ba",
   "metadata": {},
   "outputs": [],
   "source": []
  }
 ],
 "metadata": {
  "kernelspec": {
   "display_name": "Python 3 (ipykernel)",
   "language": "python",
   "name": "python3"
  },
  "language_info": {
   "codemirror_mode": {
    "name": "ipython",
    "version": 3
   },
   "file_extension": ".py",
   "mimetype": "text/x-python",
   "name": "python",
   "nbconvert_exporter": "python",
   "pygments_lexer": "ipython3",
   "version": "3.9.7"
  }
 },
 "nbformat": 4,
 "nbformat_minor": 5
}
